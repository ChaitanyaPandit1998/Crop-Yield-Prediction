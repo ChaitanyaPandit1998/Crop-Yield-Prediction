{
 "cells": [
  {
   "cell_type": "code",
   "execution_count": 34,
   "metadata": {},
   "outputs": [],
   "source": [
    "import pandas as pd\n",
    "import numpy as np\n",
    "import pickle"
   ]
  },
  {
   "cell_type": "code",
   "execution_count": 2,
   "metadata": {},
   "outputs": [],
   "source": [
    "total_crop_dataset = pd.read_csv('../crop_production.csv')"
   ]
  },
  {
   "cell_type": "code",
   "execution_count": 3,
   "metadata": {},
   "outputs": [],
   "source": [
    "madhya_pradesh = total_crop_dataset[total_crop_dataset['State_Name']=='Madhya Pradesh']"
   ]
  },
  {
   "cell_type": "code",
   "execution_count": 4,
   "metadata": {},
   "outputs": [
    {
     "data": {
      "text/html": [
       "<div>\n",
       "<style scoped>\n",
       "    .dataframe tbody tr th:only-of-type {\n",
       "        vertical-align: middle;\n",
       "    }\n",
       "\n",
       "    .dataframe tbody tr th {\n",
       "        vertical-align: top;\n",
       "    }\n",
       "\n",
       "    .dataframe thead th {\n",
       "        text-align: right;\n",
       "    }\n",
       "</style>\n",
       "<table border=\"1\" class=\"dataframe\">\n",
       "  <thead>\n",
       "    <tr style=\"text-align: right;\">\n",
       "      <th></th>\n",
       "      <th>State_Name</th>\n",
       "      <th>District_Name</th>\n",
       "      <th>Crop_Year</th>\n",
       "      <th>Season</th>\n",
       "      <th>Crop</th>\n",
       "      <th>Area</th>\n",
       "      <th>Production</th>\n",
       "    </tr>\n",
       "  </thead>\n",
       "  <tbody>\n",
       "    <tr>\n",
       "      <th>102248</th>\n",
       "      <td>Madhya Pradesh</td>\n",
       "      <td>AGAR MALWA</td>\n",
       "      <td>2013</td>\n",
       "      <td>Kharif</td>\n",
       "      <td>Arhar/Tur</td>\n",
       "      <td>1834.0</td>\n",
       "      <td>739.0</td>\n",
       "    </tr>\n",
       "    <tr>\n",
       "      <th>102249</th>\n",
       "      <td>Madhya Pradesh</td>\n",
       "      <td>AGAR MALWA</td>\n",
       "      <td>2013</td>\n",
       "      <td>Kharif</td>\n",
       "      <td>Bajra</td>\n",
       "      <td>5.0</td>\n",
       "      <td>4.0</td>\n",
       "    </tr>\n",
       "    <tr>\n",
       "      <th>102250</th>\n",
       "      <td>Madhya Pradesh</td>\n",
       "      <td>AGAR MALWA</td>\n",
       "      <td>2013</td>\n",
       "      <td>Kharif</td>\n",
       "      <td>Barley</td>\n",
       "      <td>286.0</td>\n",
       "      <td>466.0</td>\n",
       "    </tr>\n",
       "    <tr>\n",
       "      <th>102251</th>\n",
       "      <td>Madhya Pradesh</td>\n",
       "      <td>AGAR MALWA</td>\n",
       "      <td>2013</td>\n",
       "      <td>Kharif</td>\n",
       "      <td>Groundnut</td>\n",
       "      <td>1077.0</td>\n",
       "      <td>1138.0</td>\n",
       "    </tr>\n",
       "    <tr>\n",
       "      <th>102252</th>\n",
       "      <td>Madhya Pradesh</td>\n",
       "      <td>AGAR MALWA</td>\n",
       "      <td>2013</td>\n",
       "      <td>Kharif</td>\n",
       "      <td>Jowar</td>\n",
       "      <td>2750.0</td>\n",
       "      <td>3347.0</td>\n",
       "    </tr>\n",
       "  </tbody>\n",
       "</table>\n",
       "</div>"
      ],
      "text/plain": [
       "            State_Name District_Name  Crop_Year       Season       Crop  \\\n",
       "102248  Madhya Pradesh    AGAR MALWA       2013  Kharif       Arhar/Tur   \n",
       "102249  Madhya Pradesh    AGAR MALWA       2013  Kharif           Bajra   \n",
       "102250  Madhya Pradesh    AGAR MALWA       2013  Kharif          Barley   \n",
       "102251  Madhya Pradesh    AGAR MALWA       2013  Kharif       Groundnut   \n",
       "102252  Madhya Pradesh    AGAR MALWA       2013  Kharif           Jowar   \n",
       "\n",
       "          Area  Production  \n",
       "102248  1834.0       739.0  \n",
       "102249     5.0         4.0  \n",
       "102250   286.0       466.0  \n",
       "102251  1077.0      1138.0  \n",
       "102252  2750.0      3347.0  "
      ]
     },
     "execution_count": 4,
     "metadata": {},
     "output_type": "execute_result"
    }
   ],
   "source": [
    "madhya_pradesh.head()"
   ]
  },
  {
   "cell_type": "code",
   "execution_count": 5,
   "metadata": {},
   "outputs": [
    {
     "name": "stdout",
     "output_type": "stream",
     "text": [
      "<class 'pandas.core.frame.DataFrame'>\n",
      "Int64Index: 22943 entries, 102248 to 125190\n",
      "Data columns (total 7 columns):\n",
      " #   Column         Non-Null Count  Dtype  \n",
      "---  ------         --------------  -----  \n",
      " 0   State_Name     22943 non-null  object \n",
      " 1   District_Name  22943 non-null  object \n",
      " 2   Crop_Year      22943 non-null  int64  \n",
      " 3   Season         22943 non-null  object \n",
      " 4   Crop           22943 non-null  object \n",
      " 5   Area           22943 non-null  float64\n",
      " 6   Production     22604 non-null  float64\n",
      "dtypes: float64(2), int64(1), object(4)\n",
      "memory usage: 1.4+ MB\n"
     ]
    }
   ],
   "source": [
    "madhya_pradesh.info()"
   ]
  },
  {
   "cell_type": "code",
   "execution_count": 6,
   "metadata": {},
   "outputs": [
    {
     "data": {
      "text/plain": [
       "State_Name         0\n",
       "District_Name      0\n",
       "Crop_Year          0\n",
       "Season             0\n",
       "Crop               0\n",
       "Area               0\n",
       "Production       339\n",
       "dtype: int64"
      ]
     },
     "execution_count": 6,
     "metadata": {},
     "output_type": "execute_result"
    }
   ],
   "source": [
    "madhya_pradesh.isnull().sum()"
   ]
  },
  {
   "cell_type": "code",
   "execution_count": 7,
   "metadata": {},
   "outputs": [],
   "source": [
    "madhya_pradesh = madhya_pradesh.dropna()"
   ]
  },
  {
   "cell_type": "code",
   "execution_count": 8,
   "metadata": {},
   "outputs": [
    {
     "data": {
      "text/plain": [
       "State_Name       0\n",
       "District_Name    0\n",
       "Crop_Year        0\n",
       "Season           0\n",
       "Crop             0\n",
       "Area             0\n",
       "Production       0\n",
       "dtype: int64"
      ]
     },
     "execution_count": 8,
     "metadata": {},
     "output_type": "execute_result"
    }
   ],
   "source": [
    "madhya_pradesh.isnull().sum()"
   ]
  },
  {
   "cell_type": "code",
   "execution_count": 9,
   "metadata": {},
   "outputs": [
    {
     "data": {
      "text/plain": [
       "array(['AGAR MALWA', 'ALIRAJPUR', 'ANUPPUR', 'ASHOKNAGAR', 'BALAGHAT',\n",
       "       'BARWANI', 'BETUL', 'BHIND', 'BHOPAL', 'BURHANPUR', 'CHHATARPUR',\n",
       "       'CHHINDWARA', 'DAMOH', 'DATIA', 'DEWAS', 'DHAR', 'DINDORI', 'GUNA',\n",
       "       'GWALIOR', 'HARDA', 'HOSHANGABAD', 'INDORE', 'JABALPUR', 'JHABUA',\n",
       "       'KATNI', 'KHANDWA', 'KHARGONE', 'MANDLA', 'MANDSAUR', 'MORENA',\n",
       "       'NARSINGHPUR', 'NEEMUCH', 'PANNA', 'RAISEN', 'RAJGARH', 'RATLAM',\n",
       "       'REWA', 'SAGAR', 'SATNA', 'SEHORE', 'SEONI', 'SHAHDOL', 'SHAJAPUR',\n",
       "       'SHEOPUR', 'SHIVPURI', 'SIDHI', 'SINGRAULI', 'TIKAMGARH', 'UJJAIN',\n",
       "       'UMARIA', 'VIDISHA'], dtype=object)"
      ]
     },
     "execution_count": 9,
     "metadata": {},
     "output_type": "execute_result"
    }
   ],
   "source": [
    "madhya_pradesh['District_Name'].unique()"
   ]
  },
  {
   "cell_type": "code",
   "execution_count": 10,
   "metadata": {},
   "outputs": [
    {
     "data": {
      "text/plain": [
       "51"
      ]
     },
     "execution_count": 10,
     "metadata": {},
     "output_type": "execute_result"
    }
   ],
   "source": [
    "madhya_pradesh['District_Name'].nunique()"
   ]
  },
  {
   "cell_type": "code",
   "execution_count": 11,
   "metadata": {},
   "outputs": [],
   "source": [
    "madhya_pradesh_filtered = madhya_pradesh[\n",
    "    (madhya_pradesh['Crop']=='Wheat') | \n",
    "    (madhya_pradesh['Crop']=='Rice')  |\n",
    "    (madhya_pradesh['Crop']=='Jowar')  |\n",
    "    (madhya_pradesh['Crop']=='Bajra')  |\n",
    "    (madhya_pradesh['Crop']=='Cardamom')  |\n",
    "    (madhya_pradesh['Crop']=='Garlic')  |\n",
    "    (madhya_pradesh['Crop']=='Turmeric')  |\n",
    "    (madhya_pradesh['Crop']=='Ginger')  |\n",
    "    (madhya_pradesh['Crop']=='Cotton(lint)')  |\n",
    "    (madhya_pradesh['Crop']=='Linseed')  |\n",
    "    (madhya_pradesh['Crop']=='Sesamum')  |\n",
    "    (madhya_pradesh['Crop']=='Coconut ')  |\n",
    "    (madhya_pradesh['Crop']=='Onion')  |\n",
    "    (madhya_pradesh['Crop']=='Arhar/Tur')  |\n",
    "    (madhya_pradesh['Crop']=='Potato')  |\n",
    "    (madhya_pradesh['Crop']=='Maize')  \n",
    "]"
   ]
  },
  {
   "cell_type": "code",
   "execution_count": 12,
   "metadata": {},
   "outputs": [
    {
     "name": "stdout",
     "output_type": "stream",
     "text": [
      "<class 'pandas.core.frame.DataFrame'>\n",
      "Int64Index: 9002 entries, 102248 to 125188\n",
      "Data columns (total 7 columns):\n",
      " #   Column         Non-Null Count  Dtype  \n",
      "---  ------         --------------  -----  \n",
      " 0   State_Name     9002 non-null   object \n",
      " 1   District_Name  9002 non-null   object \n",
      " 2   Crop_Year      9002 non-null   int64  \n",
      " 3   Season         9002 non-null   object \n",
      " 4   Crop           9002 non-null   object \n",
      " 5   Area           9002 non-null   float64\n",
      " 6   Production     9002 non-null   float64\n",
      "dtypes: float64(2), int64(1), object(4)\n",
      "memory usage: 562.6+ KB\n"
     ]
    }
   ],
   "source": [
    "madhya_pradesh_filtered.info()"
   ]
  },
  {
   "cell_type": "code",
   "execution_count": 13,
   "metadata": {},
   "outputs": [],
   "source": [
    "madhya_pradesh_filtered_ohe = pd.get_dummies(madhya_pradesh_filtered, columns=['District_Name', 'Season','Crop'],drop_first=True)"
   ]
  },
  {
   "cell_type": "code",
   "execution_count": 14,
   "metadata": {},
   "outputs": [
    {
     "data": {
      "text/html": [
       "<div>\n",
       "<style scoped>\n",
       "    .dataframe tbody tr th:only-of-type {\n",
       "        vertical-align: middle;\n",
       "    }\n",
       "\n",
       "    .dataframe tbody tr th {\n",
       "        vertical-align: top;\n",
       "    }\n",
       "\n",
       "    .dataframe thead th {\n",
       "        text-align: right;\n",
       "    }\n",
       "</style>\n",
       "<table border=\"1\" class=\"dataframe\">\n",
       "  <thead>\n",
       "    <tr style=\"text-align: right;\">\n",
       "      <th></th>\n",
       "      <th>State_Name</th>\n",
       "      <th>Crop_Year</th>\n",
       "      <th>Area</th>\n",
       "      <th>Production</th>\n",
       "      <th>District_Name_ALIRAJPUR</th>\n",
       "      <th>District_Name_ANUPPUR</th>\n",
       "      <th>District_Name_ASHOKNAGAR</th>\n",
       "      <th>District_Name_BALAGHAT</th>\n",
       "      <th>District_Name_BARWANI</th>\n",
       "      <th>District_Name_BETUL</th>\n",
       "      <th>...</th>\n",
       "      <th>Crop_Garlic</th>\n",
       "      <th>Crop_Jowar</th>\n",
       "      <th>Crop_Linseed</th>\n",
       "      <th>Crop_Maize</th>\n",
       "      <th>Crop_Onion</th>\n",
       "      <th>Crop_Potato</th>\n",
       "      <th>Crop_Rice</th>\n",
       "      <th>Crop_Sesamum</th>\n",
       "      <th>Crop_Turmeric</th>\n",
       "      <th>Crop_Wheat</th>\n",
       "    </tr>\n",
       "  </thead>\n",
       "  <tbody>\n",
       "    <tr>\n",
       "      <th>102248</th>\n",
       "      <td>Madhya Pradesh</td>\n",
       "      <td>2013</td>\n",
       "      <td>1834.0</td>\n",
       "      <td>739.0</td>\n",
       "      <td>0</td>\n",
       "      <td>0</td>\n",
       "      <td>0</td>\n",
       "      <td>0</td>\n",
       "      <td>0</td>\n",
       "      <td>0</td>\n",
       "      <td>...</td>\n",
       "      <td>0</td>\n",
       "      <td>0</td>\n",
       "      <td>0</td>\n",
       "      <td>0</td>\n",
       "      <td>0</td>\n",
       "      <td>0</td>\n",
       "      <td>0</td>\n",
       "      <td>0</td>\n",
       "      <td>0</td>\n",
       "      <td>0</td>\n",
       "    </tr>\n",
       "    <tr>\n",
       "      <th>102249</th>\n",
       "      <td>Madhya Pradesh</td>\n",
       "      <td>2013</td>\n",
       "      <td>5.0</td>\n",
       "      <td>4.0</td>\n",
       "      <td>0</td>\n",
       "      <td>0</td>\n",
       "      <td>0</td>\n",
       "      <td>0</td>\n",
       "      <td>0</td>\n",
       "      <td>0</td>\n",
       "      <td>...</td>\n",
       "      <td>0</td>\n",
       "      <td>0</td>\n",
       "      <td>0</td>\n",
       "      <td>0</td>\n",
       "      <td>0</td>\n",
       "      <td>0</td>\n",
       "      <td>0</td>\n",
       "      <td>0</td>\n",
       "      <td>0</td>\n",
       "      <td>0</td>\n",
       "    </tr>\n",
       "    <tr>\n",
       "      <th>102252</th>\n",
       "      <td>Madhya Pradesh</td>\n",
       "      <td>2013</td>\n",
       "      <td>2750.0</td>\n",
       "      <td>3347.0</td>\n",
       "      <td>0</td>\n",
       "      <td>0</td>\n",
       "      <td>0</td>\n",
       "      <td>0</td>\n",
       "      <td>0</td>\n",
       "      <td>0</td>\n",
       "      <td>...</td>\n",
       "      <td>0</td>\n",
       "      <td>1</td>\n",
       "      <td>0</td>\n",
       "      <td>0</td>\n",
       "      <td>0</td>\n",
       "      <td>0</td>\n",
       "      <td>0</td>\n",
       "      <td>0</td>\n",
       "      <td>0</td>\n",
       "      <td>0</td>\n",
       "    </tr>\n",
       "    <tr>\n",
       "      <th>102253</th>\n",
       "      <td>Madhya Pradesh</td>\n",
       "      <td>2013</td>\n",
       "      <td>15270.0</td>\n",
       "      <td>16578.0</td>\n",
       "      <td>0</td>\n",
       "      <td>0</td>\n",
       "      <td>0</td>\n",
       "      <td>0</td>\n",
       "      <td>0</td>\n",
       "      <td>0</td>\n",
       "      <td>...</td>\n",
       "      <td>0</td>\n",
       "      <td>0</td>\n",
       "      <td>0</td>\n",
       "      <td>1</td>\n",
       "      <td>0</td>\n",
       "      <td>0</td>\n",
       "      <td>0</td>\n",
       "      <td>0</td>\n",
       "      <td>0</td>\n",
       "      <td>0</td>\n",
       "    </tr>\n",
       "    <tr>\n",
       "      <th>102256</th>\n",
       "      <td>Madhya Pradesh</td>\n",
       "      <td>2013</td>\n",
       "      <td>2.0</td>\n",
       "      <td>1.0</td>\n",
       "      <td>0</td>\n",
       "      <td>0</td>\n",
       "      <td>0</td>\n",
       "      <td>0</td>\n",
       "      <td>0</td>\n",
       "      <td>0</td>\n",
       "      <td>...</td>\n",
       "      <td>0</td>\n",
       "      <td>0</td>\n",
       "      <td>0</td>\n",
       "      <td>0</td>\n",
       "      <td>0</td>\n",
       "      <td>0</td>\n",
       "      <td>1</td>\n",
       "      <td>0</td>\n",
       "      <td>0</td>\n",
       "      <td>0</td>\n",
       "    </tr>\n",
       "  </tbody>\n",
       "</table>\n",
       "<p>5 rows × 68 columns</p>\n",
       "</div>"
      ],
      "text/plain": [
       "            State_Name  Crop_Year     Area  Production  \\\n",
       "102248  Madhya Pradesh       2013   1834.0       739.0   \n",
       "102249  Madhya Pradesh       2013      5.0         4.0   \n",
       "102252  Madhya Pradesh       2013   2750.0      3347.0   \n",
       "102253  Madhya Pradesh       2013  15270.0     16578.0   \n",
       "102256  Madhya Pradesh       2013      2.0         1.0   \n",
       "\n",
       "        District_Name_ALIRAJPUR  District_Name_ANUPPUR  \\\n",
       "102248                        0                      0   \n",
       "102249                        0                      0   \n",
       "102252                        0                      0   \n",
       "102253                        0                      0   \n",
       "102256                        0                      0   \n",
       "\n",
       "        District_Name_ASHOKNAGAR  District_Name_BALAGHAT  \\\n",
       "102248                         0                       0   \n",
       "102249                         0                       0   \n",
       "102252                         0                       0   \n",
       "102253                         0                       0   \n",
       "102256                         0                       0   \n",
       "\n",
       "        District_Name_BARWANI  District_Name_BETUL  ...  Crop_Garlic  \\\n",
       "102248                      0                    0  ...            0   \n",
       "102249                      0                    0  ...            0   \n",
       "102252                      0                    0  ...            0   \n",
       "102253                      0                    0  ...            0   \n",
       "102256                      0                    0  ...            0   \n",
       "\n",
       "        Crop_Jowar  Crop_Linseed  Crop_Maize  Crop_Onion  Crop_Potato  \\\n",
       "102248           0             0           0           0            0   \n",
       "102249           0             0           0           0            0   \n",
       "102252           1             0           0           0            0   \n",
       "102253           0             0           1           0            0   \n",
       "102256           0             0           0           0            0   \n",
       "\n",
       "        Crop_Rice  Crop_Sesamum  Crop_Turmeric  Crop_Wheat  \n",
       "102248          0             0              0           0  \n",
       "102249          0             0              0           0  \n",
       "102252          0             0              0           0  \n",
       "102253          0             0              0           0  \n",
       "102256          1             0              0           0  \n",
       "\n",
       "[5 rows x 68 columns]"
      ]
     },
     "execution_count": 14,
     "metadata": {},
     "output_type": "execute_result"
    }
   ],
   "source": [
    "madhya_pradesh_filtered_ohe.head()"
   ]
  },
  {
   "cell_type": "code",
   "execution_count": 37,
   "metadata": {},
   "outputs": [
    {
     "data": {
      "text/html": [
       "<div>\n",
       "<style scoped>\n",
       "    .dataframe tbody tr th:only-of-type {\n",
       "        vertical-align: middle;\n",
       "    }\n",
       "\n",
       "    .dataframe tbody tr th {\n",
       "        vertical-align: top;\n",
       "    }\n",
       "\n",
       "    .dataframe thead th {\n",
       "        text-align: right;\n",
       "    }\n",
       "</style>\n",
       "<table border=\"1\" class=\"dataframe\">\n",
       "  <thead>\n",
       "    <tr style=\"text-align: right;\">\n",
       "      <th></th>\n",
       "      <th>102253</th>\n",
       "    </tr>\n",
       "  </thead>\n",
       "  <tbody>\n",
       "    <tr>\n",
       "      <th>State_Name</th>\n",
       "      <td>Madhya Pradesh</td>\n",
       "    </tr>\n",
       "    <tr>\n",
       "      <th>Crop_Year</th>\n",
       "      <td>2013</td>\n",
       "    </tr>\n",
       "    <tr>\n",
       "      <th>Area</th>\n",
       "      <td>15270</td>\n",
       "    </tr>\n",
       "    <tr>\n",
       "      <th>Production</th>\n",
       "      <td>16578</td>\n",
       "    </tr>\n",
       "    <tr>\n",
       "      <th>District_Name_ALIRAJPUR</th>\n",
       "      <td>0</td>\n",
       "    </tr>\n",
       "    <tr>\n",
       "      <th>...</th>\n",
       "      <td>...</td>\n",
       "    </tr>\n",
       "    <tr>\n",
       "      <th>Crop_Potato</th>\n",
       "      <td>0</td>\n",
       "    </tr>\n",
       "    <tr>\n",
       "      <th>Crop_Rice</th>\n",
       "      <td>0</td>\n",
       "    </tr>\n",
       "    <tr>\n",
       "      <th>Crop_Sesamum</th>\n",
       "      <td>0</td>\n",
       "    </tr>\n",
       "    <tr>\n",
       "      <th>Crop_Turmeric</th>\n",
       "      <td>0</td>\n",
       "    </tr>\n",
       "    <tr>\n",
       "      <th>Crop_Wheat</th>\n",
       "      <td>0</td>\n",
       "    </tr>\n",
       "  </tbody>\n",
       "</table>\n",
       "<p>68 rows × 1 columns</p>\n",
       "</div>"
      ],
      "text/plain": [
       "                                 102253\n",
       "State_Name               Madhya Pradesh\n",
       "Crop_Year                          2013\n",
       "Area                              15270\n",
       "Production                        16578\n",
       "District_Name_ALIRAJPUR               0\n",
       "...                                 ...\n",
       "Crop_Potato                           0\n",
       "Crop_Rice                             0\n",
       "Crop_Sesamum                          0\n",
       "Crop_Turmeric                         0\n",
       "Crop_Wheat                            0\n",
       "\n",
       "[68 rows x 1 columns]"
      ]
     },
     "execution_count": 37,
     "metadata": {},
     "output_type": "execute_result"
    }
   ],
   "source": [
    "madhya_pradesh_filtered_ohe[(madhya_pradesh_filtered_ohe['Area']==15270.)].transpose()"
   ]
  },
  {
   "cell_type": "code",
   "execution_count": 33,
   "metadata": {},
   "outputs": [
    {
     "data": {
      "text/plain": [
       "Index(['State_Name', 'Crop_Year', 'Area', 'Production',\n",
       "       'District_Name_ALIRAJPUR', 'District_Name_ANUPPUR',\n",
       "       'District_Name_ASHOKNAGAR', 'District_Name_BALAGHAT',\n",
       "       'District_Name_BARWANI', 'District_Name_BETUL', 'District_Name_BHIND',\n",
       "       'District_Name_BHOPAL', 'District_Name_BURHANPUR',\n",
       "       'District_Name_CHHATARPUR', 'District_Name_CHHINDWARA',\n",
       "       'District_Name_DAMOH', 'District_Name_DATIA', 'District_Name_DEWAS',\n",
       "       'District_Name_DHAR', 'District_Name_DINDORI', 'District_Name_GUNA',\n",
       "       'District_Name_GWALIOR', 'District_Name_HARDA',\n",
       "       'District_Name_HOSHANGABAD', 'District_Name_INDORE',\n",
       "       'District_Name_JABALPUR', 'District_Name_JHABUA', 'District_Name_KATNI',\n",
       "       'District_Name_KHANDWA', 'District_Name_KHARGONE',\n",
       "       'District_Name_MANDLA', 'District_Name_MANDSAUR',\n",
       "       'District_Name_MORENA', 'District_Name_NARSINGHPUR',\n",
       "       'District_Name_NEEMUCH', 'District_Name_PANNA', 'District_Name_RAISEN',\n",
       "       'District_Name_RAJGARH', 'District_Name_RATLAM', 'District_Name_REWA',\n",
       "       'District_Name_SAGAR', 'District_Name_SATNA', 'District_Name_SEHORE',\n",
       "       'District_Name_SEONI', 'District_Name_SHAHDOL',\n",
       "       'District_Name_SHAJAPUR', 'District_Name_SHEOPUR',\n",
       "       'District_Name_SHIVPURI', 'District_Name_SIDHI',\n",
       "       'District_Name_SINGRAULI', 'District_Name_TIKAMGARH',\n",
       "       'District_Name_UJJAIN', 'District_Name_UMARIA', 'District_Name_VIDISHA',\n",
       "       'Season_Rabi       ', 'Season_Whole Year ', 'Crop_Bajra',\n",
       "       'Crop_Cotton(lint)', 'Crop_Garlic', 'Crop_Jowar', 'Crop_Linseed',\n",
       "       'Crop_Maize', 'Crop_Onion', 'Crop_Potato', 'Crop_Rice', 'Crop_Sesamum',\n",
       "       'Crop_Turmeric', 'Crop_Wheat'],\n",
       "      dtype='object')"
      ]
     },
     "execution_count": 33,
     "metadata": {},
     "output_type": "execute_result"
    }
   ],
   "source": [
    "madhya_pradesh_filtered_ohe.columns"
   ]
  },
  {
   "cell_type": "code",
   "execution_count": 15,
   "metadata": {},
   "outputs": [
    {
     "data": {
      "text/plain": [
       "State_Name                 0\n",
       "Crop_Year                  0\n",
       "Area                       0\n",
       "Production                 0\n",
       "District_Name_ALIRAJPUR    0\n",
       "                          ..\n",
       "Crop_Potato                0\n",
       "Crop_Rice                  0\n",
       "Crop_Sesamum               0\n",
       "Crop_Turmeric              0\n",
       "Crop_Wheat                 0\n",
       "Length: 68, dtype: int64"
      ]
     },
     "execution_count": 15,
     "metadata": {},
     "output_type": "execute_result"
    }
   ],
   "source": [
    "madhya_pradesh_filtered_ohe.isnull().sum()"
   ]
  },
  {
   "cell_type": "code",
   "execution_count": 16,
   "metadata": {},
   "outputs": [],
   "source": [
    "X = madhya_pradesh_filtered_ohe.drop(['State_Name','Crop_Year','Production'],axis=1).values"
   ]
  },
  {
   "cell_type": "code",
   "execution_count": 17,
   "metadata": {},
   "outputs": [],
   "source": [
    "y = madhya_pradesh_filtered_ohe.iloc[:,3].values"
   ]
  },
  {
   "cell_type": "code",
   "execution_count": 18,
   "metadata": {},
   "outputs": [
    {
     "data": {
      "text/plain": [
       "array([ 739.,    4., 3347., ..., 1562., 2561.,  124.])"
      ]
     },
     "execution_count": 18,
     "metadata": {},
     "output_type": "execute_result"
    }
   ],
   "source": [
    "y"
   ]
  },
  {
   "cell_type": "code",
   "execution_count": 19,
   "metadata": {},
   "outputs": [],
   "source": [
    "from sklearn.model_selection import train_test_split"
   ]
  },
  {
   "cell_type": "code",
   "execution_count": 20,
   "metadata": {},
   "outputs": [],
   "source": [
    "X_train, X_test, y_train, y_test = train_test_split(X, y, test_size=0.3)"
   ]
  },
  {
   "cell_type": "code",
   "execution_count": 21,
   "metadata": {},
   "outputs": [],
   "source": [
    "from sklearn.linear_model import LinearRegression,Lasso\n",
    "linear_regression = LinearRegression()\n",
    "lasso = Lasso()"
   ]
  },
  {
   "cell_type": "code",
   "execution_count": 22,
   "metadata": {},
   "outputs": [
    {
     "name": "stderr",
     "output_type": "stream",
     "text": [
      "C:\\Users\\CHATANAYA\\Anaconda3\\lib\\site-packages\\sklearn\\linear_model\\_coordinate_descent.py:531: ConvergenceWarning: Objective did not converge. You might want to increase the number of iterations. Duality gap: 83531839498.90918, tolerance: 3239557637.443184\n",
      "  positive)\n"
     ]
    },
    {
     "data": {
      "text/plain": [
       "Lasso()"
      ]
     },
     "execution_count": 22,
     "metadata": {},
     "output_type": "execute_result"
    }
   ],
   "source": [
    "linear_regression.fit(X_train,y_train)\n",
    "lasso.fit(X_train,y_train)"
   ]
  },
  {
   "cell_type": "code",
   "execution_count": 23,
   "metadata": {},
   "outputs": [],
   "source": [
    "from sklearn.ensemble import RandomForestRegressor\n",
    "rfregressor = RandomForestRegressor()"
   ]
  },
  {
   "cell_type": "code",
   "execution_count": 24,
   "metadata": {},
   "outputs": [
    {
     "data": {
      "text/plain": [
       "RandomForestRegressor()"
      ]
     },
     "execution_count": 24,
     "metadata": {},
     "output_type": "execute_result"
    }
   ],
   "source": [
    "rfregressor.fit(X_train,y_train)"
   ]
  },
  {
   "cell_type": "code",
   "execution_count": 25,
   "metadata": {},
   "outputs": [],
   "source": [
    "y_pred = rfregressor.predict(X_test)"
   ]
  },
  {
   "cell_type": "code",
   "execution_count": 26,
   "metadata": {},
   "outputs": [
    {
     "name": "stdout",
     "output_type": "stream",
     "text": [
      "87.23471997572943 %\n"
     ]
    }
   ],
   "source": [
    "accuracy = rfregressor.score(X_test,y_test)\n",
    "print(accuracy*100,'%')"
   ]
  },
  {
   "cell_type": "code",
   "execution_count": 27,
   "metadata": {},
   "outputs": [
    {
     "name": "stdout",
     "output_type": "stream",
     "text": [
      "77.81701253864362 %\n"
     ]
    }
   ],
   "source": [
    "accuracy = linear_regression.score(X_test,y_test)\n",
    "print(accuracy*100,'%')"
   ]
  },
  {
   "cell_type": "code",
   "execution_count": 28,
   "metadata": {},
   "outputs": [
    {
     "name": "stdout",
     "output_type": "stream",
     "text": [
      "77.81509112568827 %\n"
     ]
    }
   ],
   "source": [
    "accuracy = lasso.score(X_test,y_test)\n",
    "print(accuracy*100,'%')"
   ]
  },
  {
   "cell_type": "code",
   "execution_count": 35,
   "metadata": {},
   "outputs": [
    {
     "data": {
      "text/plain": [
       "0.8723471997572944"
      ]
     },
     "execution_count": 35,
     "metadata": {},
     "output_type": "execute_result"
    }
   ],
   "source": [
    "filename = 'Madhya_Pradesh_Model.sav'\n",
    "pickle.dump(rfregressor, open(filename, 'wb'))\n",
    " \n",
    "# load the model from disk\n",
    "loaded_model = pickle.load(open(filename, 'rb'))\n",
    "result = loaded_model.score(X_test, y_test)\n",
    "result"
   ]
  },
  {
   "cell_type": "code",
   "execution_count": 29,
   "metadata": {},
   "outputs": [],
   "source": [
    "from sklearn.model_selection import cross_val_score"
   ]
  },
  {
   "cell_type": "code",
   "execution_count": 30,
   "metadata": {},
   "outputs": [],
   "source": [
    "#cross_val_score(RandomForestRegressor(),X,y,cv=5)"
   ]
  },
  {
   "cell_type": "code",
   "execution_count": 31,
   "metadata": {},
   "outputs": [],
   "source": [
    "import matplotlib.pyplot as plt\n",
    "%matplotlib inline"
   ]
  },
  {
   "cell_type": "code",
   "execution_count": 32,
   "metadata": {},
   "outputs": [
    {
     "data": {
      "text/plain": [
       "[<matplotlib.lines.Line2D at 0x209d230dfd0>]"
      ]
     },
     "execution_count": 32,
     "metadata": {},
     "output_type": "execute_result"
    },
    {
     "data": {
      "image/png": "[encoded data removed]",
      "text/plain": [
       "<Figure size 1152x432 with 1 Axes>"
      ]
     },
     "metadata": {
      "needs_background": "light"
     },
     "output_type": "display_data"
    }
   ],
   "source": [
    "plt.figure(figsize=(16,6))\n",
    "plt.plot(y_test,color='blue')\n",
    "plt.plot(y_pred,color='orange')"
   ]
  },
  {
   "cell_type": "code",
   "execution_count": null,
   "metadata": {},
   "outputs": [],
   "source": []
  }
 ],
 "metadata": {
  "kernelspec": {
   "display_name": "Python 3",
   "language": "python",
   "name": "python3"
  },
  "language_info": {
   "codemirror_mode": {
    "name": "ipython",
    "version": 3
   },
   "file_extension": ".py",
   "mimetype": "text/x-python",
   "name": "python",
   "nbconvert_exporter": "python",
   "pygments_lexer": "ipython3",
   "version": "3.7.1"
  }
 },
 "nbformat": 4,
 "nbformat_minor": 4
}

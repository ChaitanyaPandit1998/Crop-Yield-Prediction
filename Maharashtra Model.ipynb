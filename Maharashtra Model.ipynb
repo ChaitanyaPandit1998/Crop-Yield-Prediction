{
 "cells": [
  {
   "cell_type": "code",
   "execution_count": 1,
   "metadata": {},
   "outputs": [],
   "source": [
    "import pandas as pd\n",
    "import numpy as np"
   ]
  },
  {
   "cell_type": "code",
   "execution_count": 2,
   "metadata": {},
   "outputs": [],
   "source": [
    "total_crop_dataset = pd.read_csv('crop_production.csv')"
   ]
  },
  {
   "cell_type": "code",
   "execution_count": 3,
   "metadata": {},
   "outputs": [],
   "source": [
    "maharashtra = total_crop_dataset[total_crop_dataset['State_Name']=='Maharashtra']"
   ]
  },
  {
   "cell_type": "code",
   "execution_count": 4,
   "metadata": {},
   "outputs": [
    {
     "data": {
      "text/html": [
       "<div>\n",
       "<style scoped>\n",
       "    .dataframe tbody tr th:only-of-type {\n",
       "        vertical-align: middle;\n",
       "    }\n",
       "\n",
       "    .dataframe tbody tr th {\n",
       "        vertical-align: top;\n",
       "    }\n",
       "\n",
       "    .dataframe thead th {\n",
       "        text-align: right;\n",
       "    }\n",
       "</style>\n",
       "<table border=\"1\" class=\"dataframe\">\n",
       "  <thead>\n",
       "    <tr style=\"text-align: right;\">\n",
       "      <th></th>\n",
       "      <th>State_Name</th>\n",
       "      <th>District_Name</th>\n",
       "      <th>Crop_Year</th>\n",
       "      <th>Season</th>\n",
       "      <th>Crop</th>\n",
       "      <th>Area</th>\n",
       "      <th>Production</th>\n",
       "    </tr>\n",
       "  </thead>\n",
       "  <tbody>\n",
       "    <tr>\n",
       "      <th>125191</th>\n",
       "      <td>Maharashtra</td>\n",
       "      <td>AHMEDNAGAR</td>\n",
       "      <td>1997</td>\n",
       "      <td>Autumn</td>\n",
       "      <td>Maize</td>\n",
       "      <td>1.0</td>\n",
       "      <td>1113.0</td>\n",
       "    </tr>\n",
       "    <tr>\n",
       "      <th>125192</th>\n",
       "      <td>Maharashtra</td>\n",
       "      <td>AHMEDNAGAR</td>\n",
       "      <td>1997</td>\n",
       "      <td>Kharif</td>\n",
       "      <td>Arhar/Tur</td>\n",
       "      <td>17600.0</td>\n",
       "      <td>6300.0</td>\n",
       "    </tr>\n",
       "    <tr>\n",
       "      <th>125193</th>\n",
       "      <td>Maharashtra</td>\n",
       "      <td>AHMEDNAGAR</td>\n",
       "      <td>1997</td>\n",
       "      <td>Kharif</td>\n",
       "      <td>Bajra</td>\n",
       "      <td>274100.0</td>\n",
       "      <td>152800.0</td>\n",
       "    </tr>\n",
       "    <tr>\n",
       "      <th>125194</th>\n",
       "      <td>Maharashtra</td>\n",
       "      <td>AHMEDNAGAR</td>\n",
       "      <td>1997</td>\n",
       "      <td>Kharif</td>\n",
       "      <td>Gram</td>\n",
       "      <td>40800.0</td>\n",
       "      <td>18600.0</td>\n",
       "    </tr>\n",
       "    <tr>\n",
       "      <th>125195</th>\n",
       "      <td>Maharashtra</td>\n",
       "      <td>AHMEDNAGAR</td>\n",
       "      <td>1997</td>\n",
       "      <td>Kharif</td>\n",
       "      <td>Jowar</td>\n",
       "      <td>900.0</td>\n",
       "      <td>1100.0</td>\n",
       "    </tr>\n",
       "  </tbody>\n",
       "</table>\n",
       "</div>"
      ],
      "text/plain": [
       "         State_Name District_Name  Crop_Year       Season       Crop  \\\n",
       "125191  Maharashtra    AHMEDNAGAR       1997  Autumn           Maize   \n",
       "125192  Maharashtra    AHMEDNAGAR       1997  Kharif       Arhar/Tur   \n",
       "125193  Maharashtra    AHMEDNAGAR       1997  Kharif           Bajra   \n",
       "125194  Maharashtra    AHMEDNAGAR       1997  Kharif            Gram   \n",
       "125195  Maharashtra    AHMEDNAGAR       1997  Kharif           Jowar   \n",
       "\n",
       "            Area  Production  \n",
       "125191       1.0      1113.0  \n",
       "125192   17600.0      6300.0  \n",
       "125193  274100.0    152800.0  \n",
       "125194   40800.0     18600.0  \n",
       "125195     900.0      1100.0  "
      ]
     },
     "execution_count": 4,
     "metadata": {},
     "output_type": "execute_result"
    }
   ],
   "source": [
    "maharashtra.head()"
   ]
  },
  {
   "cell_type": "code",
   "execution_count": 5,
   "metadata": {},
   "outputs": [
    {
     "name": "stdout",
     "output_type": "stream",
     "text": [
      "<class 'pandas.core.frame.DataFrame'>\n",
      "Int64Index: 12628 entries, 125191 to 137818\n",
      "Data columns (total 7 columns):\n",
      " #   Column         Non-Null Count  Dtype  \n",
      "---  ------         --------------  -----  \n",
      " 0   State_Name     12628 non-null  object \n",
      " 1   District_Name  12628 non-null  object \n",
      " 2   Crop_Year      12628 non-null  int64  \n",
      " 3   Season         12628 non-null  object \n",
      " 4   Crop           12628 non-null  object \n",
      " 5   Area           12628 non-null  float64\n",
      " 6   Production     12496 non-null  float64\n",
      "dtypes: float64(2), int64(1), object(4)\n",
      "memory usage: 789.2+ KB\n"
     ]
    }
   ],
   "source": [
    "maharashtra.info()"
   ]
  },
  {
   "cell_type": "code",
   "execution_count": 6,
   "metadata": {},
   "outputs": [
    {
     "data": {
      "text/plain": [
       "State_Name         0\n",
       "District_Name      0\n",
       "Crop_Year          0\n",
       "Season             0\n",
       "Crop               0\n",
       "Area               0\n",
       "Production       132\n",
       "dtype: int64"
      ]
     },
     "execution_count": 6,
     "metadata": {},
     "output_type": "execute_result"
    }
   ],
   "source": [
    "maharashtra.isnull().sum()"
   ]
  },
  {
   "cell_type": "code",
   "execution_count": 7,
   "metadata": {},
   "outputs": [],
   "source": [
    "maharashtra = maharashtra.dropna()"
   ]
  },
  {
   "cell_type": "code",
   "execution_count": 8,
   "metadata": {},
   "outputs": [
    {
     "data": {
      "text/plain": [
       "35"
      ]
     },
     "execution_count": 8,
     "metadata": {},
     "output_type": "execute_result"
    }
   ],
   "source": [
    "maharashtra['District_Name'].nunique()"
   ]
  },
  {
   "cell_type": "code",
   "execution_count": 9,
   "metadata": {},
   "outputs": [],
   "source": [
    "maharashtra_filtered = maharashtra[\n",
    "    (maharashtra['Crop']=='Wheat') | \n",
    "    (maharashtra['Crop']=='Rice')  |\n",
    "    (maharashtra['Crop']=='Jowar')  |\n",
    "    (maharashtra['Crop']=='Bajra')  |\n",
    "    (maharashtra['Crop']=='Cardamom')  |\n",
    "    (maharashtra['Crop']=='Garlic')  |\n",
    "    (maharashtra['Crop']=='Turmeric')  |\n",
    "    (maharashtra['Crop']=='Ginger')  |\n",
    "    (maharashtra['Crop']=='Cotton(lint)')  |\n",
    "    (maharashtra['Crop']=='Linseed')  |\n",
    "    (maharashtra['Crop']=='Sesamum')  |\n",
    "    (maharashtra['Crop']=='Coconut ')  |\n",
    "    (maharashtra['Crop']=='Onion')  |\n",
    "    (maharashtra['Crop']=='Arhar/Tur')  |\n",
    "    (maharashtra['Crop']=='Potato')  |\n",
    "    (maharashtra['Crop']=='Maize')  \n",
    "]"
   ]
  },
  {
   "cell_type": "code",
   "execution_count": 10,
   "metadata": {},
   "outputs": [
    {
     "name": "stdout",
     "output_type": "stream",
     "text": [
      "<class 'pandas.core.frame.DataFrame'>\n",
      "Int64Index: 5465 entries, 125191 to 137816\n",
      "Data columns (total 7 columns):\n",
      " #   Column         Non-Null Count  Dtype  \n",
      "---  ------         --------------  -----  \n",
      " 0   State_Name     5465 non-null   object \n",
      " 1   District_Name  5465 non-null   object \n",
      " 2   Crop_Year      5465 non-null   int64  \n",
      " 3   Season         5465 non-null   object \n",
      " 4   Crop           5465 non-null   object \n",
      " 5   Area           5465 non-null   float64\n",
      " 6   Production     5465 non-null   float64\n",
      "dtypes: float64(2), int64(1), object(4)\n",
      "memory usage: 341.6+ KB\n"
     ]
    }
   ],
   "source": [
    "maharashtra_filtered.info()"
   ]
  },
  {
   "cell_type": "code",
   "execution_count": 12,
   "metadata": {},
   "outputs": [],
   "source": [
    "maharashtra_filtered_ohe = pd.get_dummies(maharashtra, columns=['District_Name', 'Season','Crop'],drop_first=True)"
   ]
  },
  {
   "cell_type": "code",
   "execution_count": 13,
   "metadata": {},
   "outputs": [
    {
     "data": {
      "text/html": [
       "<div>\n",
       "<style scoped>\n",
       "    .dataframe tbody tr th:only-of-type {\n",
       "        vertical-align: middle;\n",
       "    }\n",
       "\n",
       "    .dataframe tbody tr th {\n",
       "        vertical-align: top;\n",
       "    }\n",
       "\n",
       "    .dataframe thead th {\n",
       "        text-align: right;\n",
       "    }\n",
       "</style>\n",
       "<table border=\"1\" class=\"dataframe\">\n",
       "  <thead>\n",
       "    <tr style=\"text-align: right;\">\n",
       "      <th></th>\n",
       "      <th>State_Name</th>\n",
       "      <th>Crop_Year</th>\n",
       "      <th>Area</th>\n",
       "      <th>Production</th>\n",
       "      <th>District_Name_AKOLA</th>\n",
       "      <th>District_Name_AMRAVATI</th>\n",
       "      <th>District_Name_AURANGABAD</th>\n",
       "      <th>District_Name_BEED</th>\n",
       "      <th>District_Name_BHANDARA</th>\n",
       "      <th>District_Name_BULDHANA</th>\n",
       "      <th>...</th>\n",
       "      <th>Crop_Small millets</th>\n",
       "      <th>Crop_Soyabean</th>\n",
       "      <th>Crop_Sugarcane</th>\n",
       "      <th>Crop_Sunflower</th>\n",
       "      <th>Crop_Tobacco</th>\n",
       "      <th>Crop_Tomato</th>\n",
       "      <th>Crop_Total foodgrain</th>\n",
       "      <th>Crop_Urad</th>\n",
       "      <th>Crop_Wheat</th>\n",
       "      <th>Crop_other oilseeds</th>\n",
       "    </tr>\n",
       "  </thead>\n",
       "  <tbody>\n",
       "    <tr>\n",
       "      <th>125191</th>\n",
       "      <td>Maharashtra</td>\n",
       "      <td>1997</td>\n",
       "      <td>1.0</td>\n",
       "      <td>1113.0</td>\n",
       "      <td>0</td>\n",
       "      <td>0</td>\n",
       "      <td>0</td>\n",
       "      <td>0</td>\n",
       "      <td>0</td>\n",
       "      <td>0</td>\n",
       "      <td>...</td>\n",
       "      <td>0</td>\n",
       "      <td>0</td>\n",
       "      <td>0</td>\n",
       "      <td>0</td>\n",
       "      <td>0</td>\n",
       "      <td>0</td>\n",
       "      <td>0</td>\n",
       "      <td>0</td>\n",
       "      <td>0</td>\n",
       "      <td>0</td>\n",
       "    </tr>\n",
       "    <tr>\n",
       "      <th>125192</th>\n",
       "      <td>Maharashtra</td>\n",
       "      <td>1997</td>\n",
       "      <td>17600.0</td>\n",
       "      <td>6300.0</td>\n",
       "      <td>0</td>\n",
       "      <td>0</td>\n",
       "      <td>0</td>\n",
       "      <td>0</td>\n",
       "      <td>0</td>\n",
       "      <td>0</td>\n",
       "      <td>...</td>\n",
       "      <td>0</td>\n",
       "      <td>0</td>\n",
       "      <td>0</td>\n",
       "      <td>0</td>\n",
       "      <td>0</td>\n",
       "      <td>0</td>\n",
       "      <td>0</td>\n",
       "      <td>0</td>\n",
       "      <td>0</td>\n",
       "      <td>0</td>\n",
       "    </tr>\n",
       "    <tr>\n",
       "      <th>125193</th>\n",
       "      <td>Maharashtra</td>\n",
       "      <td>1997</td>\n",
       "      <td>274100.0</td>\n",
       "      <td>152800.0</td>\n",
       "      <td>0</td>\n",
       "      <td>0</td>\n",
       "      <td>0</td>\n",
       "      <td>0</td>\n",
       "      <td>0</td>\n",
       "      <td>0</td>\n",
       "      <td>...</td>\n",
       "      <td>0</td>\n",
       "      <td>0</td>\n",
       "      <td>0</td>\n",
       "      <td>0</td>\n",
       "      <td>0</td>\n",
       "      <td>0</td>\n",
       "      <td>0</td>\n",
       "      <td>0</td>\n",
       "      <td>0</td>\n",
       "      <td>0</td>\n",
       "    </tr>\n",
       "    <tr>\n",
       "      <th>125194</th>\n",
       "      <td>Maharashtra</td>\n",
       "      <td>1997</td>\n",
       "      <td>40800.0</td>\n",
       "      <td>18600.0</td>\n",
       "      <td>0</td>\n",
       "      <td>0</td>\n",
       "      <td>0</td>\n",
       "      <td>0</td>\n",
       "      <td>0</td>\n",
       "      <td>0</td>\n",
       "      <td>...</td>\n",
       "      <td>0</td>\n",
       "      <td>0</td>\n",
       "      <td>0</td>\n",
       "      <td>0</td>\n",
       "      <td>0</td>\n",
       "      <td>0</td>\n",
       "      <td>0</td>\n",
       "      <td>0</td>\n",
       "      <td>0</td>\n",
       "      <td>0</td>\n",
       "    </tr>\n",
       "    <tr>\n",
       "      <th>125195</th>\n",
       "      <td>Maharashtra</td>\n",
       "      <td>1997</td>\n",
       "      <td>900.0</td>\n",
       "      <td>1100.0</td>\n",
       "      <td>0</td>\n",
       "      <td>0</td>\n",
       "      <td>0</td>\n",
       "      <td>0</td>\n",
       "      <td>0</td>\n",
       "      <td>0</td>\n",
       "      <td>...</td>\n",
       "      <td>0</td>\n",
       "      <td>0</td>\n",
       "      <td>0</td>\n",
       "      <td>0</td>\n",
       "      <td>0</td>\n",
       "      <td>0</td>\n",
       "      <td>0</td>\n",
       "      <td>0</td>\n",
       "      <td>0</td>\n",
       "      <td>0</td>\n",
       "    </tr>\n",
       "  </tbody>\n",
       "</table>\n",
       "<p>5 rows × 75 columns</p>\n",
       "</div>"
      ],
      "text/plain": [
       "         State_Name  Crop_Year      Area  Production  District_Name_AKOLA  \\\n",
       "125191  Maharashtra       1997       1.0      1113.0                    0   \n",
       "125192  Maharashtra       1997   17600.0      6300.0                    0   \n",
       "125193  Maharashtra       1997  274100.0    152800.0                    0   \n",
       "125194  Maharashtra       1997   40800.0     18600.0                    0   \n",
       "125195  Maharashtra       1997     900.0      1100.0                    0   \n",
       "\n",
       "        District_Name_AMRAVATI  District_Name_AURANGABAD  District_Name_BEED  \\\n",
       "125191                       0                         0                   0   \n",
       "125192                       0                         0                   0   \n",
       "125193                       0                         0                   0   \n",
       "125194                       0                         0                   0   \n",
       "125195                       0                         0                   0   \n",
       "\n",
       "        District_Name_BHANDARA  District_Name_BULDHANA  ...  \\\n",
       "125191                       0                       0  ...   \n",
       "125192                       0                       0  ...   \n",
       "125193                       0                       0  ...   \n",
       "125194                       0                       0  ...   \n",
       "125195                       0                       0  ...   \n",
       "\n",
       "        Crop_Small millets  Crop_Soyabean  Crop_Sugarcane  Crop_Sunflower  \\\n",
       "125191                   0              0               0               0   \n",
       "125192                   0              0               0               0   \n",
       "125193                   0              0               0               0   \n",
       "125194                   0              0               0               0   \n",
       "125195                   0              0               0               0   \n",
       "\n",
       "        Crop_Tobacco  Crop_Tomato  Crop_Total foodgrain  Crop_Urad  \\\n",
       "125191             0            0                     0          0   \n",
       "125192             0            0                     0          0   \n",
       "125193             0            0                     0          0   \n",
       "125194             0            0                     0          0   \n",
       "125195             0            0                     0          0   \n",
       "\n",
       "        Crop_Wheat  Crop_other oilseeds  \n",
       "125191           0                    0  \n",
       "125192           0                    0  \n",
       "125193           0                    0  \n",
       "125194           0                    0  \n",
       "125195           0                    0  \n",
       "\n",
       "[5 rows x 75 columns]"
      ]
     },
     "execution_count": 13,
     "metadata": {},
     "output_type": "execute_result"
    }
   ],
   "source": [
    "maharashtra_filtered_ohe.head()"
   ]
  },
  {
   "cell_type": "code",
   "execution_count": 14,
   "metadata": {},
   "outputs": [
    {
     "name": "stdout",
     "output_type": "stream",
     "text": [
      "<class 'pandas.core.frame.DataFrame'>\n",
      "Int64Index: 12496 entries, 125191 to 137818\n",
      "Data columns (total 75 columns):\n",
      " #   Column                        Non-Null Count  Dtype  \n",
      "---  ------                        --------------  -----  \n",
      " 0   State_Name                    12496 non-null  object \n",
      " 1   Crop_Year                     12496 non-null  int64  \n",
      " 2   Area                          12496 non-null  float64\n",
      " 3   Production                    12496 non-null  float64\n",
      " 4   District_Name_AKOLA           12496 non-null  uint8  \n",
      " 5   District_Name_AMRAVATI        12496 non-null  uint8  \n",
      " 6   District_Name_AURANGABAD      12496 non-null  uint8  \n",
      " 7   District_Name_BEED            12496 non-null  uint8  \n",
      " 8   District_Name_BHANDARA        12496 non-null  uint8  \n",
      " 9   District_Name_BULDHANA        12496 non-null  uint8  \n",
      " 10  District_Name_CHANDRAPUR      12496 non-null  uint8  \n",
      " 11  District_Name_DHULE           12496 non-null  uint8  \n",
      " 12  District_Name_GADCHIROLI      12496 non-null  uint8  \n",
      " 13  District_Name_GONDIA          12496 non-null  uint8  \n",
      " 14  District_Name_HINGOLI         12496 non-null  uint8  \n",
      " 15  District_Name_JALGAON         12496 non-null  uint8  \n",
      " 16  District_Name_JALNA           12496 non-null  uint8  \n",
      " 17  District_Name_KOLHAPUR        12496 non-null  uint8  \n",
      " 18  District_Name_LATUR           12496 non-null  uint8  \n",
      " 19  District_Name_MUMBAI          12496 non-null  uint8  \n",
      " 20  District_Name_NAGPUR          12496 non-null  uint8  \n",
      " 21  District_Name_NANDED          12496 non-null  uint8  \n",
      " 22  District_Name_NANDURBAR       12496 non-null  uint8  \n",
      " 23  District_Name_NASHIK          12496 non-null  uint8  \n",
      " 24  District_Name_OSMANABAD       12496 non-null  uint8  \n",
      " 25  District_Name_PALGHAR         12496 non-null  uint8  \n",
      " 26  District_Name_PARBHANI        12496 non-null  uint8  \n",
      " 27  District_Name_PUNE            12496 non-null  uint8  \n",
      " 28  District_Name_RAIGAD          12496 non-null  uint8  \n",
      " 29  District_Name_RATNAGIRI       12496 non-null  uint8  \n",
      " 30  District_Name_SANGLI          12496 non-null  uint8  \n",
      " 31  District_Name_SATARA          12496 non-null  uint8  \n",
      " 32  District_Name_SINDHUDURG      12496 non-null  uint8  \n",
      " 33  District_Name_SOLAPUR         12496 non-null  uint8  \n",
      " 34  District_Name_THANE           12496 non-null  uint8  \n",
      " 35  District_Name_WARDHA          12496 non-null  uint8  \n",
      " 36  District_Name_WASHIM          12496 non-null  uint8  \n",
      " 37  District_Name_YAVATMAL        12496 non-null  uint8  \n",
      " 38  Season_Kharif                 12496 non-null  uint8  \n",
      " 39  Season_Rabi                   12496 non-null  uint8  \n",
      " 40  Season_Summer                 12496 non-null  uint8  \n",
      " 41  Season_Whole Year             12496 non-null  uint8  \n",
      " 42  Crop_Bajra                    12496 non-null  uint8  \n",
      " 43  Crop_Banana                   12496 non-null  uint8  \n",
      " 44  Crop_Castor seed              12496 non-null  uint8  \n",
      " 45  Crop_Cotton(lint)             12496 non-null  uint8  \n",
      " 46  Crop_Gram                     12496 non-null  uint8  \n",
      " 47  Crop_Grapes                   12496 non-null  uint8  \n",
      " 48  Crop_Groundnut                12496 non-null  uint8  \n",
      " 49  Crop_Jowar                    12496 non-null  uint8  \n",
      " 50  Crop_Linseed                  12496 non-null  uint8  \n",
      " 51  Crop_Maize                    12496 non-null  uint8  \n",
      " 52  Crop_Mango                    12496 non-null  uint8  \n",
      " 53  Crop_Moong(Green Gram)        12496 non-null  uint8  \n",
      " 54  Crop_Niger seed               12496 non-null  uint8  \n",
      " 55  Crop_Onion                    12496 non-null  uint8  \n",
      " 56  Crop_Other  Rabi pulses       12496 non-null  uint8  \n",
      " 57  Crop_Other Cereals & Millets  12496 non-null  uint8  \n",
      " 58  Crop_Other Kharif pulses      12496 non-null  uint8  \n",
      " 59  Crop_Pulses total             12496 non-null  uint8  \n",
      " 60  Crop_Ragi                     12496 non-null  uint8  \n",
      " 61  Crop_Rapeseed &Mustard        12496 non-null  uint8  \n",
      " 62  Crop_Rice                     12496 non-null  uint8  \n",
      " 63  Crop_Safflower                12496 non-null  uint8  \n",
      " 64  Crop_Sesamum                  12496 non-null  uint8  \n",
      " 65  Crop_Small millets            12496 non-null  uint8  \n",
      " 66  Crop_Soyabean                 12496 non-null  uint8  \n",
      " 67  Crop_Sugarcane                12496 non-null  uint8  \n",
      " 68  Crop_Sunflower                12496 non-null  uint8  \n",
      " 69  Crop_Tobacco                  12496 non-null  uint8  \n",
      " 70  Crop_Tomato                   12496 non-null  uint8  \n",
      " 71  Crop_Total foodgrain          12496 non-null  uint8  \n",
      " 72  Crop_Urad                     12496 non-null  uint8  \n",
      " 73  Crop_Wheat                    12496 non-null  uint8  \n",
      " 74  Crop_other oilseeds           12496 non-null  uint8  \n",
      "dtypes: float64(2), int64(1), object(1), uint8(71)\n",
      "memory usage: 1.3+ MB\n"
     ]
    }
   ],
   "source": [
    "maharashtra_filtered_ohe.info()"
   ]
  },
  {
   "cell_type": "code",
   "execution_count": 15,
   "metadata": {},
   "outputs": [],
   "source": [
    "X = maharashtra_filtered_ohe.drop(['State_Name','Crop_Year','Production'],axis=1).values\n",
    "y = maharashtra_filtered_ohe.iloc[:,3].values"
   ]
  },
  {
   "cell_type": "code",
   "execution_count": 16,
   "metadata": {},
   "outputs": [],
   "source": [
    "from sklearn.model_selection import train_test_split\n",
    "X_train, X_test, y_train, y_test = train_test_split(X, y, test_size=0.3, random_state=101)"
   ]
  },
  {
   "cell_type": "code",
   "execution_count": 17,
   "metadata": {},
   "outputs": [],
   "source": [
    "from sklearn.linear_model import LinearRegression,Lasso\n",
    "linear_regression = LinearRegression()\n",
    "lasso = Lasso(alpha=100,max_iter=10000)"
   ]
  },
  {
   "cell_type": "code",
   "execution_count": 18,
   "metadata": {},
   "outputs": [
    {
     "data": {
      "text/plain": [
       "Lasso(alpha=100, max_iter=10000)"
      ]
     },
     "execution_count": 18,
     "metadata": {},
     "output_type": "execute_result"
    }
   ],
   "source": [
    "linear_regression.fit(X_train,y_train)\n",
    "lasso.fit(X_train,y_train)"
   ]
  },
  {
   "cell_type": "code",
   "execution_count": 19,
   "metadata": {},
   "outputs": [],
   "source": [
    "from sklearn.ensemble import RandomForestRegressor\n",
    "rfregressor = RandomForestRegressor()"
   ]
  },
  {
   "cell_type": "code",
   "execution_count": 20,
   "metadata": {},
   "outputs": [
    {
     "data": {
      "text/plain": [
       "RandomForestRegressor()"
      ]
     },
     "execution_count": 20,
     "metadata": {},
     "output_type": "execute_result"
    }
   ],
   "source": [
    "rfregressor.fit(X_train,y_train)"
   ]
  },
  {
   "cell_type": "code",
   "execution_count": 26,
   "metadata": {},
   "outputs": [],
   "source": [
    "y_pred = rfregressor.predict(X_test)"
   ]
  },
  {
   "cell_type": "code",
   "execution_count": 22,
   "metadata": {},
   "outputs": [
    {
     "name": "stdout",
     "output_type": "stream",
     "text": [
      "95.78010668121941 %\n"
     ]
    }
   ],
   "source": [
    "accuracy = rfregressor.score(X_test,y_test)\n",
    "print(accuracy*100,'%')"
   ]
  },
  {
   "cell_type": "code",
   "execution_count": 23,
   "metadata": {},
   "outputs": [
    {
     "name": "stdout",
     "output_type": "stream",
     "text": [
      "32.092356049642405 %\n"
     ]
    }
   ],
   "source": [
    "accuracy = lasso.score(X_test,y_test)\n",
    "print(accuracy*100,'%')"
   ]
  },
  {
   "cell_type": "code",
   "execution_count": 24,
   "metadata": {},
   "outputs": [
    {
     "name": "stdout",
     "output_type": "stream",
     "text": [
      "32.15746198889591 %\n"
     ]
    }
   ],
   "source": [
    "accuracy = linear_regression.score(X_test,y_test)\n",
    "print(accuracy*100,'%')"
   ]
  },
  {
   "cell_type": "code",
   "execution_count": 25,
   "metadata": {},
   "outputs": [],
   "source": [
    "import matplotlib.pyplot as plt\n",
    "%matplotlib inline"
   ]
  },
  {
   "cell_type": "code",
   "execution_count": 28,
   "metadata": {},
   "outputs": [
    {
     "data": {
      "text/plain": [
       "[<matplotlib.lines.Line2D at 0x1c4f2d3cf28>]"
      ]
     },
     "execution_count": 28,
     "metadata": {},
     "output_type": "execute_result"
    },
    {
     "data": {
      "image/png": "[encoded data removed]",
      "text/plain": [
       "<Figure size 1152x432 with 1 Axes>"
      ]
     },
     "metadata": {
      "needs_background": "light"
     },
     "output_type": "display_data"
    }
   ],
   "source": [
    "plt.figure(figsize=(16,6))\n",
    "plt.plot(y_test,color='blue')\n",
    "plt.plot(y_pred,color='orange')"
   ]
  },
  {
   "cell_type": "code",
   "execution_count": null,
   "metadata": {},
   "outputs": [],
   "source": []
  }
 ],
 "metadata": {
  "kernelspec": {
   "display_name": "Python 3",
   "language": "python",
   "name": "python3"
  },
  "language_info": {
   "codemirror_mode": {
    "name": "ipython",
    "version": 3
   },
   "file_extension": ".py",
   "mimetype": "text/x-python",
   "name": "python",
   "nbconvert_exporter": "python",
   "pygments_lexer": "ipython3",
   "version": "3.7.1"
  }
 },
 "nbformat": 4,
 "nbformat_minor": 4
}

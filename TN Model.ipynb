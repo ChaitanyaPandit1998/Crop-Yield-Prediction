{
 "cells": [
  {
   "cell_type": "code",
   "execution_count": 1,
   "metadata": {},
   "outputs": [],
   "source": [
    "import pandas as pd\n",
    "import numpy as np"
   ]
  },
  {
   "cell_type": "code",
   "execution_count": 2,
   "metadata": {},
   "outputs": [],
   "source": [
    "total_crop_dataset = pd.read_csv('../crop_production.csv')"
   ]
  },
  {
   "cell_type": "code",
   "execution_count": 3,
   "metadata": {},
   "outputs": [],
   "source": [
    "tamil_nadu = total_crop_dataset[total_crop_dataset['State_Name']=='Tamil Nadu']"
   ]
  },
  {
   "cell_type": "code",
   "execution_count": 4,
   "metadata": {},
   "outputs": [
    {
     "data": {
      "text/html": [
       "<div>\n",
       "<style scoped>\n",
       "    .dataframe tbody tr th:only-of-type {\n",
       "        vertical-align: middle;\n",
       "    }\n",
       "\n",
       "    .dataframe tbody tr th {\n",
       "        vertical-align: top;\n",
       "    }\n",
       "\n",
       "    .dataframe thead th {\n",
       "        text-align: right;\n",
       "    }\n",
       "</style>\n",
       "<table border=\"1\" class=\"dataframe\">\n",
       "  <thead>\n",
       "    <tr style=\"text-align: right;\">\n",
       "      <th></th>\n",
       "      <th>State_Name</th>\n",
       "      <th>District_Name</th>\n",
       "      <th>Crop_Year</th>\n",
       "      <th>Season</th>\n",
       "      <th>Crop</th>\n",
       "      <th>Area</th>\n",
       "      <th>Production</th>\n",
       "    </tr>\n",
       "  </thead>\n",
       "  <tbody>\n",
       "    <tr>\n",
       "      <th>177668</th>\n",
       "      <td>Tamil Nadu</td>\n",
       "      <td>ARIYALUR</td>\n",
       "      <td>2008</td>\n",
       "      <td>Kharif</td>\n",
       "      <td>Rice</td>\n",
       "      <td>24574.0</td>\n",
       "      <td>NaN</td>\n",
       "    </tr>\n",
       "    <tr>\n",
       "      <th>177669</th>\n",
       "      <td>Tamil Nadu</td>\n",
       "      <td>ARIYALUR</td>\n",
       "      <td>2008</td>\n",
       "      <td>Whole Year</td>\n",
       "      <td>Arhar/Tur</td>\n",
       "      <td>209.0</td>\n",
       "      <td>NaN</td>\n",
       "    </tr>\n",
       "    <tr>\n",
       "      <th>177670</th>\n",
       "      <td>Tamil Nadu</td>\n",
       "      <td>ARIYALUR</td>\n",
       "      <td>2008</td>\n",
       "      <td>Whole Year</td>\n",
       "      <td>Bajra</td>\n",
       "      <td>565.0</td>\n",
       "      <td>NaN</td>\n",
       "    </tr>\n",
       "    <tr>\n",
       "      <th>177671</th>\n",
       "      <td>Tamil Nadu</td>\n",
       "      <td>ARIYALUR</td>\n",
       "      <td>2008</td>\n",
       "      <td>Whole Year</td>\n",
       "      <td>Banana</td>\n",
       "      <td>190.0</td>\n",
       "      <td>NaN</td>\n",
       "    </tr>\n",
       "    <tr>\n",
       "      <th>177672</th>\n",
       "      <td>Tamil Nadu</td>\n",
       "      <td>ARIYALUR</td>\n",
       "      <td>2008</td>\n",
       "      <td>Whole Year</td>\n",
       "      <td>Cashewnut</td>\n",
       "      <td>31113.0</td>\n",
       "      <td>NaN</td>\n",
       "    </tr>\n",
       "  </tbody>\n",
       "</table>\n",
       "</div>"
      ],
      "text/plain": [
       "        State_Name District_Name  Crop_Year       Season       Crop     Area  \\\n",
       "177668  Tamil Nadu      ARIYALUR       2008  Kharif            Rice  24574.0   \n",
       "177669  Tamil Nadu      ARIYALUR       2008  Whole Year   Arhar/Tur    209.0   \n",
       "177670  Tamil Nadu      ARIYALUR       2008  Whole Year       Bajra    565.0   \n",
       "177671  Tamil Nadu      ARIYALUR       2008  Whole Year      Banana    190.0   \n",
       "177672  Tamil Nadu      ARIYALUR       2008  Whole Year   Cashewnut  31113.0   \n",
       "\n",
       "        Production  \n",
       "177668         NaN  \n",
       "177669         NaN  \n",
       "177670         NaN  \n",
       "177671         NaN  \n",
       "177672         NaN  "
      ]
     },
     "execution_count": 4,
     "metadata": {},
     "output_type": "execute_result"
    }
   ],
   "source": [
    "tamil_nadu.head()"
   ]
  },
  {
   "cell_type": "code",
   "execution_count": 5,
   "metadata": {},
   "outputs": [
    {
     "name": "stdout",
     "output_type": "stream",
     "text": [
      "<class 'pandas.core.frame.DataFrame'>\n",
      "Int64Index: 13547 entries, 177668 to 191214\n",
      "Data columns (total 7 columns):\n",
      " #   Column         Non-Null Count  Dtype  \n",
      "---  ------         --------------  -----  \n",
      " 0   State_Name     13547 non-null  object \n",
      " 1   District_Name  13547 non-null  object \n",
      " 2   Crop_Year      13547 non-null  int64  \n",
      " 3   Season         13547 non-null  object \n",
      " 4   Crop           13547 non-null  object \n",
      " 5   Area           13547 non-null  float64\n",
      " 6   Production     13266 non-null  float64\n",
      "dtypes: float64(2), int64(1), object(4)\n",
      "memory usage: 846.7+ KB\n"
     ]
    }
   ],
   "source": [
    "tamil_nadu.info()"
   ]
  },
  {
   "cell_type": "code",
   "execution_count": 6,
   "metadata": {},
   "outputs": [
    {
     "data": {
      "text/plain": [
       "State_Name         0\n",
       "District_Name      0\n",
       "Crop_Year          0\n",
       "Season             0\n",
       "Crop               0\n",
       "Area               0\n",
       "Production       281\n",
       "dtype: int64"
      ]
     },
     "execution_count": 6,
     "metadata": {},
     "output_type": "execute_result"
    }
   ],
   "source": [
    "tamil_nadu.isnull().sum()"
   ]
  },
  {
   "cell_type": "code",
   "execution_count": 7,
   "metadata": {},
   "outputs": [],
   "source": [
    "tamil_nadu = tamil_nadu.dropna()"
   ]
  },
  {
   "cell_type": "code",
   "execution_count": 8,
   "metadata": {},
   "outputs": [
    {
     "data": {
      "text/plain": [
       "31"
      ]
     },
     "execution_count": 8,
     "metadata": {},
     "output_type": "execute_result"
    }
   ],
   "source": [
    "tamil_nadu['District_Name'].nunique()"
   ]
  },
  {
   "cell_type": "code",
   "execution_count": 9,
   "metadata": {},
   "outputs": [],
   "source": [
    "tamil_nadu_filtered = tamil_nadu[\n",
    "    (tamil_nadu['Crop']=='Wheat') | \n",
    "    (tamil_nadu['Crop']=='Rice')  |\n",
    "    (tamil_nadu['Crop']=='Jowar')  |\n",
    "    (tamil_nadu['Crop']=='Bajra')  |\n",
    "    (tamil_nadu['Crop']=='Cardamom')  |\n",
    "    (tamil_nadu['Crop']=='Garlic')  |\n",
    "    (tamil_nadu['Crop']=='Turmeric')  |\n",
    "    (tamil_nadu['Crop']=='Ginger')  |\n",
    "    (tamil_nadu['Crop']=='Cotton(lint)')  |\n",
    "    (tamil_nadu['Crop']=='Linseed')  |\n",
    "    (tamil_nadu['Crop']=='Sesamum')  |\n",
    "    (tamil_nadu['Crop']=='Coconut ')  |\n",
    "    (tamil_nadu['Crop']=='Onion')  |\n",
    "    (tamil_nadu['Crop']=='Arhar/Tur')  |\n",
    "    (tamil_nadu['Crop']=='Potato')  |\n",
    "    (tamil_nadu['Crop']=='Maize')  \n",
    "]"
   ]
  },
  {
   "cell_type": "code",
   "execution_count": 10,
   "metadata": {},
   "outputs": [
    {
     "name": "stdout",
     "output_type": "stream",
     "text": [
      "<class 'pandas.core.frame.DataFrame'>\n",
      "Int64Index: 4355 entries, 177690 to 191214\n",
      "Data columns (total 7 columns):\n",
      " #   Column         Non-Null Count  Dtype  \n",
      "---  ------         --------------  -----  \n",
      " 0   State_Name     4355 non-null   object \n",
      " 1   District_Name  4355 non-null   object \n",
      " 2   Crop_Year      4355 non-null   int64  \n",
      " 3   Season         4355 non-null   object \n",
      " 4   Crop           4355 non-null   object \n",
      " 5   Area           4355 non-null   float64\n",
      " 6   Production     4355 non-null   float64\n",
      "dtypes: float64(2), int64(1), object(4)\n",
      "memory usage: 272.2+ KB\n"
     ]
    }
   ],
   "source": [
    "tamil_nadu_filtered.info()"
   ]
  },
  {
   "cell_type": "code",
   "execution_count": 30,
   "metadata": {},
   "outputs": [],
   "source": [
    "tamil_nadu_filtered_ohe = pd.get_dummies(tamil_nadu, columns=['District_Name', 'Season','Crop'],drop_first=True)"
   ]
  },
  {
   "cell_type": "code",
   "execution_count": 31,
   "metadata": {},
   "outputs": [
    {
     "data": {
      "text/html": [
       "<div>\n",
       "<style scoped>\n",
       "    .dataframe tbody tr th:only-of-type {\n",
       "        vertical-align: middle;\n",
       "    }\n",
       "\n",
       "    .dataframe tbody tr th {\n",
       "        vertical-align: top;\n",
       "    }\n",
       "\n",
       "    .dataframe thead th {\n",
       "        text-align: right;\n",
       "    }\n",
       "</style>\n",
       "<table border=\"1\" class=\"dataframe\">\n",
       "  <thead>\n",
       "    <tr style=\"text-align: right;\">\n",
       "      <th></th>\n",
       "      <th>State_Name</th>\n",
       "      <th>Crop_Year</th>\n",
       "      <th>Area</th>\n",
       "      <th>Production</th>\n",
       "      <th>District_Name_COIMBATORE</th>\n",
       "      <th>District_Name_CUDDALORE</th>\n",
       "      <th>District_Name_DHARMAPURI</th>\n",
       "      <th>District_Name_DINDIGUL</th>\n",
       "      <th>District_Name_ERODE</th>\n",
       "      <th>District_Name_KANCHIPURAM</th>\n",
       "      <th>...</th>\n",
       "      <th>Crop_Tobacco</th>\n",
       "      <th>Crop_Tomato</th>\n",
       "      <th>Crop_Total foodgrain</th>\n",
       "      <th>Crop_Turmeric</th>\n",
       "      <th>Crop_Turnip</th>\n",
       "      <th>Crop_Urad</th>\n",
       "      <th>Crop_Varagu</th>\n",
       "      <th>Crop_Water Melon</th>\n",
       "      <th>Crop_Wheat</th>\n",
       "      <th>Crop_Yam</th>\n",
       "    </tr>\n",
       "  </thead>\n",
       "  <tbody>\n",
       "    <tr>\n",
       "      <th>177690</th>\n",
       "      <td>Tamil Nadu</td>\n",
       "      <td>2009</td>\n",
       "      <td>25978.0</td>\n",
       "      <td>80462.0</td>\n",
       "      <td>0</td>\n",
       "      <td>0</td>\n",
       "      <td>0</td>\n",
       "      <td>0</td>\n",
       "      <td>0</td>\n",
       "      <td>0</td>\n",
       "      <td>...</td>\n",
       "      <td>0</td>\n",
       "      <td>0</td>\n",
       "      <td>0</td>\n",
       "      <td>0</td>\n",
       "      <td>0</td>\n",
       "      <td>0</td>\n",
       "      <td>0</td>\n",
       "      <td>0</td>\n",
       "      <td>0</td>\n",
       "      <td>0</td>\n",
       "    </tr>\n",
       "    <tr>\n",
       "      <th>177691</th>\n",
       "      <td>Tamil Nadu</td>\n",
       "      <td>2009</td>\n",
       "      <td>404.0</td>\n",
       "      <td>649.0</td>\n",
       "      <td>0</td>\n",
       "      <td>0</td>\n",
       "      <td>0</td>\n",
       "      <td>0</td>\n",
       "      <td>0</td>\n",
       "      <td>0</td>\n",
       "      <td>...</td>\n",
       "      <td>0</td>\n",
       "      <td>0</td>\n",
       "      <td>0</td>\n",
       "      <td>0</td>\n",
       "      <td>0</td>\n",
       "      <td>0</td>\n",
       "      <td>0</td>\n",
       "      <td>0</td>\n",
       "      <td>0</td>\n",
       "      <td>0</td>\n",
       "    </tr>\n",
       "    <tr>\n",
       "      <th>177692</th>\n",
       "      <td>Tamil Nadu</td>\n",
       "      <td>2009</td>\n",
       "      <td>160.0</td>\n",
       "      <td>122.0</td>\n",
       "      <td>0</td>\n",
       "      <td>0</td>\n",
       "      <td>0</td>\n",
       "      <td>0</td>\n",
       "      <td>0</td>\n",
       "      <td>0</td>\n",
       "      <td>...</td>\n",
       "      <td>0</td>\n",
       "      <td>0</td>\n",
       "      <td>0</td>\n",
       "      <td>0</td>\n",
       "      <td>0</td>\n",
       "      <td>0</td>\n",
       "      <td>0</td>\n",
       "      <td>0</td>\n",
       "      <td>0</td>\n",
       "      <td>0</td>\n",
       "    </tr>\n",
       "    <tr>\n",
       "      <th>177693</th>\n",
       "      <td>Tamil Nadu</td>\n",
       "      <td>2009</td>\n",
       "      <td>644.0</td>\n",
       "      <td>1082.0</td>\n",
       "      <td>0</td>\n",
       "      <td>0</td>\n",
       "      <td>0</td>\n",
       "      <td>0</td>\n",
       "      <td>0</td>\n",
       "      <td>0</td>\n",
       "      <td>...</td>\n",
       "      <td>0</td>\n",
       "      <td>0</td>\n",
       "      <td>0</td>\n",
       "      <td>0</td>\n",
       "      <td>0</td>\n",
       "      <td>0</td>\n",
       "      <td>0</td>\n",
       "      <td>0</td>\n",
       "      <td>0</td>\n",
       "      <td>0</td>\n",
       "    </tr>\n",
       "    <tr>\n",
       "      <th>177694</th>\n",
       "      <td>Tamil Nadu</td>\n",
       "      <td>2009</td>\n",
       "      <td>134.0</td>\n",
       "      <td>5761.0</td>\n",
       "      <td>0</td>\n",
       "      <td>0</td>\n",
       "      <td>0</td>\n",
       "      <td>0</td>\n",
       "      <td>0</td>\n",
       "      <td>0</td>\n",
       "      <td>...</td>\n",
       "      <td>0</td>\n",
       "      <td>0</td>\n",
       "      <td>0</td>\n",
       "      <td>0</td>\n",
       "      <td>0</td>\n",
       "      <td>0</td>\n",
       "      <td>0</td>\n",
       "      <td>0</td>\n",
       "      <td>0</td>\n",
       "      <td>0</td>\n",
       "    </tr>\n",
       "  </tbody>\n",
       "</table>\n",
       "<p>5 rows × 119 columns</p>\n",
       "</div>"
      ],
      "text/plain": [
       "        State_Name  Crop_Year     Area  Production  District_Name_COIMBATORE  \\\n",
       "177690  Tamil Nadu       2009  25978.0     80462.0                         0   \n",
       "177691  Tamil Nadu       2009    404.0       649.0                         0   \n",
       "177692  Tamil Nadu       2009    160.0       122.0                         0   \n",
       "177693  Tamil Nadu       2009    644.0      1082.0                         0   \n",
       "177694  Tamil Nadu       2009    134.0      5761.0                         0   \n",
       "\n",
       "        District_Name_CUDDALORE  District_Name_DHARMAPURI  \\\n",
       "177690                        0                         0   \n",
       "177691                        0                         0   \n",
       "177692                        0                         0   \n",
       "177693                        0                         0   \n",
       "177694                        0                         0   \n",
       "\n",
       "        District_Name_DINDIGUL  District_Name_ERODE  \\\n",
       "177690                       0                    0   \n",
       "177691                       0                    0   \n",
       "177692                       0                    0   \n",
       "177693                       0                    0   \n",
       "177694                       0                    0   \n",
       "\n",
       "        District_Name_KANCHIPURAM  ...  Crop_Tobacco  Crop_Tomato  \\\n",
       "177690                          0  ...             0            0   \n",
       "177691                          0  ...             0            0   \n",
       "177692                          0  ...             0            0   \n",
       "177693                          0  ...             0            0   \n",
       "177694                          0  ...             0            0   \n",
       "\n",
       "        Crop_Total foodgrain  Crop_Turmeric  Crop_Turnip  Crop_Urad  \\\n",
       "177690                     0              0            0          0   \n",
       "177691                     0              0            0          0   \n",
       "177692                     0              0            0          0   \n",
       "177693                     0              0            0          0   \n",
       "177694                     0              0            0          0   \n",
       "\n",
       "        Crop_Varagu  Crop_Water Melon  Crop_Wheat  Crop_Yam  \n",
       "177690            0                 0           0         0  \n",
       "177691            0                 0           0         0  \n",
       "177692            0                 0           0         0  \n",
       "177693            0                 0           0         0  \n",
       "177694            0                 0           0         0  \n",
       "\n",
       "[5 rows x 119 columns]"
      ]
     },
     "execution_count": 31,
     "metadata": {},
     "output_type": "execute_result"
    }
   ],
   "source": [
    "tamil_nadu_filtered_ohe.head()"
   ]
  },
  {
   "cell_type": "code",
   "execution_count": 32,
   "metadata": {},
   "outputs": [
    {
     "data": {
      "text/plain": [
       "State_Name                  0\n",
       "Crop_Year                   0\n",
       "Area                        0\n",
       "Production                  0\n",
       "District_Name_COIMBATORE    0\n",
       "                           ..\n",
       "Crop_Urad                   0\n",
       "Crop_Varagu                 0\n",
       "Crop_Water Melon            0\n",
       "Crop_Wheat                  0\n",
       "Crop_Yam                    0\n",
       "Length: 119, dtype: int64"
      ]
     },
     "execution_count": 32,
     "metadata": {},
     "output_type": "execute_result"
    }
   ],
   "source": [
    "tamil_nadu_filtered_ohe.isnull().sum()"
   ]
  },
  {
   "cell_type": "code",
   "execution_count": 33,
   "metadata": {},
   "outputs": [],
   "source": [
    "X = tamil_nadu_filtered_ohe.drop(['State_Name','Crop_Year','Production'],axis=1).values"
   ]
  },
  {
   "cell_type": "code",
   "execution_count": 34,
   "metadata": {},
   "outputs": [],
   "source": [
    "y = tamil_nadu_filtered_ohe.iloc[:,3].values"
   ]
  },
  {
   "cell_type": "code",
   "execution_count": 35,
   "metadata": {},
   "outputs": [
    {
     "data": {
      "text/plain": [
       "array([8.0462e+04, 6.4900e+02, 1.2200e+02, ..., 8.4000e+01, 1.2000e+02,\n",
       "       1.5000e+01])"
      ]
     },
     "execution_count": 35,
     "metadata": {},
     "output_type": "execute_result"
    }
   ],
   "source": [
    "y"
   ]
  },
  {
   "cell_type": "code",
   "execution_count": 36,
   "metadata": {},
   "outputs": [],
   "source": [
    "from sklearn.model_selection import train_test_split"
   ]
  },
  {
   "cell_type": "code",
   "execution_count": 37,
   "metadata": {},
   "outputs": [],
   "source": [
    "X_train, X_test, y_train, y_test = train_test_split(X, y, test_size=0.3)"
   ]
  },
  {
   "cell_type": "code",
   "execution_count": 38,
   "metadata": {},
   "outputs": [],
   "source": [
    "from sklearn.linear_model import LinearRegression,Lasso\n",
    "linear_regression = LinearRegression()\n",
    "lasso = Lasso()"
   ]
  },
  {
   "cell_type": "code",
   "execution_count": 39,
   "metadata": {},
   "outputs": [
    {
     "name": "stderr",
     "output_type": "stream",
     "text": [
      "C:\\Users\\CHATANAYA\\Anaconda3\\lib\\site-packages\\sklearn\\linear_model\\_coordinate_descent.py:531: ConvergenceWarning: Objective did not converge. You might want to increase the number of iterations. Duality gap: 2.1184518237796063e+18, tolerance: 458340412198780.1\n",
      "  positive)\n"
     ]
    },
    {
     "data": {
      "text/plain": [
       "Lasso()"
      ]
     },
     "execution_count": 39,
     "metadata": {},
     "output_type": "execute_result"
    }
   ],
   "source": [
    "linear_regression.fit(X_train,y_train)\n",
    "lasso.fit(X_train,y_train)"
   ]
  },
  {
   "cell_type": "code",
   "execution_count": 40,
   "metadata": {},
   "outputs": [],
   "source": [
    "from sklearn.ensemble import RandomForestRegressor\n",
    "rfregressor = RandomForestRegressor()"
   ]
  },
  {
   "cell_type": "code",
   "execution_count": 41,
   "metadata": {},
   "outputs": [
    {
     "data": {
      "text/plain": [
       "RandomForestRegressor()"
      ]
     },
     "execution_count": 41,
     "metadata": {},
     "output_type": "execute_result"
    }
   ],
   "source": [
    "rfregressor.fit(X_train,y_train)"
   ]
  },
  {
   "cell_type": "code",
   "execution_count": 42,
   "metadata": {},
   "outputs": [],
   "source": [
    "y_pred = rfregressor.predict(X_test)"
   ]
  },
  {
   "cell_type": "code",
   "execution_count": 43,
   "metadata": {},
   "outputs": [
    {
     "name": "stdout",
     "output_type": "stream",
     "text": [
      "47.749853858332735 %\n"
     ]
    }
   ],
   "source": [
    "accuracy = rfregressor.score(X_test,y_test)\n",
    "print(accuracy*100,'%')"
   ]
  },
  {
   "cell_type": "code",
   "execution_count": 44,
   "metadata": {},
   "outputs": [
    {
     "name": "stdout",
     "output_type": "stream",
     "text": [
      "8.597600550849261 %\n"
     ]
    }
   ],
   "source": [
    "accuracy = linear_regression.score(X_test,y_test)\n",
    "print(accuracy*100,'%')"
   ]
  },
  {
   "cell_type": "code",
   "execution_count": 45,
   "metadata": {},
   "outputs": [
    {
     "name": "stdout",
     "output_type": "stream",
     "text": [
      "8.597887589156539 %\n"
     ]
    }
   ],
   "source": [
    "accuracy = lasso.score(X_test,y_test)\n",
    "print(accuracy*100,'%')"
   ]
  },
  {
   "cell_type": "code",
   "execution_count": 26,
   "metadata": {},
   "outputs": [],
   "source": [
    "import matplotlib.pyplot as plt\n",
    "%matplotlib inline"
   ]
  },
  {
   "cell_type": "code",
   "execution_count": 46,
   "metadata": {},
   "outputs": [
    {
     "data": {
      "text/plain": [
       "[<matplotlib.lines.Line2D at 0x1f641d52160>]"
      ]
     },
     "execution_count": 46,
     "metadata": {},
     "output_type": "execute_result"
    },
    {
     "data": {
      "image/png": "[encoded data removed]",
      "text/plain": [
       "<Figure size 1152x432 with 1 Axes>"
      ]
     },
     "metadata": {
      "needs_background": "light"
     },
     "output_type": "display_data"
    }
   ],
   "source": [
    "plt.figure(figsize=(16,6))\n",
    "plt.plot(y_test,color='blue')\n",
    "plt.plot(y_pred,color='orange')"
   ]
  },
  {
   "cell_type": "code",
   "execution_count": null,
   "metadata": {},
   "outputs": [],
   "source": []
  },
  {
   "cell_type": "code",
   "execution_count": null,
   "metadata": {},
   "outputs": [],
   "source": []
  }
 ],
 "metadata": {
  "kernelspec": {
   "display_name": "Python 3",
   "language": "python",
   "name": "python3"
  },
  "language_info": {
   "codemirror_mode": {
    "name": "ipython",
    "version": 3
   },
   "file_extension": ".py",
   "mimetype": "text/x-python",
   "name": "python",
   "nbconvert_exporter": "python",
   "pygments_lexer": "ipython3",
   "version": "3.7.1"
  }
 },
 "nbformat": 4,
 "nbformat_minor": 4
}

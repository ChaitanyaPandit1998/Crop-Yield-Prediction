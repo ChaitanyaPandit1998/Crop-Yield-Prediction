{
 "cells": [
  {
   "cell_type": "code",
   "execution_count": 1,
   "metadata": {},
   "outputs": [],
   "source": [
    "import pandas as pd\n",
    "import numpy as np\n",
    "import pickle"
   ]
  },
  {
   "cell_type": "code",
   "execution_count": 2,
   "metadata": {},
   "outputs": [],
   "source": [
    "total_crop_dataset = pd.read_csv('../crop_production.csv')"
   ]
  },
  {
   "cell_type": "code",
   "execution_count": 3,
   "metadata": {},
   "outputs": [],
   "source": [
    "punjab = total_crop_dataset[total_crop_dataset['State_Name']=='Punjab']"
   ]
  },
  {
   "cell_type": "code",
   "execution_count": 4,
   "metadata": {},
   "outputs": [
    {
     "name": "stdout",
     "output_type": "stream",
     "text": [
      "<class 'pandas.core.frame.DataFrame'>\n",
      "Int64Index: 3173 entries, 161267 to 164439\n",
      "Data columns (total 7 columns):\n",
      " #   Column         Non-Null Count  Dtype  \n",
      "---  ------         --------------  -----  \n",
      " 0   State_Name     3173 non-null   object \n",
      " 1   District_Name  3173 non-null   object \n",
      " 2   Crop_Year      3173 non-null   int64  \n",
      " 3   Season         3173 non-null   object \n",
      " 4   Crop           3173 non-null   object \n",
      " 5   Area           3173 non-null   float64\n",
      " 6   Production     3143 non-null   float64\n",
      "dtypes: float64(2), int64(1), object(4)\n",
      "memory usage: 198.3+ KB\n"
     ]
    }
   ],
   "source": [
    "punjab.info()"
   ]
  },
  {
   "cell_type": "code",
   "execution_count": 5,
   "metadata": {},
   "outputs": [
    {
     "data": {
      "text/plain": [
       "State_Name        0\n",
       "District_Name     0\n",
       "Crop_Year         0\n",
       "Season            0\n",
       "Crop              0\n",
       "Area              0\n",
       "Production       30\n",
       "dtype: int64"
      ]
     },
     "execution_count": 5,
     "metadata": {},
     "output_type": "execute_result"
    }
   ],
   "source": [
    "punjab.isnull().sum()"
   ]
  },
  {
   "cell_type": "code",
   "execution_count": 6,
   "metadata": {},
   "outputs": [],
   "source": [
    "punjab = punjab.dropna()"
   ]
  },
  {
   "cell_type": "code",
   "execution_count": 7,
   "metadata": {},
   "outputs": [],
   "source": [
    "punjab_filtered = punjab[\n",
    "    (punjab['Crop']=='Wheat') | \n",
    "    (punjab['Crop']=='Rice')  |\n",
    "    (punjab['Crop']=='Jowar')  |\n",
    "    (punjab['Crop']=='Bajra')  |\n",
    "    (punjab['Crop']=='Cardamom')  |\n",
    "    (punjab['Crop']=='Garlic')  |\n",
    "    (punjab['Crop']=='Turmeric')  |\n",
    "    (punjab['Crop']=='Ginger')  |\n",
    "    (punjab['Crop']=='Cotton(lint)')  |\n",
    "    (punjab['Crop']=='Linseed')  |\n",
    "    (punjab['Crop']=='Sesamum')  |\n",
    "    (punjab['Crop']=='Coconut ')  |\n",
    "    (punjab['Crop']=='Onion')  |\n",
    "    (punjab['Crop']=='Arhar/Tur')  |\n",
    "    (punjab['Crop']=='Potato')  |\n",
    "    (punjab['Crop']=='Maize')  \n",
    "]"
   ]
  },
  {
   "cell_type": "code",
   "execution_count": 8,
   "metadata": {},
   "outputs": [],
   "source": [
    "punjab_filtered_ohe = pd.get_dummies(punjab_filtered, columns=['District_Name', 'Season','Crop'],drop_first=True)"
   ]
  },
  {
   "cell_type": "code",
   "execution_count": 9,
   "metadata": {},
   "outputs": [
    {
     "data": {
      "text/html": [
       "<div>\n",
       "<style scoped>\n",
       "    .dataframe tbody tr th:only-of-type {\n",
       "        vertical-align: middle;\n",
       "    }\n",
       "\n",
       "    .dataframe tbody tr th {\n",
       "        vertical-align: top;\n",
       "    }\n",
       "\n",
       "    .dataframe thead th {\n",
       "        text-align: right;\n",
       "    }\n",
       "</style>\n",
       "<table border=\"1\" class=\"dataframe\">\n",
       "  <thead>\n",
       "    <tr style=\"text-align: right;\">\n",
       "      <th></th>\n",
       "      <th>State_Name</th>\n",
       "      <th>Crop_Year</th>\n",
       "      <th>Area</th>\n",
       "      <th>Production</th>\n",
       "      <th>District_Name_BARNALA</th>\n",
       "      <th>District_Name_BATHINDA</th>\n",
       "      <th>District_Name_FARIDKOT</th>\n",
       "      <th>District_Name_FATEHGARH SAHIB</th>\n",
       "      <th>District_Name_FAZILKA</th>\n",
       "      <th>District_Name_FIROZEPUR</th>\n",
       "      <th>...</th>\n",
       "      <th>Season_Rabi</th>\n",
       "      <th>Season_Whole Year</th>\n",
       "      <th>Crop_Bajra</th>\n",
       "      <th>Crop_Cotton(lint)</th>\n",
       "      <th>Crop_Jowar</th>\n",
       "      <th>Crop_Linseed</th>\n",
       "      <th>Crop_Maize</th>\n",
       "      <th>Crop_Rice</th>\n",
       "      <th>Crop_Sesamum</th>\n",
       "      <th>Crop_Wheat</th>\n",
       "    </tr>\n",
       "  </thead>\n",
       "  <tbody>\n",
       "    <tr>\n",
       "      <th>161267</th>\n",
       "      <td>Punjab</td>\n",
       "      <td>1997</td>\n",
       "      <td>1800.0</td>\n",
       "      <td>1400.0</td>\n",
       "      <td>0</td>\n",
       "      <td>0</td>\n",
       "      <td>0</td>\n",
       "      <td>0</td>\n",
       "      <td>0</td>\n",
       "      <td>0</td>\n",
       "      <td>...</td>\n",
       "      <td>0</td>\n",
       "      <td>0</td>\n",
       "      <td>0</td>\n",
       "      <td>0</td>\n",
       "      <td>0</td>\n",
       "      <td>0</td>\n",
       "      <td>0</td>\n",
       "      <td>0</td>\n",
       "      <td>0</td>\n",
       "      <td>0</td>\n",
       "    </tr>\n",
       "    <tr>\n",
       "      <th>161268</th>\n",
       "      <td>Punjab</td>\n",
       "      <td>1997</td>\n",
       "      <td>1000.0</td>\n",
       "      <td>1000.0</td>\n",
       "      <td>0</td>\n",
       "      <td>0</td>\n",
       "      <td>0</td>\n",
       "      <td>0</td>\n",
       "      <td>0</td>\n",
       "      <td>0</td>\n",
       "      <td>...</td>\n",
       "      <td>0</td>\n",
       "      <td>0</td>\n",
       "      <td>1</td>\n",
       "      <td>0</td>\n",
       "      <td>0</td>\n",
       "      <td>0</td>\n",
       "      <td>0</td>\n",
       "      <td>0</td>\n",
       "      <td>0</td>\n",
       "      <td>0</td>\n",
       "    </tr>\n",
       "    <tr>\n",
       "      <th>161269</th>\n",
       "      <td>Punjab</td>\n",
       "      <td>1997</td>\n",
       "      <td>7000.0</td>\n",
       "      <td>14000.0</td>\n",
       "      <td>0</td>\n",
       "      <td>0</td>\n",
       "      <td>0</td>\n",
       "      <td>0</td>\n",
       "      <td>0</td>\n",
       "      <td>0</td>\n",
       "      <td>...</td>\n",
       "      <td>0</td>\n",
       "      <td>0</td>\n",
       "      <td>0</td>\n",
       "      <td>0</td>\n",
       "      <td>0</td>\n",
       "      <td>0</td>\n",
       "      <td>1</td>\n",
       "      <td>0</td>\n",
       "      <td>0</td>\n",
       "      <td>0</td>\n",
       "    </tr>\n",
       "    <tr>\n",
       "      <th>161270</th>\n",
       "      <td>Punjab</td>\n",
       "      <td>1997</td>\n",
       "      <td>292000.0</td>\n",
       "      <td>879000.0</td>\n",
       "      <td>0</td>\n",
       "      <td>0</td>\n",
       "      <td>0</td>\n",
       "      <td>0</td>\n",
       "      <td>0</td>\n",
       "      <td>0</td>\n",
       "      <td>...</td>\n",
       "      <td>0</td>\n",
       "      <td>0</td>\n",
       "      <td>0</td>\n",
       "      <td>0</td>\n",
       "      <td>0</td>\n",
       "      <td>0</td>\n",
       "      <td>0</td>\n",
       "      <td>1</td>\n",
       "      <td>0</td>\n",
       "      <td>0</td>\n",
       "    </tr>\n",
       "    <tr>\n",
       "      <th>161271</th>\n",
       "      <td>Punjab</td>\n",
       "      <td>1997</td>\n",
       "      <td>6000.0</td>\n",
       "      <td>1700.0</td>\n",
       "      <td>0</td>\n",
       "      <td>0</td>\n",
       "      <td>0</td>\n",
       "      <td>0</td>\n",
       "      <td>0</td>\n",
       "      <td>0</td>\n",
       "      <td>...</td>\n",
       "      <td>0</td>\n",
       "      <td>0</td>\n",
       "      <td>0</td>\n",
       "      <td>0</td>\n",
       "      <td>0</td>\n",
       "      <td>0</td>\n",
       "      <td>0</td>\n",
       "      <td>0</td>\n",
       "      <td>1</td>\n",
       "      <td>0</td>\n",
       "    </tr>\n",
       "  </tbody>\n",
       "</table>\n",
       "<p>5 rows × 35 columns</p>\n",
       "</div>"
      ],
      "text/plain": [
       "       State_Name  Crop_Year      Area  Production  District_Name_BARNALA  \\\n",
       "161267     Punjab       1997    1800.0      1400.0                      0   \n",
       "161268     Punjab       1997    1000.0      1000.0                      0   \n",
       "161269     Punjab       1997    7000.0     14000.0                      0   \n",
       "161270     Punjab       1997  292000.0    879000.0                      0   \n",
       "161271     Punjab       1997    6000.0      1700.0                      0   \n",
       "\n",
       "        District_Name_BATHINDA  District_Name_FARIDKOT  \\\n",
       "161267                       0                       0   \n",
       "161268                       0                       0   \n",
       "161269                       0                       0   \n",
       "161270                       0                       0   \n",
       "161271                       0                       0   \n",
       "\n",
       "        District_Name_FATEHGARH SAHIB  District_Name_FAZILKA  \\\n",
       "161267                              0                      0   \n",
       "161268                              0                      0   \n",
       "161269                              0                      0   \n",
       "161270                              0                      0   \n",
       "161271                              0                      0   \n",
       "\n",
       "        District_Name_FIROZEPUR  ...  Season_Rabi         Season_Whole Year   \\\n",
       "161267                        0  ...                   0                   0   \n",
       "161268                        0  ...                   0                   0   \n",
       "161269                        0  ...                   0                   0   \n",
       "161270                        0  ...                   0                   0   \n",
       "161271                        0  ...                   0                   0   \n",
       "\n",
       "        Crop_Bajra  Crop_Cotton(lint)  Crop_Jowar  Crop_Linseed  Crop_Maize  \\\n",
       "161267           0                  0           0             0           0   \n",
       "161268           1                  0           0             0           0   \n",
       "161269           0                  0           0             0           1   \n",
       "161270           0                  0           0             0           0   \n",
       "161271           0                  0           0             0           0   \n",
       "\n",
       "        Crop_Rice  Crop_Sesamum  Crop_Wheat  \n",
       "161267          0             0           0  \n",
       "161268          0             0           0  \n",
       "161269          0             0           0  \n",
       "161270          1             0           0  \n",
       "161271          0             1           0  \n",
       "\n",
       "[5 rows x 35 columns]"
      ]
     },
     "execution_count": 9,
     "metadata": {},
     "output_type": "execute_result"
    }
   ],
   "source": [
    "punjab_filtered_ohe.head()"
   ]
  },
  {
   "cell_type": "code",
   "execution_count": 10,
   "metadata": {},
   "outputs": [
    {
     "name": "stdout",
     "output_type": "stream",
     "text": [
      "<class 'pandas.core.frame.DataFrame'>\n",
      "Int64Index: 1553 entries, 161267 to 164439\n",
      "Data columns (total 35 columns):\n",
      " #   Column                         Non-Null Count  Dtype  \n",
      "---  ------                         --------------  -----  \n",
      " 0   State_Name                     1553 non-null   object \n",
      " 1   Crop_Year                      1553 non-null   int64  \n",
      " 2   Area                           1553 non-null   float64\n",
      " 3   Production                     1553 non-null   float64\n",
      " 4   District_Name_BARNALA          1553 non-null   uint8  \n",
      " 5   District_Name_BATHINDA         1553 non-null   uint8  \n",
      " 6   District_Name_FARIDKOT         1553 non-null   uint8  \n",
      " 7   District_Name_FATEHGARH SAHIB  1553 non-null   uint8  \n",
      " 8   District_Name_FAZILKA          1553 non-null   uint8  \n",
      " 9   District_Name_FIROZEPUR        1553 non-null   uint8  \n",
      " 10  District_Name_GURDASPUR        1553 non-null   uint8  \n",
      " 11  District_Name_HOSHIARPUR       1553 non-null   uint8  \n",
      " 12  District_Name_JALANDHAR        1553 non-null   uint8  \n",
      " 13  District_Name_KAPURTHALA       1553 non-null   uint8  \n",
      " 14  District_Name_LUDHIANA         1553 non-null   uint8  \n",
      " 15  District_Name_MANSA            1553 non-null   uint8  \n",
      " 16  District_Name_MOGA             1553 non-null   uint8  \n",
      " 17  District_Name_MUKTSAR          1553 non-null   uint8  \n",
      " 18  District_Name_NAWANSHAHR       1553 non-null   uint8  \n",
      " 19  District_Name_PATHANKOT        1553 non-null   uint8  \n",
      " 20  District_Name_PATIALA          1553 non-null   uint8  \n",
      " 21  District_Name_RUPNAGAR         1553 non-null   uint8  \n",
      " 22  District_Name_S.A.S NAGAR      1553 non-null   uint8  \n",
      " 23  District_Name_SANGRUR          1553 non-null   uint8  \n",
      " 24  District_Name_TARN TARAN       1553 non-null   uint8  \n",
      " 25  Season_Rabi                    1553 non-null   uint8  \n",
      " 26  Season_Whole Year              1553 non-null   uint8  \n",
      " 27  Crop_Bajra                     1553 non-null   uint8  \n",
      " 28  Crop_Cotton(lint)              1553 non-null   uint8  \n",
      " 29  Crop_Jowar                     1553 non-null   uint8  \n",
      " 30  Crop_Linseed                   1553 non-null   uint8  \n",
      " 31  Crop_Maize                     1553 non-null   uint8  \n",
      " 32  Crop_Rice                      1553 non-null   uint8  \n",
      " 33  Crop_Sesamum                   1553 non-null   uint8  \n",
      " 34  Crop_Wheat                     1553 non-null   uint8  \n",
      "dtypes: float64(2), int64(1), object(1), uint8(31)\n",
      "memory usage: 107.7+ KB\n"
     ]
    }
   ],
   "source": [
    "punjab_filtered_ohe.info()"
   ]
  },
  {
   "cell_type": "code",
   "execution_count": 11,
   "metadata": {},
   "outputs": [
    {
     "data": {
      "text/plain": [
       "Index(['State_Name', 'Crop_Year', 'Area', 'Production',\n",
       "       'District_Name_BARNALA', 'District_Name_BATHINDA',\n",
       "       'District_Name_FARIDKOT', 'District_Name_FATEHGARH SAHIB',\n",
       "       'District_Name_FAZILKA', 'District_Name_FIROZEPUR',\n",
       "       'District_Name_GURDASPUR', 'District_Name_HOSHIARPUR',\n",
       "       'District_Name_JALANDHAR', 'District_Name_KAPURTHALA',\n",
       "       'District_Name_LUDHIANA', 'District_Name_MANSA', 'District_Name_MOGA',\n",
       "       'District_Name_MUKTSAR', 'District_Name_NAWANSHAHR',\n",
       "       'District_Name_PATHANKOT', 'District_Name_PATIALA',\n",
       "       'District_Name_RUPNAGAR', 'District_Name_S.A.S NAGAR',\n",
       "       'District_Name_SANGRUR', 'District_Name_TARN TARAN',\n",
       "       'Season_Rabi       ', 'Season_Whole Year ', 'Crop_Bajra',\n",
       "       'Crop_Cotton(lint)', 'Crop_Jowar', 'Crop_Linseed', 'Crop_Maize',\n",
       "       'Crop_Rice', 'Crop_Sesamum', 'Crop_Wheat'],\n",
       "      dtype='object')"
      ]
     },
     "execution_count": 11,
     "metadata": {},
     "output_type": "execute_result"
    }
   ],
   "source": [
    "punjab_filtered_ohe.columns"
   ]
  },
  {
   "cell_type": "code",
   "execution_count": 12,
   "metadata": {},
   "outputs": [
    {
     "data": {
      "text/html": [
       "<div>\n",
       "<style scoped>\n",
       "    .dataframe tbody tr th:only-of-type {\n",
       "        vertical-align: middle;\n",
       "    }\n",
       "\n",
       "    .dataframe tbody tr th {\n",
       "        vertical-align: top;\n",
       "    }\n",
       "\n",
       "    .dataframe thead th {\n",
       "        text-align: right;\n",
       "    }\n",
       "</style>\n",
       "<table border=\"1\" class=\"dataframe\">\n",
       "  <thead>\n",
       "    <tr style=\"text-align: right;\">\n",
       "      <th></th>\n",
       "      <th>161998</th>\n",
       "    </tr>\n",
       "  </thead>\n",
       "  <tbody>\n",
       "    <tr>\n",
       "      <th>State_Name</th>\n",
       "      <td>Punjab</td>\n",
       "    </tr>\n",
       "    <tr>\n",
       "      <th>Crop_Year</th>\n",
       "      <td>1997</td>\n",
       "    </tr>\n",
       "    <tr>\n",
       "      <th>Area</th>\n",
       "      <td>422000</td>\n",
       "    </tr>\n",
       "    <tr>\n",
       "      <th>Production</th>\n",
       "      <td>1.677e+06</td>\n",
       "    </tr>\n",
       "    <tr>\n",
       "      <th>District_Name_BARNALA</th>\n",
       "      <td>0</td>\n",
       "    </tr>\n",
       "    <tr>\n",
       "      <th>District_Name_BATHINDA</th>\n",
       "      <td>0</td>\n",
       "    </tr>\n",
       "    <tr>\n",
       "      <th>District_Name_FARIDKOT</th>\n",
       "      <td>0</td>\n",
       "    </tr>\n",
       "    <tr>\n",
       "      <th>District_Name_FATEHGARH SAHIB</th>\n",
       "      <td>0</td>\n",
       "    </tr>\n",
       "    <tr>\n",
       "      <th>District_Name_FAZILKA</th>\n",
       "      <td>0</td>\n",
       "    </tr>\n",
       "    <tr>\n",
       "      <th>District_Name_FIROZEPUR</th>\n",
       "      <td>1</td>\n",
       "    </tr>\n",
       "    <tr>\n",
       "      <th>District_Name_GURDASPUR</th>\n",
       "      <td>0</td>\n",
       "    </tr>\n",
       "    <tr>\n",
       "      <th>District_Name_HOSHIARPUR</th>\n",
       "      <td>0</td>\n",
       "    </tr>\n",
       "    <tr>\n",
       "      <th>District_Name_JALANDHAR</th>\n",
       "      <td>0</td>\n",
       "    </tr>\n",
       "    <tr>\n",
       "      <th>District_Name_KAPURTHALA</th>\n",
       "      <td>0</td>\n",
       "    </tr>\n",
       "    <tr>\n",
       "      <th>District_Name_LUDHIANA</th>\n",
       "      <td>0</td>\n",
       "    </tr>\n",
       "    <tr>\n",
       "      <th>District_Name_MANSA</th>\n",
       "      <td>0</td>\n",
       "    </tr>\n",
       "    <tr>\n",
       "      <th>District_Name_MOGA</th>\n",
       "      <td>0</td>\n",
       "    </tr>\n",
       "    <tr>\n",
       "      <th>District_Name_MUKTSAR</th>\n",
       "      <td>0</td>\n",
       "    </tr>\n",
       "    <tr>\n",
       "      <th>District_Name_NAWANSHAHR</th>\n",
       "      <td>0</td>\n",
       "    </tr>\n",
       "    <tr>\n",
       "      <th>District_Name_PATHANKOT</th>\n",
       "      <td>0</td>\n",
       "    </tr>\n",
       "    <tr>\n",
       "      <th>District_Name_PATIALA</th>\n",
       "      <td>0</td>\n",
       "    </tr>\n",
       "    <tr>\n",
       "      <th>District_Name_RUPNAGAR</th>\n",
       "      <td>0</td>\n",
       "    </tr>\n",
       "    <tr>\n",
       "      <th>District_Name_S.A.S NAGAR</th>\n",
       "      <td>0</td>\n",
       "    </tr>\n",
       "    <tr>\n",
       "      <th>District_Name_SANGRUR</th>\n",
       "      <td>0</td>\n",
       "    </tr>\n",
       "    <tr>\n",
       "      <th>District_Name_TARN TARAN</th>\n",
       "      <td>0</td>\n",
       "    </tr>\n",
       "    <tr>\n",
       "      <th>Season_Rabi</th>\n",
       "      <td>1</td>\n",
       "    </tr>\n",
       "    <tr>\n",
       "      <th>Season_Whole Year</th>\n",
       "      <td>0</td>\n",
       "    </tr>\n",
       "    <tr>\n",
       "      <th>Crop_Bajra</th>\n",
       "      <td>0</td>\n",
       "    </tr>\n",
       "    <tr>\n",
       "      <th>Crop_Cotton(lint)</th>\n",
       "      <td>0</td>\n",
       "    </tr>\n",
       "    <tr>\n",
       "      <th>Crop_Jowar</th>\n",
       "      <td>0</td>\n",
       "    </tr>\n",
       "    <tr>\n",
       "      <th>Crop_Linseed</th>\n",
       "      <td>0</td>\n",
       "    </tr>\n",
       "    <tr>\n",
       "      <th>Crop_Maize</th>\n",
       "      <td>0</td>\n",
       "    </tr>\n",
       "    <tr>\n",
       "      <th>Crop_Rice</th>\n",
       "      <td>0</td>\n",
       "    </tr>\n",
       "    <tr>\n",
       "      <th>Crop_Sesamum</th>\n",
       "      <td>0</td>\n",
       "    </tr>\n",
       "    <tr>\n",
       "      <th>Crop_Wheat</th>\n",
       "      <td>1</td>\n",
       "    </tr>\n",
       "  </tbody>\n",
       "</table>\n",
       "</div>"
      ],
      "text/plain": [
       "                                  161998\n",
       "State_Name                        Punjab\n",
       "Crop_Year                           1997\n",
       "Area                              422000\n",
       "Production                     1.677e+06\n",
       "District_Name_BARNALA                  0\n",
       "District_Name_BATHINDA                 0\n",
       "District_Name_FARIDKOT                 0\n",
       "District_Name_FATEHGARH SAHIB          0\n",
       "District_Name_FAZILKA                  0\n",
       "District_Name_FIROZEPUR                1\n",
       "District_Name_GURDASPUR                0\n",
       "District_Name_HOSHIARPUR               0\n",
       "District_Name_JALANDHAR                0\n",
       "District_Name_KAPURTHALA               0\n",
       "District_Name_LUDHIANA                 0\n",
       "District_Name_MANSA                    0\n",
       "District_Name_MOGA                     0\n",
       "District_Name_MUKTSAR                  0\n",
       "District_Name_NAWANSHAHR               0\n",
       "District_Name_PATHANKOT                0\n",
       "District_Name_PATIALA                  0\n",
       "District_Name_RUPNAGAR                 0\n",
       "District_Name_S.A.S NAGAR              0\n",
       "District_Name_SANGRUR                  0\n",
       "District_Name_TARN TARAN               0\n",
       "Season_Rabi                            1\n",
       "Season_Whole Year                      0\n",
       "Crop_Bajra                             0\n",
       "Crop_Cotton(lint)                      0\n",
       "Crop_Jowar                             0\n",
       "Crop_Linseed                           0\n",
       "Crop_Maize                             0\n",
       "Crop_Rice                              0\n",
       "Crop_Sesamum                           0\n",
       "Crop_Wheat                             1"
      ]
     },
     "execution_count": 12,
     "metadata": {},
     "output_type": "execute_result"
    }
   ],
   "source": [
    "punjab_filtered_ohe[(punjab_filtered_ohe['Area']==422000.)].transpose()"
   ]
  },
  {
   "cell_type": "code",
   "execution_count": 13,
   "metadata": {},
   "outputs": [
    {
     "data": {
      "text/plain": [
       "State_Name                       0\n",
       "Crop_Year                        0\n",
       "Area                             0\n",
       "Production                       0\n",
       "District_Name_BARNALA            0\n",
       "District_Name_BATHINDA           0\n",
       "District_Name_FARIDKOT           0\n",
       "District_Name_FATEHGARH SAHIB    0\n",
       "District_Name_FAZILKA            0\n",
       "District_Name_FIROZEPUR          0\n",
       "District_Name_GURDASPUR          0\n",
       "District_Name_HOSHIARPUR         0\n",
       "District_Name_JALANDHAR          0\n",
       "District_Name_KAPURTHALA         0\n",
       "District_Name_LUDHIANA           0\n",
       "District_Name_MANSA              0\n",
       "District_Name_MOGA               0\n",
       "District_Name_MUKTSAR            0\n",
       "District_Name_NAWANSHAHR         0\n",
       "District_Name_PATHANKOT          0\n",
       "District_Name_PATIALA            0\n",
       "District_Name_RUPNAGAR           0\n",
       "District_Name_S.A.S NAGAR        0\n",
       "District_Name_SANGRUR            0\n",
       "District_Name_TARN TARAN         0\n",
       "Season_Rabi                      0\n",
       "Season_Whole Year                0\n",
       "Crop_Bajra                       0\n",
       "Crop_Cotton(lint)                0\n",
       "Crop_Jowar                       0\n",
       "Crop_Linseed                     0\n",
       "Crop_Maize                       0\n",
       "Crop_Rice                        0\n",
       "Crop_Sesamum                     0\n",
       "Crop_Wheat                       0\n",
       "dtype: int64"
      ]
     },
     "execution_count": 13,
     "metadata": {},
     "output_type": "execute_result"
    }
   ],
   "source": [
    "punjab_filtered_ohe.isnull().sum()"
   ]
  },
  {
   "cell_type": "code",
   "execution_count": 14,
   "metadata": {},
   "outputs": [],
   "source": [
    "X = punjab_filtered_ohe.drop(['State_Name','Crop_Year','Production'],axis=1).values"
   ]
  },
  {
   "cell_type": "code",
   "execution_count": 15,
   "metadata": {},
   "outputs": [],
   "source": [
    "y = punjab_filtered_ohe.iloc[:,3].values"
   ]
  },
  {
   "cell_type": "code",
   "execution_count": 16,
   "metadata": {},
   "outputs": [],
   "source": [
    "from sklearn.model_selection import train_test_split"
   ]
  },
  {
   "cell_type": "code",
   "execution_count": 17,
   "metadata": {},
   "outputs": [],
   "source": [
    "X_train, X_test, y_train, y_test = train_test_split(X, y, test_size=0.3, random_state=101)"
   ]
  },
  {
   "cell_type": "code",
   "execution_count": 18,
   "metadata": {},
   "outputs": [],
   "source": [
    "from sklearn.linear_model import LinearRegression,Lasso\n",
    "linear_regression = LinearRegression()\n",
    "lasso = Lasso(alpha=0.1,max_iter=10000)"
   ]
  },
  {
   "cell_type": "code",
   "execution_count": 19,
   "metadata": {},
   "outputs": [
    {
     "name": "stderr",
     "output_type": "stream",
     "text": [
      "C:\\Users\\CHATANAYA\\Anaconda3\\lib\\site-packages\\sklearn\\linear_model\\_coordinate_descent.py:531: ConvergenceWarning: Objective did not converge. You might want to increase the number of iterations. Duality gap: 56891344996.32959, tolerance: 19117956539.82898\n",
      "  positive)\n"
     ]
    },
    {
     "data": {
      "text/plain": [
       "Lasso(alpha=0.1, max_iter=10000)"
      ]
     },
     "execution_count": 19,
     "metadata": {},
     "output_type": "execute_result"
    }
   ],
   "source": [
    "linear_regression.fit(X_train,y_train)\n",
    "lasso.fit(X_train,y_train)"
   ]
  },
  {
   "cell_type": "code",
   "execution_count": 20,
   "metadata": {},
   "outputs": [],
   "source": [
    "from sklearn.ensemble import RandomForestRegressor\n",
    "rfregressor = RandomForestRegressor()"
   ]
  },
  {
   "cell_type": "code",
   "execution_count": 21,
   "metadata": {},
   "outputs": [
    {
     "data": {
      "text/plain": [
       "RandomForestRegressor()"
      ]
     },
     "execution_count": 21,
     "metadata": {},
     "output_type": "execute_result"
    }
   ],
   "source": [
    "rfregressor.fit(X_train,y_train)"
   ]
  },
  {
   "cell_type": "code",
   "execution_count": 22,
   "metadata": {},
   "outputs": [
    {
     "name": "stdout",
     "output_type": "stream",
     "text": [
      "98.08593636473057 %\n"
     ]
    }
   ],
   "source": [
    "accuracy = rfregressor.score(X_test,y_test)\n",
    "print(accuracy*100,'%')"
   ]
  },
  {
   "cell_type": "code",
   "execution_count": 23,
   "metadata": {},
   "outputs": [
    {
     "name": "stdout",
     "output_type": "stream",
     "text": [
      "97.21370900707083 %\n"
     ]
    }
   ],
   "source": [
    "accuracy = linear_regression.score(X_test,y_test)\n",
    "print(accuracy*100,'%')"
   ]
  },
  {
   "cell_type": "code",
   "execution_count": 24,
   "metadata": {},
   "outputs": [
    {
     "name": "stdout",
     "output_type": "stream",
     "text": [
      "97.21389645384608 %\n"
     ]
    }
   ],
   "source": [
    "accuracy = lasso.score(X_test,y_test)\n",
    "print(accuracy*100,'%')"
   ]
  },
  {
   "cell_type": "code",
   "execution_count": 25,
   "metadata": {},
   "outputs": [],
   "source": [
    "y_pred = rfregressor.predict(X_test)"
   ]
  },
  {
   "cell_type": "code",
   "execution_count": 26,
   "metadata": {},
   "outputs": [],
   "source": [
    "from sklearn.metrics import r2_score"
   ]
  },
  {
   "cell_type": "code",
   "execution_count": 27,
   "metadata": {},
   "outputs": [
    {
     "data": {
      "text/plain": [
       "0.9808593636473057"
      ]
     },
     "execution_count": 27,
     "metadata": {},
     "output_type": "execute_result"
    }
   ],
   "source": [
    "r2_score(y_test,y_pred)"
   ]
  },
  {
   "cell_type": "code",
   "execution_count": 28,
   "metadata": {},
   "outputs": [],
   "source": [
    "filename = 'Punjab_Model.sav'\n",
    "pickle.dump(rfregressor, open(filename, 'wb'))\n",
    " \n",
    "# load the model from disk\n",
    "loaded_model = pickle.load(open(filename, 'rb'))\n",
    "result = loaded_model.score(X_test, y_test)"
   ]
  },
  {
   "cell_type": "code",
   "execution_count": 29,
   "metadata": {},
   "outputs": [
    {
     "data": {
      "text/plain": [
       "0.9808593636473057"
      ]
     },
     "execution_count": 29,
     "metadata": {},
     "output_type": "execute_result"
    }
   ],
   "source": [
    "result"
   ]
  },
  {
   "cell_type": "code",
   "execution_count": 30,
   "metadata": {},
   "outputs": [],
   "source": [
    "import matplotlib.pyplot as plt\n",
    "%matplotlib inline"
   ]
  },
  {
   "cell_type": "code",
   "execution_count": 31,
   "metadata": {},
   "outputs": [],
   "source": [
    "#plt.figure(figsize=(16,6))"
   ]
  },
  {
   "cell_type": "code",
   "execution_count": 32,
   "metadata": {},
   "outputs": [
    {
     "data": {
      "text/plain": [
       "[<matplotlib.lines.Line2D at 0x1b1eaa357f0>]"
      ]
     },
     "execution_count": 32,
     "metadata": {},
     "output_type": "execute_result"
    },
    {
     "data": {
      "image/png": "[encoded data removed]",
      "text/plain": [
       "<Figure size 1152x432 with 1 Axes>"
      ]
     },
     "metadata": {
      "needs_background": "light"
     },
     "output_type": "display_data"
    }
   ],
   "source": [
    "plt.figure(figsize=(16,6))\n",
    "plt.plot(y_test,color='blue')\n",
    "plt.plot(y_pred,color='orange')"
   ]
  },
  {
   "cell_type": "code",
   "execution_count": 34,
   "metadata": {},
   "outputs": [
    {
     "name": "stdout",
     "output_type": "stream",
     "text": [
      "RandomForestRegressor()\n"
     ]
    }
   ],
   "source": [
    "print(loaded_model)"
   ]
  },
  {
   "cell_type": "code",
   "execution_count": null,
   "metadata": {},
   "outputs": [],
   "source": []
  }
 ],
 "metadata": {
  "kernelspec": {
   "display_name": "Python 3",
   "language": "python",
   "name": "python3"
  },
  "language_info": {
   "codemirror_mode": {
    "name": "ipython",
    "version": 3
   },
   "file_extension": ".py",
   "mimetype": "text/x-python",
   "name": "python",
   "nbconvert_exporter": "python",
   "pygments_lexer": "ipython3",
   "version": "3.7.1"
  }
 },
 "nbformat": 4,
 "nbformat_minor": 4
}

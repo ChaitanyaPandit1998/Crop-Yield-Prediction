{
 "cells": [
  {
   "cell_type": "code",
   "execution_count": 44,
   "metadata": {},
   "outputs": [],
   "source": [
    "import pandas as pd\n",
    "import numpy as np\n",
    "import pickle"
   ]
  },
  {
   "cell_type": "code",
   "execution_count": 2,
   "metadata": {},
   "outputs": [],
   "source": [
    "total_crop_dataset = pd.read_csv('../crop_production.csv')"
   ]
  },
  {
   "cell_type": "code",
   "execution_count": 3,
   "metadata": {},
   "outputs": [],
   "source": [
    "uttar_pradesh = total_crop_dataset[total_crop_dataset['State_Name']=='Uttar Pradesh']"
   ]
  },
  {
   "cell_type": "code",
   "execution_count": 4,
   "metadata": {},
   "outputs": [
    {
     "data": {
      "text/html": [
       "<div>\n",
       "<style scoped>\n",
       "    .dataframe tbody tr th:only-of-type {\n",
       "        vertical-align: middle;\n",
       "    }\n",
       "\n",
       "    .dataframe tbody tr th {\n",
       "        vertical-align: top;\n",
       "    }\n",
       "\n",
       "    .dataframe thead th {\n",
       "        text-align: right;\n",
       "    }\n",
       "</style>\n",
       "<table border=\"1\" class=\"dataframe\">\n",
       "  <thead>\n",
       "    <tr style=\"text-align: right;\">\n",
       "      <th></th>\n",
       "      <th>State_Name</th>\n",
       "      <th>District_Name</th>\n",
       "      <th>Crop_Year</th>\n",
       "      <th>Season</th>\n",
       "      <th>Crop</th>\n",
       "      <th>Area</th>\n",
       "      <th>Production</th>\n",
       "    </tr>\n",
       "  </thead>\n",
       "  <tbody>\n",
       "    <tr>\n",
       "      <th>198276</th>\n",
       "      <td>Uttar Pradesh</td>\n",
       "      <td>AGRA</td>\n",
       "      <td>1997</td>\n",
       "      <td>Kharif</td>\n",
       "      <td>Arhar/Tur</td>\n",
       "      <td>6538.0</td>\n",
       "      <td>9664.0</td>\n",
       "    </tr>\n",
       "    <tr>\n",
       "      <th>198277</th>\n",
       "      <td>Uttar Pradesh</td>\n",
       "      <td>AGRA</td>\n",
       "      <td>1997</td>\n",
       "      <td>Kharif</td>\n",
       "      <td>Bajra</td>\n",
       "      <td>99898.0</td>\n",
       "      <td>147994.0</td>\n",
       "    </tr>\n",
       "    <tr>\n",
       "      <th>198278</th>\n",
       "      <td>Uttar Pradesh</td>\n",
       "      <td>AGRA</td>\n",
       "      <td>1997</td>\n",
       "      <td>Kharif</td>\n",
       "      <td>Groundnut</td>\n",
       "      <td>27.0</td>\n",
       "      <td>22.0</td>\n",
       "    </tr>\n",
       "    <tr>\n",
       "      <th>198279</th>\n",
       "      <td>Uttar Pradesh</td>\n",
       "      <td>AGRA</td>\n",
       "      <td>1997</td>\n",
       "      <td>Kharif</td>\n",
       "      <td>Jowar</td>\n",
       "      <td>725.0</td>\n",
       "      <td>406.0</td>\n",
       "    </tr>\n",
       "    <tr>\n",
       "      <th>198280</th>\n",
       "      <td>Uttar Pradesh</td>\n",
       "      <td>AGRA</td>\n",
       "      <td>1997</td>\n",
       "      <td>Kharif</td>\n",
       "      <td>Maize</td>\n",
       "      <td>138.0</td>\n",
       "      <td>316.0</td>\n",
       "    </tr>\n",
       "  </tbody>\n",
       "</table>\n",
       "</div>"
      ],
      "text/plain": [
       "           State_Name District_Name  Crop_Year       Season       Crop  \\\n",
       "198276  Uttar Pradesh          AGRA       1997  Kharif       Arhar/Tur   \n",
       "198277  Uttar Pradesh          AGRA       1997  Kharif           Bajra   \n",
       "198278  Uttar Pradesh          AGRA       1997  Kharif       Groundnut   \n",
       "198279  Uttar Pradesh          AGRA       1997  Kharif           Jowar   \n",
       "198280  Uttar Pradesh          AGRA       1997  Kharif           Maize   \n",
       "\n",
       "           Area  Production  \n",
       "198276   6538.0      9664.0  \n",
       "198277  99898.0    147994.0  \n",
       "198278     27.0        22.0  \n",
       "198279    725.0       406.0  \n",
       "198280    138.0       316.0  "
      ]
     },
     "execution_count": 4,
     "metadata": {},
     "output_type": "execute_result"
    }
   ],
   "source": [
    "uttar_pradesh.head()"
   ]
  },
  {
   "cell_type": "code",
   "execution_count": 5,
   "metadata": {},
   "outputs": [
    {
     "name": "stdout",
     "output_type": "stream",
     "text": [
      "<class 'pandas.core.frame.DataFrame'>\n",
      "Int64Index: 33306 entries, 198276 to 231581\n",
      "Data columns (total 7 columns):\n",
      " #   Column         Non-Null Count  Dtype  \n",
      "---  ------         --------------  -----  \n",
      " 0   State_Name     33306 non-null  object \n",
      " 1   District_Name  33306 non-null  object \n",
      " 2   Crop_Year      33306 non-null  int64  \n",
      " 3   Season         33306 non-null  object \n",
      " 4   Crop           33306 non-null  object \n",
      " 5   Area           33306 non-null  float64\n",
      " 6   Production     33189 non-null  float64\n",
      "dtypes: float64(2), int64(1), object(4)\n",
      "memory usage: 2.0+ MB\n"
     ]
    }
   ],
   "source": [
    "uttar_pradesh.info()"
   ]
  },
  {
   "cell_type": "code",
   "execution_count": 6,
   "metadata": {},
   "outputs": [
    {
     "data": {
      "text/plain": [
       "State_Name         0\n",
       "District_Name      0\n",
       "Crop_Year          0\n",
       "Season             0\n",
       "Crop               0\n",
       "Area               0\n",
       "Production       117\n",
       "dtype: int64"
      ]
     },
     "execution_count": 6,
     "metadata": {},
     "output_type": "execute_result"
    }
   ],
   "source": [
    "uttar_pradesh.isnull().sum()"
   ]
  },
  {
   "cell_type": "code",
   "execution_count": 7,
   "metadata": {},
   "outputs": [],
   "source": [
    "uttar_pradesh = uttar_pradesh.dropna()"
   ]
  },
  {
   "cell_type": "code",
   "execution_count": 8,
   "metadata": {},
   "outputs": [
    {
     "data": {
      "text/plain": [
       "State_Name       0\n",
       "District_Name    0\n",
       "Crop_Year        0\n",
       "Season           0\n",
       "Crop             0\n",
       "Area             0\n",
       "Production       0\n",
       "dtype: int64"
      ]
     },
     "execution_count": 8,
     "metadata": {},
     "output_type": "execute_result"
    }
   ],
   "source": [
    "uttar_pradesh.isnull().sum()"
   ]
  },
  {
   "cell_type": "code",
   "execution_count": 9,
   "metadata": {},
   "outputs": [
    {
     "data": {
      "text/plain": [
       "array(['AGRA', 'ALIGARH', 'ALLAHABAD', 'AMBEDKAR NAGAR', 'AMETHI',\n",
       "       'AMROHA', 'AURAIYA', 'AZAMGARH', 'BAGHPAT', 'BAHRAICH', 'BALLIA',\n",
       "       'BALRAMPUR', 'BANDA', 'BARABANKI', 'BAREILLY', 'BASTI', 'BIJNOR',\n",
       "       'BUDAUN', 'BULANDSHAHR', 'CHANDAULI', 'CHITRAKOOT', 'DEORIA',\n",
       "       'ETAH', 'ETAWAH', 'FAIZABAD', 'FARRUKHABAD', 'FATEHPUR',\n",
       "       'FIROZABAD', 'GAUTAM BUDDHA NAGAR', 'GHAZIABAD', 'GHAZIPUR',\n",
       "       'GONDA', 'GORAKHPUR', 'HAMIRPUR', 'HAPUR', 'HARDOI', 'HATHRAS',\n",
       "       'JALAUN', 'JAUNPUR', 'JHANSI', 'KANNAUJ', 'KANPUR DEHAT',\n",
       "       'KANPUR NAGAR', 'KASGANJ', 'KAUSHAMBI', 'KHERI', 'KUSHI NAGAR',\n",
       "       'LALITPUR', 'LUCKNOW', 'MAHARAJGANJ', 'MAHOBA', 'MAINPURI',\n",
       "       'MATHURA', 'MAU', 'MEERUT', 'MIRZAPUR', 'MORADABAD',\n",
       "       'MUZAFFARNAGAR', 'PILIBHIT', 'PRATAPGARH', 'RAE BARELI', 'RAMPUR',\n",
       "       'SAHARANPUR', 'SAMBHAL', 'SANT KABEER NAGAR', 'SANT RAVIDAS NAGAR',\n",
       "       'SHAHJAHANPUR', 'SHAMLI', 'SHRAVASTI', 'SIDDHARTH NAGAR',\n",
       "       'SITAPUR', 'SONBHADRA', 'SULTANPUR', 'UNNAO', 'VARANASI'],\n",
       "      dtype=object)"
      ]
     },
     "execution_count": 9,
     "metadata": {},
     "output_type": "execute_result"
    }
   ],
   "source": [
    "uttar_pradesh['District_Name'].unique()"
   ]
  },
  {
   "cell_type": "code",
   "execution_count": 10,
   "metadata": {},
   "outputs": [
    {
     "data": {
      "text/plain": [
       "75"
      ]
     },
     "execution_count": 10,
     "metadata": {},
     "output_type": "execute_result"
    }
   ],
   "source": [
    "uttar_pradesh['District_Name'].nunique()"
   ]
  },
  {
   "cell_type": "code",
   "execution_count": 11,
   "metadata": {},
   "outputs": [],
   "source": [
    "uttar_pradesh_filtered = uttar_pradesh[\n",
    "    (uttar_pradesh['Crop']=='Wheat') | \n",
    "    (uttar_pradesh['Crop']=='Rice')  |\n",
    "    (uttar_pradesh['Crop']=='Jowar')  |\n",
    "    (uttar_pradesh['Crop']=='Bajra')  |\n",
    "    (uttar_pradesh['Crop']=='Cardamom')  |\n",
    "    (uttar_pradesh['Crop']=='Garlic')  |\n",
    "    (uttar_pradesh['Crop']=='Turmeric')  |\n",
    "    (uttar_pradesh['Crop']=='Ginger')  |\n",
    "    (uttar_pradesh['Crop']=='Cotton(lint)')  |\n",
    "    (uttar_pradesh['Crop']=='Linseed')  |\n",
    "    (uttar_pradesh['Crop']=='Sesamum')  |\n",
    "    (uttar_pradesh['Crop']=='Coconut ')  |\n",
    "    (uttar_pradesh['Crop']=='Onion')  |\n",
    "    (uttar_pradesh['Crop']=='Arhar/Tur')  |\n",
    "    (uttar_pradesh['Crop']=='Potato')  |\n",
    "    (uttar_pradesh['Crop']=='Maize')  \n",
    "]"
   ]
  },
  {
   "cell_type": "code",
   "execution_count": 12,
   "metadata": {},
   "outputs": [
    {
     "name": "stdout",
     "output_type": "stream",
     "text": [
      "<class 'pandas.core.frame.DataFrame'>\n",
      "Int64Index: 15047 entries, 198276 to 231580\n",
      "Data columns (total 7 columns):\n",
      " #   Column         Non-Null Count  Dtype  \n",
      "---  ------         --------------  -----  \n",
      " 0   State_Name     15047 non-null  object \n",
      " 1   District_Name  15047 non-null  object \n",
      " 2   Crop_Year      15047 non-null  int64  \n",
      " 3   Season         15047 non-null  object \n",
      " 4   Crop           15047 non-null  object \n",
      " 5   Area           15047 non-null  float64\n",
      " 6   Production     15047 non-null  float64\n",
      "dtypes: float64(2), int64(1), object(4)\n",
      "memory usage: 940.4+ KB\n"
     ]
    }
   ],
   "source": [
    "uttar_pradesh_filtered.info()"
   ]
  },
  {
   "cell_type": "code",
   "execution_count": 13,
   "metadata": {},
   "outputs": [
    {
     "data": {
      "text/plain": [
       "array(['Kharif     ', 'Rabi       ', 'Summer     ', 'Whole Year '],\n",
       "      dtype=object)"
      ]
     },
     "execution_count": 13,
     "metadata": {},
     "output_type": "execute_result"
    }
   ],
   "source": [
    "uttar_pradesh['Season'].unique()"
   ]
  },
  {
   "cell_type": "code",
   "execution_count": 14,
   "metadata": {},
   "outputs": [
    {
     "data": {
      "text/plain": [
       "14"
      ]
     },
     "execution_count": 14,
     "metadata": {},
     "output_type": "execute_result"
    }
   ],
   "source": [
    "uttar_pradesh_filtered['Crop'].nunique()"
   ]
  },
  {
   "cell_type": "code",
   "execution_count": 15,
   "metadata": {},
   "outputs": [],
   "source": [
    "uttar_pradesh_filtered_ohe = pd.get_dummies(uttar_pradesh_filtered, columns=['District_Name', 'Season','Crop'],drop_first=True)"
   ]
  },
  {
   "cell_type": "code",
   "execution_count": 16,
   "metadata": {},
   "outputs": [
    {
     "data": {
      "text/html": [
       "<div>\n",
       "<style scoped>\n",
       "    .dataframe tbody tr th:only-of-type {\n",
       "        vertical-align: middle;\n",
       "    }\n",
       "\n",
       "    .dataframe tbody tr th {\n",
       "        vertical-align: top;\n",
       "    }\n",
       "\n",
       "    .dataframe thead th {\n",
       "        text-align: right;\n",
       "    }\n",
       "</style>\n",
       "<table border=\"1\" class=\"dataframe\">\n",
       "  <thead>\n",
       "    <tr style=\"text-align: right;\">\n",
       "      <th></th>\n",
       "      <th>State_Name</th>\n",
       "      <th>Crop_Year</th>\n",
       "      <th>Area</th>\n",
       "      <th>Production</th>\n",
       "      <th>District_Name_ALIGARH</th>\n",
       "      <th>District_Name_ALLAHABAD</th>\n",
       "      <th>District_Name_AMBEDKAR NAGAR</th>\n",
       "      <th>District_Name_AMETHI</th>\n",
       "      <th>District_Name_AMROHA</th>\n",
       "      <th>District_Name_AURAIYA</th>\n",
       "      <th>...</th>\n",
       "      <th>Crop_Ginger</th>\n",
       "      <th>Crop_Jowar</th>\n",
       "      <th>Crop_Linseed</th>\n",
       "      <th>Crop_Maize</th>\n",
       "      <th>Crop_Onion</th>\n",
       "      <th>Crop_Potato</th>\n",
       "      <th>Crop_Rice</th>\n",
       "      <th>Crop_Sesamum</th>\n",
       "      <th>Crop_Turmeric</th>\n",
       "      <th>Crop_Wheat</th>\n",
       "    </tr>\n",
       "  </thead>\n",
       "  <tbody>\n",
       "    <tr>\n",
       "      <th>198276</th>\n",
       "      <td>Uttar Pradesh</td>\n",
       "      <td>1997</td>\n",
       "      <td>6538.0</td>\n",
       "      <td>9664.0</td>\n",
       "      <td>0</td>\n",
       "      <td>0</td>\n",
       "      <td>0</td>\n",
       "      <td>0</td>\n",
       "      <td>0</td>\n",
       "      <td>0</td>\n",
       "      <td>...</td>\n",
       "      <td>0</td>\n",
       "      <td>0</td>\n",
       "      <td>0</td>\n",
       "      <td>0</td>\n",
       "      <td>0</td>\n",
       "      <td>0</td>\n",
       "      <td>0</td>\n",
       "      <td>0</td>\n",
       "      <td>0</td>\n",
       "      <td>0</td>\n",
       "    </tr>\n",
       "    <tr>\n",
       "      <th>198277</th>\n",
       "      <td>Uttar Pradesh</td>\n",
       "      <td>1997</td>\n",
       "      <td>99898.0</td>\n",
       "      <td>147994.0</td>\n",
       "      <td>0</td>\n",
       "      <td>0</td>\n",
       "      <td>0</td>\n",
       "      <td>0</td>\n",
       "      <td>0</td>\n",
       "      <td>0</td>\n",
       "      <td>...</td>\n",
       "      <td>0</td>\n",
       "      <td>0</td>\n",
       "      <td>0</td>\n",
       "      <td>0</td>\n",
       "      <td>0</td>\n",
       "      <td>0</td>\n",
       "      <td>0</td>\n",
       "      <td>0</td>\n",
       "      <td>0</td>\n",
       "      <td>0</td>\n",
       "    </tr>\n",
       "    <tr>\n",
       "      <th>198279</th>\n",
       "      <td>Uttar Pradesh</td>\n",
       "      <td>1997</td>\n",
       "      <td>725.0</td>\n",
       "      <td>406.0</td>\n",
       "      <td>0</td>\n",
       "      <td>0</td>\n",
       "      <td>0</td>\n",
       "      <td>0</td>\n",
       "      <td>0</td>\n",
       "      <td>0</td>\n",
       "      <td>...</td>\n",
       "      <td>0</td>\n",
       "      <td>1</td>\n",
       "      <td>0</td>\n",
       "      <td>0</td>\n",
       "      <td>0</td>\n",
       "      <td>0</td>\n",
       "      <td>0</td>\n",
       "      <td>0</td>\n",
       "      <td>0</td>\n",
       "      <td>0</td>\n",
       "    </tr>\n",
       "    <tr>\n",
       "      <th>198280</th>\n",
       "      <td>Uttar Pradesh</td>\n",
       "      <td>1997</td>\n",
       "      <td>138.0</td>\n",
       "      <td>316.0</td>\n",
       "      <td>0</td>\n",
       "      <td>0</td>\n",
       "      <td>0</td>\n",
       "      <td>0</td>\n",
       "      <td>0</td>\n",
       "      <td>0</td>\n",
       "      <td>...</td>\n",
       "      <td>0</td>\n",
       "      <td>0</td>\n",
       "      <td>0</td>\n",
       "      <td>1</td>\n",
       "      <td>0</td>\n",
       "      <td>0</td>\n",
       "      <td>0</td>\n",
       "      <td>0</td>\n",
       "      <td>0</td>\n",
       "      <td>0</td>\n",
       "    </tr>\n",
       "    <tr>\n",
       "      <th>198284</th>\n",
       "      <td>Uttar Pradesh</td>\n",
       "      <td>1997</td>\n",
       "      <td>110.0</td>\n",
       "      <td>1088.0</td>\n",
       "      <td>0</td>\n",
       "      <td>0</td>\n",
       "      <td>0</td>\n",
       "      <td>0</td>\n",
       "      <td>0</td>\n",
       "      <td>0</td>\n",
       "      <td>...</td>\n",
       "      <td>0</td>\n",
       "      <td>0</td>\n",
       "      <td>0</td>\n",
       "      <td>0</td>\n",
       "      <td>1</td>\n",
       "      <td>0</td>\n",
       "      <td>0</td>\n",
       "      <td>0</td>\n",
       "      <td>0</td>\n",
       "      <td>0</td>\n",
       "    </tr>\n",
       "  </tbody>\n",
       "</table>\n",
       "<p>5 rows × 94 columns</p>\n",
       "</div>"
      ],
      "text/plain": [
       "           State_Name  Crop_Year     Area  Production  District_Name_ALIGARH  \\\n",
       "198276  Uttar Pradesh       1997   6538.0      9664.0                      0   \n",
       "198277  Uttar Pradesh       1997  99898.0    147994.0                      0   \n",
       "198279  Uttar Pradesh       1997    725.0       406.0                      0   \n",
       "198280  Uttar Pradesh       1997    138.0       316.0                      0   \n",
       "198284  Uttar Pradesh       1997    110.0      1088.0                      0   \n",
       "\n",
       "        District_Name_ALLAHABAD  District_Name_AMBEDKAR NAGAR  \\\n",
       "198276                        0                             0   \n",
       "198277                        0                             0   \n",
       "198279                        0                             0   \n",
       "198280                        0                             0   \n",
       "198284                        0                             0   \n",
       "\n",
       "        District_Name_AMETHI  District_Name_AMROHA  District_Name_AURAIYA  \\\n",
       "198276                     0                     0                      0   \n",
       "198277                     0                     0                      0   \n",
       "198279                     0                     0                      0   \n",
       "198280                     0                     0                      0   \n",
       "198284                     0                     0                      0   \n",
       "\n",
       "        ...  Crop_Ginger  Crop_Jowar  Crop_Linseed  Crop_Maize  Crop_Onion  \\\n",
       "198276  ...            0           0             0           0           0   \n",
       "198277  ...            0           0             0           0           0   \n",
       "198279  ...            0           1             0           0           0   \n",
       "198280  ...            0           0             0           1           0   \n",
       "198284  ...            0           0             0           0           1   \n",
       "\n",
       "        Crop_Potato  Crop_Rice  Crop_Sesamum  Crop_Turmeric  Crop_Wheat  \n",
       "198276            0          0             0              0           0  \n",
       "198277            0          0             0              0           0  \n",
       "198279            0          0             0              0           0  \n",
       "198280            0          0             0              0           0  \n",
       "198284            0          0             0              0           0  \n",
       "\n",
       "[5 rows x 94 columns]"
      ]
     },
     "execution_count": 16,
     "metadata": {},
     "output_type": "execute_result"
    }
   ],
   "source": [
    "uttar_pradesh_filtered_ohe.head()"
   ]
  },
  {
   "cell_type": "code",
   "execution_count": 47,
   "metadata": {},
   "outputs": [
    {
     "data": {
      "text/html": [
       "<div>\n",
       "<style scoped>\n",
       "    .dataframe tbody tr th:only-of-type {\n",
       "        vertical-align: middle;\n",
       "    }\n",
       "\n",
       "    .dataframe tbody tr th {\n",
       "        vertical-align: top;\n",
       "    }\n",
       "\n",
       "    .dataframe thead th {\n",
       "        text-align: right;\n",
       "    }\n",
       "</style>\n",
       "<table border=\"1\" class=\"dataframe\">\n",
       "  <thead>\n",
       "    <tr style=\"text-align: right;\">\n",
       "      <th></th>\n",
       "      <th>198296</th>\n",
       "    </tr>\n",
       "  </thead>\n",
       "  <tbody>\n",
       "    <tr>\n",
       "      <th>State_Name</th>\n",
       "      <td>Uttar Pradesh</td>\n",
       "    </tr>\n",
       "    <tr>\n",
       "      <th>Crop_Year</th>\n",
       "      <td>1997</td>\n",
       "    </tr>\n",
       "    <tr>\n",
       "      <th>Area</th>\n",
       "      <td>123600</td>\n",
       "    </tr>\n",
       "    <tr>\n",
       "      <th>Production</th>\n",
       "      <td>391030</td>\n",
       "    </tr>\n",
       "    <tr>\n",
       "      <th>District_Name_ALIGARH</th>\n",
       "      <td>0</td>\n",
       "    </tr>\n",
       "    <tr>\n",
       "      <th>...</th>\n",
       "      <td>...</td>\n",
       "    </tr>\n",
       "    <tr>\n",
       "      <th>Crop_Potato</th>\n",
       "      <td>0</td>\n",
       "    </tr>\n",
       "    <tr>\n",
       "      <th>Crop_Rice</th>\n",
       "      <td>0</td>\n",
       "    </tr>\n",
       "    <tr>\n",
       "      <th>Crop_Sesamum</th>\n",
       "      <td>0</td>\n",
       "    </tr>\n",
       "    <tr>\n",
       "      <th>Crop_Turmeric</th>\n",
       "      <td>0</td>\n",
       "    </tr>\n",
       "    <tr>\n",
       "      <th>Crop_Wheat</th>\n",
       "      <td>1</td>\n",
       "    </tr>\n",
       "  </tbody>\n",
       "</table>\n",
       "<p>94 rows × 1 columns</p>\n",
       "</div>"
      ],
      "text/plain": [
       "                              198296\n",
       "State_Name             Uttar Pradesh\n",
       "Crop_Year                       1997\n",
       "Area                          123600\n",
       "Production                    391030\n",
       "District_Name_ALIGARH              0\n",
       "...                              ...\n",
       "Crop_Potato                        0\n",
       "Crop_Rice                          0\n",
       "Crop_Sesamum                       0\n",
       "Crop_Turmeric                      0\n",
       "Crop_Wheat                         1\n",
       "\n",
       "[94 rows x 1 columns]"
      ]
     },
     "execution_count": 47,
     "metadata": {},
     "output_type": "execute_result"
    }
   ],
   "source": [
    "uttar_pradesh_filtered_ohe[(uttar_pradesh_filtered['Area']==123600.)].transpose()"
   ]
  },
  {
   "cell_type": "code",
   "execution_count": 17,
   "metadata": {},
   "outputs": [
    {
     "name": "stdout",
     "output_type": "stream",
     "text": [
      "<class 'pandas.core.frame.DataFrame'>\n",
      "Int64Index: 15047 entries, 198276 to 231580\n",
      "Data columns (total 94 columns):\n",
      " #   Column                             Non-Null Count  Dtype  \n",
      "---  ------                             --------------  -----  \n",
      " 0   State_Name                         15047 non-null  object \n",
      " 1   Crop_Year                          15047 non-null  int64  \n",
      " 2   Area                               15047 non-null  float64\n",
      " 3   Production                         15047 non-null  float64\n",
      " 4   District_Name_ALIGARH              15047 non-null  uint8  \n",
      " 5   District_Name_ALLAHABAD            15047 non-null  uint8  \n",
      " 6   District_Name_AMBEDKAR NAGAR       15047 non-null  uint8  \n",
      " 7   District_Name_AMETHI               15047 non-null  uint8  \n",
      " 8   District_Name_AMROHA               15047 non-null  uint8  \n",
      " 9   District_Name_AURAIYA              15047 non-null  uint8  \n",
      " 10  District_Name_AZAMGARH             15047 non-null  uint8  \n",
      " 11  District_Name_BAGHPAT              15047 non-null  uint8  \n",
      " 12  District_Name_BAHRAICH             15047 non-null  uint8  \n",
      " 13  District_Name_BALLIA               15047 non-null  uint8  \n",
      " 14  District_Name_BALRAMPUR            15047 non-null  uint8  \n",
      " 15  District_Name_BANDA                15047 non-null  uint8  \n",
      " 16  District_Name_BARABANKI            15047 non-null  uint8  \n",
      " 17  District_Name_BAREILLY             15047 non-null  uint8  \n",
      " 18  District_Name_BASTI                15047 non-null  uint8  \n",
      " 19  District_Name_BIJNOR               15047 non-null  uint8  \n",
      " 20  District_Name_BUDAUN               15047 non-null  uint8  \n",
      " 21  District_Name_BULANDSHAHR          15047 non-null  uint8  \n",
      " 22  District_Name_CHANDAULI            15047 non-null  uint8  \n",
      " 23  District_Name_CHITRAKOOT           15047 non-null  uint8  \n",
      " 24  District_Name_DEORIA               15047 non-null  uint8  \n",
      " 25  District_Name_ETAH                 15047 non-null  uint8  \n",
      " 26  District_Name_ETAWAH               15047 non-null  uint8  \n",
      " 27  District_Name_FAIZABAD             15047 non-null  uint8  \n",
      " 28  District_Name_FARRUKHABAD          15047 non-null  uint8  \n",
      " 29  District_Name_FATEHPUR             15047 non-null  uint8  \n",
      " 30  District_Name_FIROZABAD            15047 non-null  uint8  \n",
      " 31  District_Name_GAUTAM BUDDHA NAGAR  15047 non-null  uint8  \n",
      " 32  District_Name_GHAZIABAD            15047 non-null  uint8  \n",
      " 33  District_Name_GHAZIPUR             15047 non-null  uint8  \n",
      " 34  District_Name_GONDA                15047 non-null  uint8  \n",
      " 35  District_Name_GORAKHPUR            15047 non-null  uint8  \n",
      " 36  District_Name_HAMIRPUR             15047 non-null  uint8  \n",
      " 37  District_Name_HAPUR                15047 non-null  uint8  \n",
      " 38  District_Name_HARDOI               15047 non-null  uint8  \n",
      " 39  District_Name_HATHRAS              15047 non-null  uint8  \n",
      " 40  District_Name_JALAUN               15047 non-null  uint8  \n",
      " 41  District_Name_JAUNPUR              15047 non-null  uint8  \n",
      " 42  District_Name_JHANSI               15047 non-null  uint8  \n",
      " 43  District_Name_KANNAUJ              15047 non-null  uint8  \n",
      " 44  District_Name_KANPUR DEHAT         15047 non-null  uint8  \n",
      " 45  District_Name_KANPUR NAGAR         15047 non-null  uint8  \n",
      " 46  District_Name_KASGANJ              15047 non-null  uint8  \n",
      " 47  District_Name_KAUSHAMBI            15047 non-null  uint8  \n",
      " 48  District_Name_KHERI                15047 non-null  uint8  \n",
      " 49  District_Name_KUSHI NAGAR          15047 non-null  uint8  \n",
      " 50  District_Name_LALITPUR             15047 non-null  uint8  \n",
      " 51  District_Name_LUCKNOW              15047 non-null  uint8  \n",
      " 52  District_Name_MAHARAJGANJ          15047 non-null  uint8  \n",
      " 53  District_Name_MAHOBA               15047 non-null  uint8  \n",
      " 54  District_Name_MAINPURI             15047 non-null  uint8  \n",
      " 55  District_Name_MATHURA              15047 non-null  uint8  \n",
      " 56  District_Name_MAU                  15047 non-null  uint8  \n",
      " 57  District_Name_MEERUT               15047 non-null  uint8  \n",
      " 58  District_Name_MIRZAPUR             15047 non-null  uint8  \n",
      " 59  District_Name_MORADABAD            15047 non-null  uint8  \n",
      " 60  District_Name_MUZAFFARNAGAR        15047 non-null  uint8  \n",
      " 61  District_Name_PILIBHIT             15047 non-null  uint8  \n",
      " 62  District_Name_PRATAPGARH           15047 non-null  uint8  \n",
      " 63  District_Name_RAE BARELI           15047 non-null  uint8  \n",
      " 64  District_Name_RAMPUR               15047 non-null  uint8  \n",
      " 65  District_Name_SAHARANPUR           15047 non-null  uint8  \n",
      " 66  District_Name_SAMBHAL              15047 non-null  uint8  \n",
      " 67  District_Name_SANT KABEER NAGAR    15047 non-null  uint8  \n",
      " 68  District_Name_SANT RAVIDAS NAGAR   15047 non-null  uint8  \n",
      " 69  District_Name_SHAHJAHANPUR         15047 non-null  uint8  \n",
      " 70  District_Name_SHAMLI               15047 non-null  uint8  \n",
      " 71  District_Name_SHRAVASTI            15047 non-null  uint8  \n",
      " 72  District_Name_SIDDHARTH NAGAR      15047 non-null  uint8  \n",
      " 73  District_Name_SITAPUR              15047 non-null  uint8  \n",
      " 74  District_Name_SONBHADRA            15047 non-null  uint8  \n",
      " 75  District_Name_SULTANPUR            15047 non-null  uint8  \n",
      " 76  District_Name_UNNAO                15047 non-null  uint8  \n",
      " 77  District_Name_VARANASI             15047 non-null  uint8  \n",
      " 78  Season_Rabi                        15047 non-null  uint8  \n",
      " 79  Season_Summer                      15047 non-null  uint8  \n",
      " 80  Season_Whole Year                  15047 non-null  uint8  \n",
      " 81  Crop_Bajra                         15047 non-null  uint8  \n",
      " 82  Crop_Cotton(lint)                  15047 non-null  uint8  \n",
      " 83  Crop_Garlic                        15047 non-null  uint8  \n",
      " 84  Crop_Ginger                        15047 non-null  uint8  \n",
      " 85  Crop_Jowar                         15047 non-null  uint8  \n",
      " 86  Crop_Linseed                       15047 non-null  uint8  \n",
      " 87  Crop_Maize                         15047 non-null  uint8  \n",
      " 88  Crop_Onion                         15047 non-null  uint8  \n",
      " 89  Crop_Potato                        15047 non-null  uint8  \n",
      " 90  Crop_Rice                          15047 non-null  uint8  \n",
      " 91  Crop_Sesamum                       15047 non-null  uint8  \n",
      " 92  Crop_Turmeric                      15047 non-null  uint8  \n",
      " 93  Crop_Wheat                         15047 non-null  uint8  \n",
      "dtypes: float64(2), int64(1), object(1), uint8(90)\n",
      "memory usage: 1.9+ MB\n"
     ]
    }
   ],
   "source": [
    "uttar_pradesh_filtered_ohe.info()"
   ]
  },
  {
   "cell_type": "code",
   "execution_count": 43,
   "metadata": {},
   "outputs": [
    {
     "data": {
      "text/plain": [
       "Index(['State_Name', 'Crop_Year', 'Area', 'Production',\n",
       "       'District_Name_ALIGARH', 'District_Name_ALLAHABAD',\n",
       "       'District_Name_AMBEDKAR NAGAR', 'District_Name_AMETHI',\n",
       "       'District_Name_AMROHA', 'District_Name_AURAIYA',\n",
       "       'District_Name_AZAMGARH', 'District_Name_BAGHPAT',\n",
       "       'District_Name_BAHRAICH', 'District_Name_BALLIA',\n",
       "       'District_Name_BALRAMPUR', 'District_Name_BANDA',\n",
       "       'District_Name_BARABANKI', 'District_Name_BAREILLY',\n",
       "       'District_Name_BASTI', 'District_Name_BIJNOR', 'District_Name_BUDAUN',\n",
       "       'District_Name_BULANDSHAHR', 'District_Name_CHANDAULI',\n",
       "       'District_Name_CHITRAKOOT', 'District_Name_DEORIA',\n",
       "       'District_Name_ETAH', 'District_Name_ETAWAH', 'District_Name_FAIZABAD',\n",
       "       'District_Name_FARRUKHABAD', 'District_Name_FATEHPUR',\n",
       "       'District_Name_FIROZABAD', 'District_Name_GAUTAM BUDDHA NAGAR',\n",
       "       'District_Name_GHAZIABAD', 'District_Name_GHAZIPUR',\n",
       "       'District_Name_GONDA', 'District_Name_GORAKHPUR',\n",
       "       'District_Name_HAMIRPUR', 'District_Name_HAPUR', 'District_Name_HARDOI',\n",
       "       'District_Name_HATHRAS', 'District_Name_JALAUN',\n",
       "       'District_Name_JAUNPUR', 'District_Name_JHANSI',\n",
       "       'District_Name_KANNAUJ', 'District_Name_KANPUR DEHAT',\n",
       "       'District_Name_KANPUR NAGAR', 'District_Name_KASGANJ',\n",
       "       'District_Name_KAUSHAMBI', 'District_Name_KHERI',\n",
       "       'District_Name_KUSHI NAGAR', 'District_Name_LALITPUR',\n",
       "       'District_Name_LUCKNOW', 'District_Name_MAHARAJGANJ',\n",
       "       'District_Name_MAHOBA', 'District_Name_MAINPURI',\n",
       "       'District_Name_MATHURA', 'District_Name_MAU', 'District_Name_MEERUT',\n",
       "       'District_Name_MIRZAPUR', 'District_Name_MORADABAD',\n",
       "       'District_Name_MUZAFFARNAGAR', 'District_Name_PILIBHIT',\n",
       "       'District_Name_PRATAPGARH', 'District_Name_RAE BARELI',\n",
       "       'District_Name_RAMPUR', 'District_Name_SAHARANPUR',\n",
       "       'District_Name_SAMBHAL', 'District_Name_SANT KABEER NAGAR',\n",
       "       'District_Name_SANT RAVIDAS NAGAR', 'District_Name_SHAHJAHANPUR',\n",
       "       'District_Name_SHAMLI', 'District_Name_SHRAVASTI',\n",
       "       'District_Name_SIDDHARTH NAGAR', 'District_Name_SITAPUR',\n",
       "       'District_Name_SONBHADRA', 'District_Name_SULTANPUR',\n",
       "       'District_Name_UNNAO', 'District_Name_VARANASI', 'Season_Rabi       ',\n",
       "       'Season_Summer     ', 'Season_Whole Year ', 'Crop_Bajra',\n",
       "       'Crop_Cotton(lint)', 'Crop_Garlic', 'Crop_Ginger', 'Crop_Jowar',\n",
       "       'Crop_Linseed', 'Crop_Maize', 'Crop_Onion', 'Crop_Potato', 'Crop_Rice',\n",
       "       'Crop_Sesamum', 'Crop_Turmeric', 'Crop_Wheat'],\n",
       "      dtype='object')"
      ]
     },
     "execution_count": 43,
     "metadata": {},
     "output_type": "execute_result"
    }
   ],
   "source": [
    "uttar_pradesh_filtered_ohe.columns"
   ]
  },
  {
   "cell_type": "code",
   "execution_count": 18,
   "metadata": {},
   "outputs": [
    {
     "data": {
      "text/plain": [
       "State_Name               0\n",
       "Crop_Year                0\n",
       "Area                     0\n",
       "Production               0\n",
       "District_Name_ALIGARH    0\n",
       "                        ..\n",
       "Crop_Potato              0\n",
       "Crop_Rice                0\n",
       "Crop_Sesamum             0\n",
       "Crop_Turmeric            0\n",
       "Crop_Wheat               0\n",
       "Length: 94, dtype: int64"
      ]
     },
     "execution_count": 18,
     "metadata": {},
     "output_type": "execute_result"
    }
   ],
   "source": [
    "uttar_pradesh_filtered_ohe.isnull().sum()"
   ]
  },
  {
   "cell_type": "code",
   "execution_count": 19,
   "metadata": {},
   "outputs": [],
   "source": [
    "X = uttar_pradesh_filtered_ohe.drop(['State_Name','Crop_Year','Production'],axis=1).values"
   ]
  },
  {
   "cell_type": "code",
   "execution_count": 20,
   "metadata": {},
   "outputs": [],
   "source": [
    "y = uttar_pradesh_filtered_ohe.iloc[:,3].values"
   ]
  },
  {
   "cell_type": "code",
   "execution_count": 21,
   "metadata": {},
   "outputs": [
    {
     "data": {
      "text/plain": [
       "array([9.66400e+03, 1.47994e+05, 4.06000e+02, ..., 1.27010e+05,\n",
       "       1.05000e+02, 2.38200e+03])"
      ]
     },
     "execution_count": 21,
     "metadata": {},
     "output_type": "execute_result"
    }
   ],
   "source": [
    "y"
   ]
  },
  {
   "cell_type": "code",
   "execution_count": 22,
   "metadata": {},
   "outputs": [],
   "source": [
    "from sklearn.model_selection import train_test_split"
   ]
  },
  {
   "cell_type": "code",
   "execution_count": 23,
   "metadata": {},
   "outputs": [],
   "source": [
    "X_train, X_test, y_train, y_test = train_test_split(X, y, test_size=0.3)"
   ]
  },
  {
   "cell_type": "code",
   "execution_count": 24,
   "metadata": {},
   "outputs": [],
   "source": [
    "from sklearn.linear_model import LinearRegression,Lasso\n",
    "linear_regression = LinearRegression()\n",
    "lasso = Lasso()"
   ]
  },
  {
   "cell_type": "code",
   "execution_count": 25,
   "metadata": {},
   "outputs": [
    {
     "data": {
      "text/plain": [
       "Lasso()"
      ]
     },
     "execution_count": 25,
     "metadata": {},
     "output_type": "execute_result"
    }
   ],
   "source": [
    "linear_regression.fit(X_train,y_train)\n",
    "lasso.fit(X_train,y_train)"
   ]
  },
  {
   "cell_type": "code",
   "execution_count": 26,
   "metadata": {},
   "outputs": [],
   "source": [
    "from sklearn.ensemble import RandomForestRegressor\n",
    "rfregressor = RandomForestRegressor()"
   ]
  },
  {
   "cell_type": "code",
   "execution_count": 27,
   "metadata": {},
   "outputs": [
    {
     "data": {
      "text/plain": [
       "RandomForestRegressor()"
      ]
     },
     "execution_count": 27,
     "metadata": {},
     "output_type": "execute_result"
    }
   ],
   "source": [
    "rfregressor.fit(X_train,y_train)"
   ]
  },
  {
   "cell_type": "code",
   "execution_count": 28,
   "metadata": {},
   "outputs": [],
   "source": [
    "y_pred = rfregressor.predict(X_test)"
   ]
  },
  {
   "cell_type": "code",
   "execution_count": 29,
   "metadata": {},
   "outputs": [],
   "source": [
    "from sklearn.metrics import r2_score"
   ]
  },
  {
   "cell_type": "code",
   "execution_count": 30,
   "metadata": {},
   "outputs": [
    {
     "data": {
      "text/plain": [
       "0.9738793889572542"
      ]
     },
     "execution_count": 30,
     "metadata": {},
     "output_type": "execute_result"
    }
   ],
   "source": [
    "r2_score(y_test,y_pred)"
   ]
  },
  {
   "cell_type": "code",
   "execution_count": 31,
   "metadata": {},
   "outputs": [
    {
     "name": "stdout",
     "output_type": "stream",
     "text": [
      "97.38793889572543 %\n"
     ]
    }
   ],
   "source": [
    "accuracy = rfregressor.score(X_test,y_test)\n",
    "print(accuracy*100,'%')"
   ]
  },
  {
   "cell_type": "code",
   "execution_count": 32,
   "metadata": {},
   "outputs": [
    {
     "name": "stdout",
     "output_type": "stream",
     "text": [
      "77.46103682481265 %\n"
     ]
    }
   ],
   "source": [
    "accuracy = linear_regression.score(X_test,y_test)\n",
    "print(accuracy*100,'%')"
   ]
  },
  {
   "cell_type": "code",
   "execution_count": 33,
   "metadata": {},
   "outputs": [
    {
     "name": "stdout",
     "output_type": "stream",
     "text": [
      "77.45442433645091 %\n"
     ]
    }
   ],
   "source": [
    "accuracy = lasso.score(X_test,y_test)\n",
    "print(accuracy*100,'%')"
   ]
  },
  {
   "cell_type": "code",
   "execution_count": 45,
   "metadata": {},
   "outputs": [
    {
     "data": {
      "text/plain": [
       "0.9738793889572542"
      ]
     },
     "execution_count": 45,
     "metadata": {},
     "output_type": "execute_result"
    }
   ],
   "source": [
    "filename = 'Uttar_Pradesh_Model.sav'\n",
    "pickle.dump(rfregressor, open(filename, 'wb'))\n",
    " \n",
    "# load the model from disk\n",
    "loaded_model = pickle.load(open(filename, 'rb'))\n",
    "result = loaded_model.score(X_test, y_test)\n",
    "result"
   ]
  },
  {
   "cell_type": "code",
   "execution_count": 34,
   "metadata": {},
   "outputs": [],
   "source": [
    "from sklearn.model_selection import cross_val_score"
   ]
  },
  {
   "cell_type": "code",
   "execution_count": 35,
   "metadata": {},
   "outputs": [
    {
     "data": {
      "text/plain": [
       "array([0.94004201, 0.95315661, 0.95236971, 0.94296441, 0.94938007])"
      ]
     },
     "execution_count": 35,
     "metadata": {},
     "output_type": "execute_result"
    }
   ],
   "source": [
    "cross_val_score(RandomForestRegressor(),X,y,cv=5)"
   ]
  },
  {
   "cell_type": "code",
   "execution_count": 36,
   "metadata": {},
   "outputs": [
    {
     "data": {
      "text/plain": [
       "array([ 7.26150689e-01, -3.03119359e+14, -4.84651720e+11,  5.70353795e-01,\n",
       "        5.20213113e-01])"
      ]
     },
     "execution_count": 36,
     "metadata": {},
     "output_type": "execute_result"
    }
   ],
   "source": [
    "cross_val_score(LinearRegression(),X,y,cv=5)"
   ]
  },
  {
   "cell_type": "code",
   "execution_count": 37,
   "metadata": {},
   "outputs": [
    {
     "data": {
      "text/plain": [
       "array([0.7239794 , 0.69898667, 0.72910063, 0.88370401, 0.89841164])"
      ]
     },
     "execution_count": 37,
     "metadata": {},
     "output_type": "execute_result"
    }
   ],
   "source": [
    "cross_val_score(Lasso(alpha=200,max_iter=10000),X,y,cv=5)"
   ]
  },
  {
   "cell_type": "code",
   "execution_count": 38,
   "metadata": {},
   "outputs": [],
   "source": [
    "from sklearn.model_selection import GridSearchCV"
   ]
  },
  {
   "cell_type": "code",
   "execution_count": 39,
   "metadata": {},
   "outputs": [],
   "source": [
    "model_params = {\n",
    "    'lasso':{\n",
    "        'model':Lasso(),\n",
    "        'params':{\n",
    "            'alpha':[1,10,20,30,200],\n",
    "            'max_iter':[10000]\n",
    "        }\n",
    "    }\n",
    "}"
   ]
  },
  {
   "cell_type": "code",
   "execution_count": 40,
   "metadata": {},
   "outputs": [],
   "source": [
    "scores = []\n",
    "\n",
    "for model_name, mp in model_params.items():\n",
    "    clf =  GridSearchCV(mp['model'], mp['params'], cv=5, return_train_score=False)\n",
    "    clf.fit(X,y)\n",
    "    scores.append({\n",
    "        'model': model_name,\n",
    "        'best_score': clf.best_score_,\n",
    "        'best_params': clf.best_params_\n",
    "    })"
   ]
  },
  {
   "cell_type": "code",
   "execution_count": 41,
   "metadata": {},
   "outputs": [
    {
     "data": {
      "text/html": [
       "<div>\n",
       "<style scoped>\n",
       "    .dataframe tbody tr th:only-of-type {\n",
       "        vertical-align: middle;\n",
       "    }\n",
       "\n",
       "    .dataframe tbody tr th {\n",
       "        vertical-align: top;\n",
       "    }\n",
       "\n",
       "    .dataframe thead th {\n",
       "        text-align: right;\n",
       "    }\n",
       "</style>\n",
       "<table border=\"1\" class=\"dataframe\">\n",
       "  <thead>\n",
       "    <tr style=\"text-align: right;\">\n",
       "      <th></th>\n",
       "      <th>model</th>\n",
       "      <th>best_score</th>\n",
       "      <th>best_params</th>\n",
       "    </tr>\n",
       "  </thead>\n",
       "  <tbody>\n",
       "    <tr>\n",
       "      <th>0</th>\n",
       "      <td>lasso</td>\n",
       "      <td>0.786836</td>\n",
       "      <td>{'alpha': 200, 'max_iter': 10000}</td>\n",
       "    </tr>\n",
       "  </tbody>\n",
       "</table>\n",
       "</div>"
      ],
      "text/plain": [
       "   model  best_score                        best_params\n",
       "0  lasso    0.786836  {'alpha': 200, 'max_iter': 10000}"
      ]
     },
     "execution_count": 41,
     "metadata": {},
     "output_type": "execute_result"
    }
   ],
   "source": [
    "df = pd.DataFrame(scores,columns=['model','best_score','best_params'])\n",
    "df"
   ]
  },
  {
   "cell_type": "code",
   "execution_count": null,
   "metadata": {},
   "outputs": [],
   "source": []
  }
 ],
 "metadata": {
  "kernelspec": {
   "display_name": "Python 3",
   "language": "python",
   "name": "python3"
  },
  "language_info": {
   "codemirror_mode": {
    "name": "ipython",
    "version": 3
   },
   "file_extension": ".py",
   "mimetype": "text/x-python",
   "name": "python",
   "nbconvert_exporter": "python",
   "pygments_lexer": "ipython3",
   "version": "3.7.1"
  }
 },
 "nbformat": 4,
 "nbformat_minor": 4
}

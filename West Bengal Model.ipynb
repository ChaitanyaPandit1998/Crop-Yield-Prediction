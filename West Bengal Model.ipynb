{
 "cells": [
  {
   "cell_type": "code",
   "execution_count": 1,
   "metadata": {},
   "outputs": [],
   "source": [
    "import pandas as pd\n",
    "import numpy as np"
   ]
  },
  {
   "cell_type": "code",
   "execution_count": 2,
   "metadata": {},
   "outputs": [],
   "source": [
    "total_crop_dataset = pd.read_csv('crop_production.csv')"
   ]
  },
  {
   "cell_type": "code",
   "execution_count": 3,
   "metadata": {},
   "outputs": [],
   "source": [
    "west_bengal = total_crop_dataset[total_crop_dataset['State_Name']=='West Bengal']"
   ]
  },
  {
   "cell_type": "code",
   "execution_count": 4,
   "metadata": {},
   "outputs": [
    {
     "data": {
      "text/html": [
       "<div>\n",
       "<style scoped>\n",
       "    .dataframe tbody tr th:only-of-type {\n",
       "        vertical-align: middle;\n",
       "    }\n",
       "\n",
       "    .dataframe tbody tr th {\n",
       "        vertical-align: top;\n",
       "    }\n",
       "\n",
       "    .dataframe thead th {\n",
       "        text-align: right;\n",
       "    }\n",
       "</style>\n",
       "<table border=\"1\" class=\"dataframe\">\n",
       "  <thead>\n",
       "    <tr style=\"text-align: right;\">\n",
       "      <th></th>\n",
       "      <th>State_Name</th>\n",
       "      <th>District_Name</th>\n",
       "      <th>Crop_Year</th>\n",
       "      <th>Season</th>\n",
       "      <th>Crop</th>\n",
       "      <th>Area</th>\n",
       "      <th>Production</th>\n",
       "    </tr>\n",
       "  </thead>\n",
       "  <tbody>\n",
       "    <tr>\n",
       "      <th>236478</th>\n",
       "      <td>West Bengal</td>\n",
       "      <td>24 PARAGANAS NORTH</td>\n",
       "      <td>1997</td>\n",
       "      <td>Autumn</td>\n",
       "      <td>Rice</td>\n",
       "      <td>15017.0</td>\n",
       "      <td>33840.0</td>\n",
       "    </tr>\n",
       "    <tr>\n",
       "      <th>236479</th>\n",
       "      <td>West Bengal</td>\n",
       "      <td>24 PARAGANAS NORTH</td>\n",
       "      <td>1997</td>\n",
       "      <td>Kharif</td>\n",
       "      <td>Jute</td>\n",
       "      <td>52568.0</td>\n",
       "      <td>677510.0</td>\n",
       "    </tr>\n",
       "    <tr>\n",
       "      <th>236480</th>\n",
       "      <td>West Bengal</td>\n",
       "      <td>24 PARAGANAS NORTH</td>\n",
       "      <td>1997</td>\n",
       "      <td>Kharif</td>\n",
       "      <td>Mesta</td>\n",
       "      <td>690.0</td>\n",
       "      <td>6710.0</td>\n",
       "    </tr>\n",
       "    <tr>\n",
       "      <th>236481</th>\n",
       "      <td>West Bengal</td>\n",
       "      <td>24 PARAGANAS NORTH</td>\n",
       "      <td>1997</td>\n",
       "      <td>Kharif</td>\n",
       "      <td>Urad</td>\n",
       "      <td>1992.0</td>\n",
       "      <td>1310.0</td>\n",
       "    </tr>\n",
       "    <tr>\n",
       "      <th>236482</th>\n",
       "      <td>West Bengal</td>\n",
       "      <td>24 PARAGANAS NORTH</td>\n",
       "      <td>1997</td>\n",
       "      <td>Rabi</td>\n",
       "      <td>Gram</td>\n",
       "      <td>267.0</td>\n",
       "      <td>160.0</td>\n",
       "    </tr>\n",
       "  </tbody>\n",
       "</table>\n",
       "</div>"
      ],
      "text/plain": [
       "         State_Name       District_Name  Crop_Year       Season   Crop  \\\n",
       "236478  West Bengal  24 PARAGANAS NORTH       1997  Autumn        Rice   \n",
       "236479  West Bengal  24 PARAGANAS NORTH       1997  Kharif        Jute   \n",
       "236480  West Bengal  24 PARAGANAS NORTH       1997  Kharif       Mesta   \n",
       "236481  West Bengal  24 PARAGANAS NORTH       1997  Kharif        Urad   \n",
       "236482  West Bengal  24 PARAGANAS NORTH       1997  Rabi          Gram   \n",
       "\n",
       "           Area  Production  \n",
       "236478  15017.0     33840.0  \n",
       "236479  52568.0    677510.0  \n",
       "236480    690.0      6710.0  \n",
       "236481   1992.0      1310.0  \n",
       "236482    267.0       160.0  "
      ]
     },
     "execution_count": 4,
     "metadata": {},
     "output_type": "execute_result"
    }
   ],
   "source": [
    "west_bengal.head()"
   ]
  },
  {
   "cell_type": "code",
   "execution_count": 5,
   "metadata": {},
   "outputs": [
    {
     "name": "stdout",
     "output_type": "stream",
     "text": [
      "<class 'pandas.core.frame.DataFrame'>\n",
      "Int64Index: 9613 entries, 236478 to 246090\n",
      "Data columns (total 7 columns):\n",
      " #   Column         Non-Null Count  Dtype  \n",
      "---  ------         --------------  -----  \n",
      " 0   State_Name     9613 non-null   object \n",
      " 1   District_Name  9613 non-null   object \n",
      " 2   Crop_Year      9613 non-null   int64  \n",
      " 3   Season         9613 non-null   object \n",
      " 4   Crop           9613 non-null   object \n",
      " 5   Area           9613 non-null   float64\n",
      " 6   Production     9597 non-null   float64\n",
      "dtypes: float64(2), int64(1), object(4)\n",
      "memory usage: 600.8+ KB\n"
     ]
    }
   ],
   "source": [
    "west_bengal.info()"
   ]
  },
  {
   "cell_type": "code",
   "execution_count": 6,
   "metadata": {},
   "outputs": [
    {
     "data": {
      "text/plain": [
       "State_Name        0\n",
       "District_Name     0\n",
       "Crop_Year         0\n",
       "Season            0\n",
       "Crop              0\n",
       "Area              0\n",
       "Production       16\n",
       "dtype: int64"
      ]
     },
     "execution_count": 6,
     "metadata": {},
     "output_type": "execute_result"
    }
   ],
   "source": [
    "west_bengal.isnull().sum()"
   ]
  },
  {
   "cell_type": "code",
   "execution_count": 7,
   "metadata": {},
   "outputs": [],
   "source": [
    "west_bengal = west_bengal.dropna()"
   ]
  },
  {
   "cell_type": "code",
   "execution_count": 8,
   "metadata": {},
   "outputs": [
    {
     "data": {
      "text/plain": [
       "State_Name       0\n",
       "District_Name    0\n",
       "Crop_Year        0\n",
       "Season           0\n",
       "Crop             0\n",
       "Area             0\n",
       "Production       0\n",
       "dtype: int64"
      ]
     },
     "execution_count": 8,
     "metadata": {},
     "output_type": "execute_result"
    }
   ],
   "source": [
    "west_bengal.isnull().sum()"
   ]
  },
  {
   "cell_type": "code",
   "execution_count": 9,
   "metadata": {},
   "outputs": [
    {
     "data": {
      "text/plain": [
       "array(['24 PARAGANAS NORTH', '24 PARAGANAS SOUTH', 'BANKURA', 'BARDHAMAN',\n",
       "       'BIRBHUM', 'COOCHBEHAR', 'DARJEELING', 'DINAJPUR DAKSHIN',\n",
       "       'DINAJPUR UTTAR', 'HOOGHLY', 'HOWRAH', 'JALPAIGURI', 'MALDAH',\n",
       "       'MEDINIPUR EAST', 'MEDINIPUR WEST', 'MURSHIDABAD', 'NADIA',\n",
       "       'PURULIA'], dtype=object)"
      ]
     },
     "execution_count": 9,
     "metadata": {},
     "output_type": "execute_result"
    }
   ],
   "source": [
    "west_bengal['District_Name'].unique()"
   ]
  },
  {
   "cell_type": "code",
   "execution_count": 10,
   "metadata": {},
   "outputs": [
    {
     "data": {
      "text/plain": [
       "18"
      ]
     },
     "execution_count": 10,
     "metadata": {},
     "output_type": "execute_result"
    }
   ],
   "source": [
    "west_bengal['District_Name'].nunique()"
   ]
  },
  {
   "cell_type": "code",
   "execution_count": 11,
   "metadata": {},
   "outputs": [],
   "source": [
    "west_bengal_filtered = west_bengal[\n",
    "    (west_bengal['Crop']=='Wheat') | \n",
    "    (west_bengal['Crop']=='Rice')  |\n",
    "    (west_bengal['Crop']=='Jowar')  |\n",
    "    (west_bengal['Crop']=='Bajra')  |\n",
    "    (west_bengal['Crop']=='Cardamom')  |\n",
    "    (west_bengal['Crop']=='Garlic')  |\n",
    "    (west_bengal['Crop']=='Turmeric')  |\n",
    "    (west_bengal['Crop']=='Ginger')  |\n",
    "    (west_bengal['Crop']=='Cotton(lint)')  |\n",
    "    (west_bengal['Crop']=='Linseed')  |\n",
    "    (west_bengal['Crop']=='Sesamum')  |\n",
    "    (west_bengal['Crop']=='Coconut ')  |\n",
    "    (west_bengal['Crop']=='Onion')  |\n",
    "    (west_bengal['Crop']=='Arhar/Tur')  |\n",
    "    (west_bengal['Crop']=='Potato')  |\n",
    "    (west_bengal['Crop']=='Maize')  \n",
    "]"
   ]
  },
  {
   "cell_type": "code",
   "execution_count": 12,
   "metadata": {},
   "outputs": [
    {
     "name": "stdout",
     "output_type": "stream",
     "text": [
      "<class 'pandas.core.frame.DataFrame'>\n",
      "Int64Index: 3674 entries, 236478 to 246090\n",
      "Data columns (total 7 columns):\n",
      " #   Column         Non-Null Count  Dtype  \n",
      "---  ------         --------------  -----  \n",
      " 0   State_Name     3674 non-null   object \n",
      " 1   District_Name  3674 non-null   object \n",
      " 2   Crop_Year      3674 non-null   int64  \n",
      " 3   Season         3674 non-null   object \n",
      " 4   Crop           3674 non-null   object \n",
      " 5   Area           3674 non-null   float64\n",
      " 6   Production     3674 non-null   float64\n",
      "dtypes: float64(2), int64(1), object(4)\n",
      "memory usage: 229.6+ KB\n"
     ]
    }
   ],
   "source": [
    "west_bengal_filtered.info()"
   ]
  },
  {
   "cell_type": "code",
   "execution_count": 13,
   "metadata": {},
   "outputs": [
    {
     "data": {
      "text/plain": [
       "14"
      ]
     },
     "execution_count": 13,
     "metadata": {},
     "output_type": "execute_result"
    }
   ],
   "source": [
    "west_bengal_filtered['Crop'].nunique()"
   ]
  },
  {
   "cell_type": "code",
   "execution_count": 66,
   "metadata": {},
   "outputs": [],
   "source": [
    "west_bengal_filtered_ohe = pd.get_dummies(west_bengal, columns=['District_Name', 'Season','Crop'],drop_first=True)"
   ]
  },
  {
   "cell_type": "code",
   "execution_count": 67,
   "metadata": {},
   "outputs": [
    {
     "data": {
      "text/html": [
       "<div>\n",
       "<style scoped>\n",
       "    .dataframe tbody tr th:only-of-type {\n",
       "        vertical-align: middle;\n",
       "    }\n",
       "\n",
       "    .dataframe tbody tr th {\n",
       "        vertical-align: top;\n",
       "    }\n",
       "\n",
       "    .dataframe thead th {\n",
       "        text-align: right;\n",
       "    }\n",
       "</style>\n",
       "<table border=\"1\" class=\"dataframe\">\n",
       "  <thead>\n",
       "    <tr style=\"text-align: right;\">\n",
       "      <th></th>\n",
       "      <th>State_Name</th>\n",
       "      <th>Crop_Year</th>\n",
       "      <th>Area</th>\n",
       "      <th>Production</th>\n",
       "      <th>District_Name_24 PARAGANAS SOUTH</th>\n",
       "      <th>District_Name_BANKURA</th>\n",
       "      <th>District_Name_BARDHAMAN</th>\n",
       "      <th>District_Name_BIRBHUM</th>\n",
       "      <th>District_Name_COOCHBEHAR</th>\n",
       "      <th>District_Name_DARJEELING</th>\n",
       "      <th>...</th>\n",
       "      <th>Crop_Sannhamp</th>\n",
       "      <th>Crop_Sesamum</th>\n",
       "      <th>Crop_Small millets</th>\n",
       "      <th>Crop_Soyabean</th>\n",
       "      <th>Crop_Sugarcane</th>\n",
       "      <th>Crop_Sunflower</th>\n",
       "      <th>Crop_Tobacco</th>\n",
       "      <th>Crop_Turmeric</th>\n",
       "      <th>Crop_Urad</th>\n",
       "      <th>Crop_Wheat</th>\n",
       "    </tr>\n",
       "  </thead>\n",
       "  <tbody>\n",
       "    <tr>\n",
       "      <th>236478</th>\n",
       "      <td>West Bengal</td>\n",
       "      <td>1997</td>\n",
       "      <td>15017.0</td>\n",
       "      <td>33840.0</td>\n",
       "      <td>0</td>\n",
       "      <td>0</td>\n",
       "      <td>0</td>\n",
       "      <td>0</td>\n",
       "      <td>0</td>\n",
       "      <td>0</td>\n",
       "      <td>...</td>\n",
       "      <td>0</td>\n",
       "      <td>0</td>\n",
       "      <td>0</td>\n",
       "      <td>0</td>\n",
       "      <td>0</td>\n",
       "      <td>0</td>\n",
       "      <td>0</td>\n",
       "      <td>0</td>\n",
       "      <td>0</td>\n",
       "      <td>0</td>\n",
       "    </tr>\n",
       "    <tr>\n",
       "      <th>236479</th>\n",
       "      <td>West Bengal</td>\n",
       "      <td>1997</td>\n",
       "      <td>52568.0</td>\n",
       "      <td>677510.0</td>\n",
       "      <td>0</td>\n",
       "      <td>0</td>\n",
       "      <td>0</td>\n",
       "      <td>0</td>\n",
       "      <td>0</td>\n",
       "      <td>0</td>\n",
       "      <td>...</td>\n",
       "      <td>0</td>\n",
       "      <td>0</td>\n",
       "      <td>0</td>\n",
       "      <td>0</td>\n",
       "      <td>0</td>\n",
       "      <td>0</td>\n",
       "      <td>0</td>\n",
       "      <td>0</td>\n",
       "      <td>0</td>\n",
       "      <td>0</td>\n",
       "    </tr>\n",
       "    <tr>\n",
       "      <th>236480</th>\n",
       "      <td>West Bengal</td>\n",
       "      <td>1997</td>\n",
       "      <td>690.0</td>\n",
       "      <td>6710.0</td>\n",
       "      <td>0</td>\n",
       "      <td>0</td>\n",
       "      <td>0</td>\n",
       "      <td>0</td>\n",
       "      <td>0</td>\n",
       "      <td>0</td>\n",
       "      <td>...</td>\n",
       "      <td>0</td>\n",
       "      <td>0</td>\n",
       "      <td>0</td>\n",
       "      <td>0</td>\n",
       "      <td>0</td>\n",
       "      <td>0</td>\n",
       "      <td>0</td>\n",
       "      <td>0</td>\n",
       "      <td>0</td>\n",
       "      <td>0</td>\n",
       "    </tr>\n",
       "    <tr>\n",
       "      <th>236481</th>\n",
       "      <td>West Bengal</td>\n",
       "      <td>1997</td>\n",
       "      <td>1992.0</td>\n",
       "      <td>1310.0</td>\n",
       "      <td>0</td>\n",
       "      <td>0</td>\n",
       "      <td>0</td>\n",
       "      <td>0</td>\n",
       "      <td>0</td>\n",
       "      <td>0</td>\n",
       "      <td>...</td>\n",
       "      <td>0</td>\n",
       "      <td>0</td>\n",
       "      <td>0</td>\n",
       "      <td>0</td>\n",
       "      <td>0</td>\n",
       "      <td>0</td>\n",
       "      <td>0</td>\n",
       "      <td>0</td>\n",
       "      <td>1</td>\n",
       "      <td>0</td>\n",
       "    </tr>\n",
       "    <tr>\n",
       "      <th>236482</th>\n",
       "      <td>West Bengal</td>\n",
       "      <td>1997</td>\n",
       "      <td>267.0</td>\n",
       "      <td>160.0</td>\n",
       "      <td>0</td>\n",
       "      <td>0</td>\n",
       "      <td>0</td>\n",
       "      <td>0</td>\n",
       "      <td>0</td>\n",
       "      <td>0</td>\n",
       "      <td>...</td>\n",
       "      <td>0</td>\n",
       "      <td>0</td>\n",
       "      <td>0</td>\n",
       "      <td>0</td>\n",
       "      <td>0</td>\n",
       "      <td>0</td>\n",
       "      <td>0</td>\n",
       "      <td>0</td>\n",
       "      <td>0</td>\n",
       "      <td>0</td>\n",
       "    </tr>\n",
       "  </tbody>\n",
       "</table>\n",
       "<p>5 rows × 69 columns</p>\n",
       "</div>"
      ],
      "text/plain": [
       "         State_Name  Crop_Year     Area  Production  \\\n",
       "236478  West Bengal       1997  15017.0     33840.0   \n",
       "236479  West Bengal       1997  52568.0    677510.0   \n",
       "236480  West Bengal       1997    690.0      6710.0   \n",
       "236481  West Bengal       1997   1992.0      1310.0   \n",
       "236482  West Bengal       1997    267.0       160.0   \n",
       "\n",
       "        District_Name_24 PARAGANAS SOUTH  District_Name_BANKURA  \\\n",
       "236478                                 0                      0   \n",
       "236479                                 0                      0   \n",
       "236480                                 0                      0   \n",
       "236481                                 0                      0   \n",
       "236482                                 0                      0   \n",
       "\n",
       "        District_Name_BARDHAMAN  District_Name_BIRBHUM  \\\n",
       "236478                        0                      0   \n",
       "236479                        0                      0   \n",
       "236480                        0                      0   \n",
       "236481                        0                      0   \n",
       "236482                        0                      0   \n",
       "\n",
       "        District_Name_COOCHBEHAR  District_Name_DARJEELING  ...  \\\n",
       "236478                         0                         0  ...   \n",
       "236479                         0                         0  ...   \n",
       "236480                         0                         0  ...   \n",
       "236481                         0                         0  ...   \n",
       "236482                         0                         0  ...   \n",
       "\n",
       "        Crop_Sannhamp  Crop_Sesamum  Crop_Small millets  Crop_Soyabean  \\\n",
       "236478              0             0                   0              0   \n",
       "236479              0             0                   0              0   \n",
       "236480              0             0                   0              0   \n",
       "236481              0             0                   0              0   \n",
       "236482              0             0                   0              0   \n",
       "\n",
       "        Crop_Sugarcane  Crop_Sunflower  Crop_Tobacco  Crop_Turmeric  \\\n",
       "236478               0               0             0              0   \n",
       "236479               0               0             0              0   \n",
       "236480               0               0             0              0   \n",
       "236481               0               0             0              0   \n",
       "236482               0               0             0              0   \n",
       "\n",
       "        Crop_Urad  Crop_Wheat  \n",
       "236478          0           0  \n",
       "236479          0           0  \n",
       "236480          0           0  \n",
       "236481          1           0  \n",
       "236482          0           0  \n",
       "\n",
       "[5 rows x 69 columns]"
      ]
     },
     "execution_count": 67,
     "metadata": {},
     "output_type": "execute_result"
    }
   ],
   "source": [
    "west_bengal_filtered_ohe.head()"
   ]
  },
  {
   "cell_type": "code",
   "execution_count": 68,
   "metadata": {},
   "outputs": [
    {
     "name": "stdout",
     "output_type": "stream",
     "text": [
      "<class 'pandas.core.frame.DataFrame'>\n",
      "Int64Index: 9597 entries, 236478 to 246090\n",
      "Data columns (total 69 columns):\n",
      " #   Column                            Non-Null Count  Dtype  \n",
      "---  ------                            --------------  -----  \n",
      " 0   State_Name                        9597 non-null   object \n",
      " 1   Crop_Year                         9597 non-null   int64  \n",
      " 2   Area                              9597 non-null   float64\n",
      " 3   Production                        9597 non-null   float64\n",
      " 4   District_Name_24 PARAGANAS SOUTH  9597 non-null   uint8  \n",
      " 5   District_Name_BANKURA             9597 non-null   uint8  \n",
      " 6   District_Name_BARDHAMAN           9597 non-null   uint8  \n",
      " 7   District_Name_BIRBHUM             9597 non-null   uint8  \n",
      " 8   District_Name_COOCHBEHAR          9597 non-null   uint8  \n",
      " 9   District_Name_DARJEELING          9597 non-null   uint8  \n",
      " 10  District_Name_DINAJPUR DAKSHIN    9597 non-null   uint8  \n",
      " 11  District_Name_DINAJPUR UTTAR      9597 non-null   uint8  \n",
      " 12  District_Name_HOOGHLY             9597 non-null   uint8  \n",
      " 13  District_Name_HOWRAH              9597 non-null   uint8  \n",
      " 14  District_Name_JALPAIGURI          9597 non-null   uint8  \n",
      " 15  District_Name_MALDAH              9597 non-null   uint8  \n",
      " 16  District_Name_MEDINIPUR EAST      9597 non-null   uint8  \n",
      " 17  District_Name_MEDINIPUR WEST      9597 non-null   uint8  \n",
      " 18  District_Name_MURSHIDABAD         9597 non-null   uint8  \n",
      " 19  District_Name_NADIA               9597 non-null   uint8  \n",
      " 20  District_Name_PURULIA             9597 non-null   uint8  \n",
      " 21  Season_Kharif                     9597 non-null   uint8  \n",
      " 22  Season_Rabi                       9597 non-null   uint8  \n",
      " 23  Season_Summer                     9597 non-null   uint8  \n",
      " 24  Season_Whole Year                 9597 non-null   uint8  \n",
      " 25  Season_Winter                     9597 non-null   uint8  \n",
      " 26  Crop_Arhar/Tur                    9597 non-null   uint8  \n",
      " 27  Crop_Bajra                        9597 non-null   uint8  \n",
      " 28  Crop_Barley                       9597 non-null   uint8  \n",
      " 29  Crop_Cardamom                     9597 non-null   uint8  \n",
      " 30  Crop_Castor seed                  9597 non-null   uint8  \n",
      " 31  Crop_Coconut                      9597 non-null   uint8  \n",
      " 32  Crop_Cotton(lint)                 9597 non-null   uint8  \n",
      " 33  Crop_Dry chillies                 9597 non-null   uint8  \n",
      " 34  Crop_Dry ginger                   9597 non-null   uint8  \n",
      " 35  Crop_Garlic                       9597 non-null   uint8  \n",
      " 36  Crop_Gram                         9597 non-null   uint8  \n",
      " 37  Crop_Groundnut                    9597 non-null   uint8  \n",
      " 38  Crop_Horse-gram                   9597 non-null   uint8  \n",
      " 39  Crop_Jowar                        9597 non-null   uint8  \n",
      " 40  Crop_Jute                         9597 non-null   uint8  \n",
      " 41  Crop_Khesari                      9597 non-null   uint8  \n",
      " 42  Crop_Linseed                      9597 non-null   uint8  \n",
      " 43  Crop_Maize                        9597 non-null   uint8  \n",
      " 44  Crop_Masoor                       9597 non-null   uint8  \n",
      " 45  Crop_Mesta                        9597 non-null   uint8  \n",
      " 46  Crop_Moong(Green Gram)            9597 non-null   uint8  \n",
      " 47  Crop_Moth                         9597 non-null   uint8  \n",
      " 48  Crop_Niger seed                   9597 non-null   uint8  \n",
      " 49  Crop_Oilseeds total               9597 non-null   uint8  \n",
      " 50  Crop_Other  Rabi pulses           9597 non-null   uint8  \n",
      " 51  Crop_Other Kharif pulses          9597 non-null   uint8  \n",
      " 52  Crop_Peas & beans (Pulses)        9597 non-null   uint8  \n",
      " 53  Crop_Potato                       9597 non-null   uint8  \n",
      " 54  Crop_Pulses total                 9597 non-null   uint8  \n",
      " 55  Crop_Ragi                         9597 non-null   uint8  \n",
      " 56  Crop_Rapeseed &Mustard            9597 non-null   uint8  \n",
      " 57  Crop_Rice                         9597 non-null   uint8  \n",
      " 58  Crop_Safflower                    9597 non-null   uint8  \n",
      " 59  Crop_Sannhamp                     9597 non-null   uint8  \n",
      " 60  Crop_Sesamum                      9597 non-null   uint8  \n",
      " 61  Crop_Small millets                9597 non-null   uint8  \n",
      " 62  Crop_Soyabean                     9597 non-null   uint8  \n",
      " 63  Crop_Sugarcane                    9597 non-null   uint8  \n",
      " 64  Crop_Sunflower                    9597 non-null   uint8  \n",
      " 65  Crop_Tobacco                      9597 non-null   uint8  \n",
      " 66  Crop_Turmeric                     9597 non-null   uint8  \n",
      " 67  Crop_Urad                         9597 non-null   uint8  \n",
      " 68  Crop_Wheat                        9597 non-null   uint8  \n",
      "dtypes: float64(2), int64(1), object(1), uint8(65)\n",
      "memory usage: 984.1+ KB\n"
     ]
    }
   ],
   "source": [
    "west_bengal_filtered_ohe.info()"
   ]
  },
  {
   "cell_type": "code",
   "execution_count": 16,
   "metadata": {},
   "outputs": [
    {
     "data": {
      "text/plain": [
       "State_Name                          0\n",
       "Crop_Year                           0\n",
       "Area                                0\n",
       "Production                          0\n",
       "District_Name_24 PARAGANAS SOUTH    0\n",
       "District_Name_BANKURA               0\n",
       "District_Name_BARDHAMAN             0\n",
       "District_Name_BIRBHUM               0\n",
       "District_Name_COOCHBEHAR            0\n",
       "District_Name_DARJEELING            0\n",
       "District_Name_DINAJPUR DAKSHIN      0\n",
       "District_Name_DINAJPUR UTTAR        0\n",
       "District_Name_HOOGHLY               0\n",
       "District_Name_HOWRAH                0\n",
       "District_Name_JALPAIGURI            0\n",
       "District_Name_MALDAH                0\n",
       "District_Name_MEDINIPUR EAST        0\n",
       "District_Name_MEDINIPUR WEST        0\n",
       "District_Name_MURSHIDABAD           0\n",
       "District_Name_NADIA                 0\n",
       "District_Name_PURULIA               0\n",
       "Season_Kharif                       0\n",
       "Season_Rabi                         0\n",
       "Season_Summer                       0\n",
       "Season_Whole Year                   0\n",
       "Season_Winter                       0\n",
       "Crop_Bajra                          0\n",
       "Crop_Cardamom                       0\n",
       "Crop_Coconut                        0\n",
       "Crop_Cotton(lint)                   0\n",
       "Crop_Garlic                         0\n",
       "Crop_Jowar                          0\n",
       "Crop_Linseed                        0\n",
       "Crop_Maize                          0\n",
       "Crop_Potato                         0\n",
       "Crop_Rice                           0\n",
       "Crop_Sesamum                        0\n",
       "Crop_Turmeric                       0\n",
       "Crop_Wheat                          0\n",
       "dtype: int64"
      ]
     },
     "execution_count": 16,
     "metadata": {},
     "output_type": "execute_result"
    }
   ],
   "source": [
    "west_bengal_filtered_ohe.isnull().sum()"
   ]
  },
  {
   "cell_type": "code",
   "execution_count": 69,
   "metadata": {},
   "outputs": [],
   "source": [
    "X = west_bengal_filtered_ohe.drop(['State_Name','Crop_Year','Production'],axis=1).values\n",
    "y = west_bengal_filtered_ohe.iloc[:,3].values"
   ]
  },
  {
   "cell_type": "code",
   "execution_count": 70,
   "metadata": {},
   "outputs": [],
   "source": [
    "from sklearn.model_selection import train_test_split\n",
    "X_train, X_test, y_train, y_test = train_test_split(X, y, test_size=0.3, random_state=101)"
   ]
  },
  {
   "cell_type": "code",
   "execution_count": 71,
   "metadata": {},
   "outputs": [],
   "source": [
    "from sklearn.linear_model import LinearRegression,Lasso\n",
    "linear_regression = LinearRegression()\n",
    "lasso = Lasso(alpha=100,max_iter=10000)"
   ]
  },
  {
   "cell_type": "code",
   "execution_count": 72,
   "metadata": {},
   "outputs": [
    {
     "data": {
      "text/plain": [
       "Lasso(alpha=100, max_iter=10000)"
      ]
     },
     "execution_count": 72,
     "metadata": {},
     "output_type": "execute_result"
    }
   ],
   "source": [
    "linear_regression.fit(X_train,y_train)\n",
    "lasso.fit(X_train,y_train)"
   ]
  },
  {
   "cell_type": "code",
   "execution_count": 73,
   "metadata": {},
   "outputs": [],
   "source": [
    "from sklearn.ensemble import RandomForestRegressor\n",
    "rfregressor = RandomForestRegressor()"
   ]
  },
  {
   "cell_type": "code",
   "execution_count": 74,
   "metadata": {},
   "outputs": [
    {
     "data": {
      "text/plain": [
       "RandomForestRegressor()"
      ]
     },
     "execution_count": 74,
     "metadata": {},
     "output_type": "execute_result"
    }
   ],
   "source": [
    "rfregressor.fit(X_train,y_train)"
   ]
  },
  {
   "cell_type": "code",
   "execution_count": 75,
   "metadata": {},
   "outputs": [],
   "source": [
    "y_pred = lasso.predict(X_test)"
   ]
  },
  {
   "cell_type": "code",
   "execution_count": 76,
   "metadata": {},
   "outputs": [],
   "source": [
    "from sklearn.metrics import r2_score"
   ]
  },
  {
   "cell_type": "code",
   "execution_count": 77,
   "metadata": {},
   "outputs": [
    {
     "data": {
      "text/plain": [
       "0.0926343166872835"
      ]
     },
     "execution_count": 77,
     "metadata": {},
     "output_type": "execute_result"
    }
   ],
   "source": [
    "r2_score(y_test,y_pred)"
   ]
  },
  {
   "cell_type": "code",
   "execution_count": 78,
   "metadata": {},
   "outputs": [
    {
     "name": "stdout",
     "output_type": "stream",
     "text": [
      "-31.06255252235004 %\n"
     ]
    }
   ],
   "source": [
    "accuracy = rfregressor.score(X_test,y_test)\n",
    "print(accuracy*100,'%')"
   ]
  },
  {
   "cell_type": "code",
   "execution_count": 79,
   "metadata": {},
   "outputs": [
    {
     "name": "stdout",
     "output_type": "stream",
     "text": [
      "9.26343166872835 %\n"
     ]
    }
   ],
   "source": [
    "accuracy = lasso.score(X_test,y_test)\n",
    "print(accuracy*100,'%')"
   ]
  },
  {
   "cell_type": "code",
   "execution_count": 80,
   "metadata": {},
   "outputs": [
    {
     "name": "stdout",
     "output_type": "stream",
     "text": [
      "9.22663565752988 %\n"
     ]
    }
   ],
   "source": [
    "accuracy = linear_regression.score(X_test,y_test)\n",
    "print(accuracy*100,'%')"
   ]
  },
  {
   "cell_type": "code",
   "execution_count": null,
   "metadata": {},
   "outputs": [],
   "source": []
  }
 ],
 "metadata": {
  "kernelspec": {
   "display_name": "Python 3",
   "language": "python",
   "name": "python3"
  },
  "language_info": {
   "codemirror_mode": {
    "name": "ipython",
    "version": 3
   },
   "file_extension": ".py",
   "mimetype": "text/x-python",
   "name": "python",
   "nbconvert_exporter": "python",
   "pygments_lexer": "ipython3",
   "version": "3.7.1"
  }
 },
 "nbformat": 4,
 "nbformat_minor": 4
}

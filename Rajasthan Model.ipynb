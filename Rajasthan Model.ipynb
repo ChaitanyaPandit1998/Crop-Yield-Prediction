{
 "cells": [
  {
   "cell_type": "code",
   "execution_count": 58,
   "metadata": {},
   "outputs": [],
   "source": [
    "import pandas as pd\n",
    "import numpy as np\n",
    "import pickle"
   ]
  },
  {
   "cell_type": "code",
   "execution_count": 29,
   "metadata": {},
   "outputs": [],
   "source": [
    "total_crop_dataset = pd.read_csv('../crop_production.csv')"
   ]
  },
  {
   "cell_type": "code",
   "execution_count": 30,
   "metadata": {},
   "outputs": [],
   "source": [
    "rajasthan = total_crop_dataset[total_crop_dataset['State_Name']=='Rajasthan']"
   ]
  },
  {
   "cell_type": "code",
   "execution_count": 31,
   "metadata": {},
   "outputs": [
    {
     "data": {
      "text/html": [
       "<div>\n",
       "<style scoped>\n",
       "    .dataframe tbody tr th:only-of-type {\n",
       "        vertical-align: middle;\n",
       "    }\n",
       "\n",
       "    .dataframe tbody tr th {\n",
       "        vertical-align: top;\n",
       "    }\n",
       "\n",
       "    .dataframe thead th {\n",
       "        text-align: right;\n",
       "    }\n",
       "</style>\n",
       "<table border=\"1\" class=\"dataframe\">\n",
       "  <thead>\n",
       "    <tr style=\"text-align: right;\">\n",
       "      <th></th>\n",
       "      <th>State_Name</th>\n",
       "      <th>District_Name</th>\n",
       "      <th>Crop_Year</th>\n",
       "      <th>Season</th>\n",
       "      <th>Crop</th>\n",
       "      <th>Area</th>\n",
       "      <th>Production</th>\n",
       "    </tr>\n",
       "  </thead>\n",
       "  <tbody>\n",
       "    <tr>\n",
       "      <th>164440</th>\n",
       "      <td>Rajasthan</td>\n",
       "      <td>AJMER</td>\n",
       "      <td>1997</td>\n",
       "      <td>Kharif</td>\n",
       "      <td>Bajra</td>\n",
       "      <td>56600.0</td>\n",
       "      <td>30400.0</td>\n",
       "    </tr>\n",
       "    <tr>\n",
       "      <th>164441</th>\n",
       "      <td>Rajasthan</td>\n",
       "      <td>AJMER</td>\n",
       "      <td>1997</td>\n",
       "      <td>Kharif</td>\n",
       "      <td>Cotton(lint)</td>\n",
       "      <td>16000.0</td>\n",
       "      <td>31176.0</td>\n",
       "    </tr>\n",
       "    <tr>\n",
       "      <th>164442</th>\n",
       "      <td>Rajasthan</td>\n",
       "      <td>AJMER</td>\n",
       "      <td>1997</td>\n",
       "      <td>Kharif</td>\n",
       "      <td>Groundnut</td>\n",
       "      <td>7800.0</td>\n",
       "      <td>5100.0</td>\n",
       "    </tr>\n",
       "    <tr>\n",
       "      <th>164443</th>\n",
       "      <td>Rajasthan</td>\n",
       "      <td>AJMER</td>\n",
       "      <td>1997</td>\n",
       "      <td>Kharif</td>\n",
       "      <td>Jowar</td>\n",
       "      <td>105900.0</td>\n",
       "      <td>34600.0</td>\n",
       "    </tr>\n",
       "    <tr>\n",
       "      <th>164444</th>\n",
       "      <td>Rajasthan</td>\n",
       "      <td>AJMER</td>\n",
       "      <td>1997</td>\n",
       "      <td>Kharif</td>\n",
       "      <td>Maize</td>\n",
       "      <td>43600.0</td>\n",
       "      <td>33100.0</td>\n",
       "    </tr>\n",
       "  </tbody>\n",
       "</table>\n",
       "</div>"
      ],
      "text/plain": [
       "       State_Name District_Name  Crop_Year       Season          Crop  \\\n",
       "164440  Rajasthan         AJMER       1997  Kharif              Bajra   \n",
       "164441  Rajasthan         AJMER       1997  Kharif       Cotton(lint)   \n",
       "164442  Rajasthan         AJMER       1997  Kharif          Groundnut   \n",
       "164443  Rajasthan         AJMER       1997  Kharif              Jowar   \n",
       "164444  Rajasthan         AJMER       1997  Kharif              Maize   \n",
       "\n",
       "            Area  Production  \n",
       "164440   56600.0     30400.0  \n",
       "164441   16000.0     31176.0  \n",
       "164442    7800.0      5100.0  \n",
       "164443  105900.0     34600.0  \n",
       "164444   43600.0     33100.0  "
      ]
     },
     "execution_count": 31,
     "metadata": {},
     "output_type": "execute_result"
    }
   ],
   "source": [
    "rajasthan.head()"
   ]
  },
  {
   "cell_type": "code",
   "execution_count": 32,
   "metadata": {},
   "outputs": [
    {
     "name": "stdout",
     "output_type": "stream",
     "text": [
      "<class 'pandas.core.frame.DataFrame'>\n",
      "Int64Index: 12514 entries, 164440 to 176953\n",
      "Data columns (total 7 columns):\n",
      " #   Column         Non-Null Count  Dtype  \n",
      "---  ------         --------------  -----  \n",
      " 0   State_Name     12514 non-null  object \n",
      " 1   District_Name  12514 non-null  object \n",
      " 2   Crop_Year      12514 non-null  int64  \n",
      " 3   Season         12514 non-null  object \n",
      " 4   Crop           12514 non-null  object \n",
      " 5   Area           12514 non-null  float64\n",
      " 6   Production     12066 non-null  float64\n",
      "dtypes: float64(2), int64(1), object(4)\n",
      "memory usage: 782.1+ KB\n"
     ]
    }
   ],
   "source": [
    "rajasthan.info()"
   ]
  },
  {
   "cell_type": "code",
   "execution_count": 33,
   "metadata": {},
   "outputs": [
    {
     "data": {
      "text/plain": [
       "State_Name         0\n",
       "District_Name      0\n",
       "Crop_Year          0\n",
       "Season             0\n",
       "Crop               0\n",
       "Area               0\n",
       "Production       448\n",
       "dtype: int64"
      ]
     },
     "execution_count": 33,
     "metadata": {},
     "output_type": "execute_result"
    }
   ],
   "source": [
    "rajasthan.isnull().sum()"
   ]
  },
  {
   "cell_type": "code",
   "execution_count": 34,
   "metadata": {},
   "outputs": [],
   "source": [
    "rajasthan = rajasthan.dropna()"
   ]
  },
  {
   "cell_type": "code",
   "execution_count": 35,
   "metadata": {},
   "outputs": [
    {
     "data": {
      "text/plain": [
       "33"
      ]
     },
     "execution_count": 35,
     "metadata": {},
     "output_type": "execute_result"
    }
   ],
   "source": [
    "rajasthan['District_Name'].nunique()"
   ]
  },
  {
   "cell_type": "code",
   "execution_count": 36,
   "metadata": {},
   "outputs": [],
   "source": [
    "rajasthan_filtered = rajasthan[\n",
    "    (rajasthan['Crop']=='Wheat') | \n",
    "    (rajasthan['Crop']=='Rice')  |\n",
    "    (rajasthan['Crop']=='Jowar')  |\n",
    "    (rajasthan['Crop']=='Bajra')  |\n",
    "    (rajasthan['Crop']=='Cardamom')  |\n",
    "    (rajasthan['Crop']=='Garlic')  |\n",
    "    (rajasthan['Crop']=='Turmeric')  |\n",
    "    (rajasthan['Crop']=='Ginger')  |\n",
    "    (rajasthan['Crop']=='Cotton(lint)')  |\n",
    "    (rajasthan['Crop']=='Linseed')  |\n",
    "    (rajasthan['Crop']=='Sesamum')  |\n",
    "    (rajasthan['Crop']=='Coconut ')  |\n",
    "    (rajasthan['Crop']=='Onion')  |\n",
    "    (rajasthan['Crop']=='Arhar/Tur')  |\n",
    "    (rajasthan['Crop']=='Potato')  |\n",
    "    (rajasthan['Crop']=='Maize')  \n",
    "]"
   ]
  },
  {
   "cell_type": "code",
   "execution_count": 37,
   "metadata": {},
   "outputs": [
    {
     "name": "stdout",
     "output_type": "stream",
     "text": [
      "<class 'pandas.core.frame.DataFrame'>\n",
      "Int64Index: 4684 entries, 164440 to 176953\n",
      "Data columns (total 7 columns):\n",
      " #   Column         Non-Null Count  Dtype  \n",
      "---  ------         --------------  -----  \n",
      " 0   State_Name     4684 non-null   object \n",
      " 1   District_Name  4684 non-null   object \n",
      " 2   Crop_Year      4684 non-null   int64  \n",
      " 3   Season         4684 non-null   object \n",
      " 4   Crop           4684 non-null   object \n",
      " 5   Area           4684 non-null   float64\n",
      " 6   Production     4684 non-null   float64\n",
      "dtypes: float64(2), int64(1), object(4)\n",
      "memory usage: 292.8+ KB\n"
     ]
    }
   ],
   "source": [
    "rajasthan_filtered.info()"
   ]
  },
  {
   "cell_type": "code",
   "execution_count": 55,
   "metadata": {},
   "outputs": [
    {
     "data": {
      "text/plain": [
       "Index(['State_Name', 'District_Name', 'Crop_Year', 'Season', 'Crop', 'Area',\n",
       "       'Production'],\n",
       "      dtype='object')"
      ]
     },
     "execution_count": 55,
     "metadata": {},
     "output_type": "execute_result"
    }
   ],
   "source": [
    "rajasthan_filtered.columns"
   ]
  },
  {
   "cell_type": "code",
   "execution_count": 38,
   "metadata": {},
   "outputs": [],
   "source": [
    "rajasthan_filtered_ohe = pd.get_dummies(rajasthan_filtered, columns=['District_Name', 'Season','Crop'],drop_first=True)"
   ]
  },
  {
   "cell_type": "code",
   "execution_count": 39,
   "metadata": {},
   "outputs": [
    {
     "data": {
      "text/html": [
       "<div>\n",
       "<style scoped>\n",
       "    .dataframe tbody tr th:only-of-type {\n",
       "        vertical-align: middle;\n",
       "    }\n",
       "\n",
       "    .dataframe tbody tr th {\n",
       "        vertical-align: top;\n",
       "    }\n",
       "\n",
       "    .dataframe thead th {\n",
       "        text-align: right;\n",
       "    }\n",
       "</style>\n",
       "<table border=\"1\" class=\"dataframe\">\n",
       "  <thead>\n",
       "    <tr style=\"text-align: right;\">\n",
       "      <th></th>\n",
       "      <th>State_Name</th>\n",
       "      <th>Crop_Year</th>\n",
       "      <th>Area</th>\n",
       "      <th>Production</th>\n",
       "      <th>District_Name_ALWAR</th>\n",
       "      <th>District_Name_BANSWARA</th>\n",
       "      <th>District_Name_BARAN</th>\n",
       "      <th>District_Name_BARMER</th>\n",
       "      <th>District_Name_BHARATPUR</th>\n",
       "      <th>District_Name_BHILWARA</th>\n",
       "      <th>...</th>\n",
       "      <th>Crop_Garlic</th>\n",
       "      <th>Crop_Jowar</th>\n",
       "      <th>Crop_Linseed</th>\n",
       "      <th>Crop_Maize</th>\n",
       "      <th>Crop_Onion</th>\n",
       "      <th>Crop_Potato</th>\n",
       "      <th>Crop_Rice</th>\n",
       "      <th>Crop_Sesamum</th>\n",
       "      <th>Crop_Turmeric</th>\n",
       "      <th>Crop_Wheat</th>\n",
       "    </tr>\n",
       "  </thead>\n",
       "  <tbody>\n",
       "    <tr>\n",
       "      <th>164440</th>\n",
       "      <td>Rajasthan</td>\n",
       "      <td>1997</td>\n",
       "      <td>56600.0</td>\n",
       "      <td>30400.0</td>\n",
       "      <td>0</td>\n",
       "      <td>0</td>\n",
       "      <td>0</td>\n",
       "      <td>0</td>\n",
       "      <td>0</td>\n",
       "      <td>0</td>\n",
       "      <td>...</td>\n",
       "      <td>0</td>\n",
       "      <td>0</td>\n",
       "      <td>0</td>\n",
       "      <td>0</td>\n",
       "      <td>0</td>\n",
       "      <td>0</td>\n",
       "      <td>0</td>\n",
       "      <td>0</td>\n",
       "      <td>0</td>\n",
       "      <td>0</td>\n",
       "    </tr>\n",
       "    <tr>\n",
       "      <th>164441</th>\n",
       "      <td>Rajasthan</td>\n",
       "      <td>1997</td>\n",
       "      <td>16000.0</td>\n",
       "      <td>31176.0</td>\n",
       "      <td>0</td>\n",
       "      <td>0</td>\n",
       "      <td>0</td>\n",
       "      <td>0</td>\n",
       "      <td>0</td>\n",
       "      <td>0</td>\n",
       "      <td>...</td>\n",
       "      <td>0</td>\n",
       "      <td>0</td>\n",
       "      <td>0</td>\n",
       "      <td>0</td>\n",
       "      <td>0</td>\n",
       "      <td>0</td>\n",
       "      <td>0</td>\n",
       "      <td>0</td>\n",
       "      <td>0</td>\n",
       "      <td>0</td>\n",
       "    </tr>\n",
       "    <tr>\n",
       "      <th>164443</th>\n",
       "      <td>Rajasthan</td>\n",
       "      <td>1997</td>\n",
       "      <td>105900.0</td>\n",
       "      <td>34600.0</td>\n",
       "      <td>0</td>\n",
       "      <td>0</td>\n",
       "      <td>0</td>\n",
       "      <td>0</td>\n",
       "      <td>0</td>\n",
       "      <td>0</td>\n",
       "      <td>...</td>\n",
       "      <td>0</td>\n",
       "      <td>1</td>\n",
       "      <td>0</td>\n",
       "      <td>0</td>\n",
       "      <td>0</td>\n",
       "      <td>0</td>\n",
       "      <td>0</td>\n",
       "      <td>0</td>\n",
       "      <td>0</td>\n",
       "      <td>0</td>\n",
       "    </tr>\n",
       "    <tr>\n",
       "      <th>164444</th>\n",
       "      <td>Rajasthan</td>\n",
       "      <td>1997</td>\n",
       "      <td>43600.0</td>\n",
       "      <td>33100.0</td>\n",
       "      <td>0</td>\n",
       "      <td>0</td>\n",
       "      <td>0</td>\n",
       "      <td>0</td>\n",
       "      <td>0</td>\n",
       "      <td>0</td>\n",
       "      <td>...</td>\n",
       "      <td>0</td>\n",
       "      <td>0</td>\n",
       "      <td>0</td>\n",
       "      <td>1</td>\n",
       "      <td>0</td>\n",
       "      <td>0</td>\n",
       "      <td>0</td>\n",
       "      <td>0</td>\n",
       "      <td>0</td>\n",
       "      <td>0</td>\n",
       "    </tr>\n",
       "    <tr>\n",
       "      <th>164445</th>\n",
       "      <td>Rajasthan</td>\n",
       "      <td>1997</td>\n",
       "      <td>2800.0</td>\n",
       "      <td>4500.0</td>\n",
       "      <td>0</td>\n",
       "      <td>0</td>\n",
       "      <td>0</td>\n",
       "      <td>0</td>\n",
       "      <td>0</td>\n",
       "      <td>0</td>\n",
       "      <td>...</td>\n",
       "      <td>0</td>\n",
       "      <td>0</td>\n",
       "      <td>0</td>\n",
       "      <td>0</td>\n",
       "      <td>1</td>\n",
       "      <td>0</td>\n",
       "      <td>0</td>\n",
       "      <td>0</td>\n",
       "      <td>0</td>\n",
       "      <td>0</td>\n",
       "    </tr>\n",
       "  </tbody>\n",
       "</table>\n",
       "<p>5 rows × 50 columns</p>\n",
       "</div>"
      ],
      "text/plain": [
       "       State_Name  Crop_Year      Area  Production  District_Name_ALWAR  \\\n",
       "164440  Rajasthan       1997   56600.0     30400.0                    0   \n",
       "164441  Rajasthan       1997   16000.0     31176.0                    0   \n",
       "164443  Rajasthan       1997  105900.0     34600.0                    0   \n",
       "164444  Rajasthan       1997   43600.0     33100.0                    0   \n",
       "164445  Rajasthan       1997    2800.0      4500.0                    0   \n",
       "\n",
       "        District_Name_BANSWARA  District_Name_BARAN  District_Name_BARMER  \\\n",
       "164440                       0                    0                     0   \n",
       "164441                       0                    0                     0   \n",
       "164443                       0                    0                     0   \n",
       "164444                       0                    0                     0   \n",
       "164445                       0                    0                     0   \n",
       "\n",
       "        District_Name_BHARATPUR  District_Name_BHILWARA  ...  Crop_Garlic  \\\n",
       "164440                        0                       0  ...            0   \n",
       "164441                        0                       0  ...            0   \n",
       "164443                        0                       0  ...            0   \n",
       "164444                        0                       0  ...            0   \n",
       "164445                        0                       0  ...            0   \n",
       "\n",
       "        Crop_Jowar  Crop_Linseed  Crop_Maize  Crop_Onion  Crop_Potato  \\\n",
       "164440           0             0           0           0            0   \n",
       "164441           0             0           0           0            0   \n",
       "164443           1             0           0           0            0   \n",
       "164444           0             0           1           0            0   \n",
       "164445           0             0           0           1            0   \n",
       "\n",
       "        Crop_Rice  Crop_Sesamum  Crop_Turmeric  Crop_Wheat  \n",
       "164440          0             0              0           0  \n",
       "164441          0             0              0           0  \n",
       "164443          0             0              0           0  \n",
       "164444          0             0              0           0  \n",
       "164445          0             0              0           0  \n",
       "\n",
       "[5 rows x 50 columns]"
      ]
     },
     "execution_count": 39,
     "metadata": {},
     "output_type": "execute_result"
    }
   ],
   "source": [
    "rajasthan_filtered_ohe.head()"
   ]
  },
  {
   "cell_type": "code",
   "execution_count": 56,
   "metadata": {},
   "outputs": [
    {
     "data": {
      "text/plain": [
       "Index(['State_Name', 'Crop_Year', 'Area', 'Production', 'District_Name_ALWAR',\n",
       "       'District_Name_BANSWARA', 'District_Name_BARAN', 'District_Name_BARMER',\n",
       "       'District_Name_BHARATPUR', 'District_Name_BHILWARA',\n",
       "       'District_Name_BIKANER', 'District_Name_BUNDI',\n",
       "       'District_Name_CHITTORGARH', 'District_Name_CHURU',\n",
       "       'District_Name_DAUSA', 'District_Name_DHOLPUR',\n",
       "       'District_Name_DUNGARPUR', 'District_Name_GANGANAGAR',\n",
       "       'District_Name_HANUMANGARH', 'District_Name_JAIPUR',\n",
       "       'District_Name_JAISALMER', 'District_Name_JALORE',\n",
       "       'District_Name_JHALAWAR', 'District_Name_JHUNJHUNU',\n",
       "       'District_Name_JODHPUR', 'District_Name_KARAULI', 'District_Name_KOTA',\n",
       "       'District_Name_NAGAUR', 'District_Name_PALI',\n",
       "       'District_Name_PRATAPGARH', 'District_Name_RAJSAMAND',\n",
       "       'District_Name_SAWAI MADHOPUR', 'District_Name_SIKAR',\n",
       "       'District_Name_SIROHI', 'District_Name_TONK', 'District_Name_UDAIPUR',\n",
       "       'Season_Rabi       ', 'Season_Whole Year ', 'Crop_Bajra',\n",
       "       'Crop_Cotton(lint)', 'Crop_Garlic', 'Crop_Jowar', 'Crop_Linseed',\n",
       "       'Crop_Maize', 'Crop_Onion', 'Crop_Potato', 'Crop_Rice', 'Crop_Sesamum',\n",
       "       'Crop_Turmeric', 'Crop_Wheat'],\n",
       "      dtype='object')"
      ]
     },
     "execution_count": 56,
     "metadata": {},
     "output_type": "execute_result"
    }
   ],
   "source": [
    "rajasthan_filtered_ohe.columns"
   ]
  },
  {
   "cell_type": "code",
   "execution_count": 40,
   "metadata": {},
   "outputs": [],
   "source": [
    "X = rajasthan_filtered_ohe.drop(['State_Name','Crop_Year','Production'],axis=1).values"
   ]
  },
  {
   "cell_type": "code",
   "execution_count": 41,
   "metadata": {},
   "outputs": [],
   "source": [
    "y = rajasthan_filtered_ohe.iloc[:,3].values"
   ]
  },
  {
   "cell_type": "code",
   "execution_count": 42,
   "metadata": {},
   "outputs": [
    {
     "data": {
      "text/plain": [
       "array([3.0400e+04, 3.1176e+04, 3.4600e+04, ..., 3.6000e+01, 7.0000e+00,\n",
       "       9.5000e+01])"
      ]
     },
     "execution_count": 42,
     "metadata": {},
     "output_type": "execute_result"
    }
   ],
   "source": [
    "y"
   ]
  },
  {
   "cell_type": "code",
   "execution_count": 43,
   "metadata": {},
   "outputs": [],
   "source": [
    "from sklearn.model_selection import train_test_split"
   ]
  },
  {
   "cell_type": "code",
   "execution_count": 44,
   "metadata": {},
   "outputs": [],
   "source": [
    "X_train, X_test, y_train, y_test = train_test_split(X, y, test_size=0.3)"
   ]
  },
  {
   "cell_type": "code",
   "execution_count": 45,
   "metadata": {},
   "outputs": [],
   "source": [
    "from sklearn.linear_model import LinearRegression,Lasso\n",
    "linear_regression = LinearRegression()\n",
    "lasso = Lasso()"
   ]
  },
  {
   "cell_type": "code",
   "execution_count": 46,
   "metadata": {},
   "outputs": [
    {
     "name": "stderr",
     "output_type": "stream",
     "text": [
      "C:\\Users\\CHATANAYA\\Anaconda3\\lib\\site-packages\\sklearn\\linear_model\\_coordinate_descent.py:531: ConvergenceWarning: Objective did not converge. You might want to increase the number of iterations. Duality gap: 306339420072.41797, tolerance: 3289392863.158283\n",
      "  positive)\n"
     ]
    },
    {
     "data": {
      "text/plain": [
       "Lasso()"
      ]
     },
     "execution_count": 46,
     "metadata": {},
     "output_type": "execute_result"
    }
   ],
   "source": [
    "linear_regression.fit(X_train,y_train)\n",
    "lasso.fit(X_train,y_train)"
   ]
  },
  {
   "cell_type": "code",
   "execution_count": 47,
   "metadata": {},
   "outputs": [],
   "source": [
    "from sklearn.ensemble import RandomForestRegressor\n",
    "rfregressor = RandomForestRegressor()"
   ]
  },
  {
   "cell_type": "code",
   "execution_count": 48,
   "metadata": {},
   "outputs": [
    {
     "data": {
      "text/plain": [
       "RandomForestRegressor()"
      ]
     },
     "execution_count": 48,
     "metadata": {},
     "output_type": "execute_result"
    }
   ],
   "source": [
    "rfregressor.fit(X_train,y_train)"
   ]
  },
  {
   "cell_type": "code",
   "execution_count": 49,
   "metadata": {},
   "outputs": [],
   "source": [
    "y_pred = rfregressor.predict(X_test)"
   ]
  },
  {
   "cell_type": "code",
   "execution_count": 50,
   "metadata": {},
   "outputs": [
    {
     "name": "stdout",
     "output_type": "stream",
     "text": [
      "88.54846835422731 %\n"
     ]
    }
   ],
   "source": [
    "accuracy = rfregressor.score(X_test,y_test)\n",
    "print(accuracy*100,'%')"
   ]
  },
  {
   "cell_type": "code",
   "execution_count": 51,
   "metadata": {},
   "outputs": [
    {
     "name": "stdout",
     "output_type": "stream",
     "text": [
      "65.34606189694398 %\n"
     ]
    }
   ],
   "source": [
    "accuracy = linear_regression.score(X_test,y_test)\n",
    "print(accuracy*100,'%')"
   ]
  },
  {
   "cell_type": "code",
   "execution_count": 52,
   "metadata": {},
   "outputs": [
    {
     "name": "stdout",
     "output_type": "stream",
     "text": [
      "65.34033486131274 %\n"
     ]
    }
   ],
   "source": [
    "accuracy = lasso.score(X_test,y_test)\n",
    "print(accuracy*100,'%')"
   ]
  },
  {
   "cell_type": "code",
   "execution_count": 59,
   "metadata": {},
   "outputs": [
    {
     "data": {
      "text/plain": [
       "0.8854846835422732"
      ]
     },
     "execution_count": 59,
     "metadata": {},
     "output_type": "execute_result"
    }
   ],
   "source": [
    "filename = 'Rajasthan_Model.sav'\n",
    "pickle.dump(rfregressor, open(filename, 'wb'))\n",
    " \n",
    "# load the model from disk\n",
    "loaded_model = pickle.load(open(filename, 'rb'))\n",
    "result = loaded_model.score(X_test, y_test)\n",
    "result"
   ]
  },
  {
   "cell_type": "code",
   "execution_count": 53,
   "metadata": {},
   "outputs": [],
   "source": [
    "import matplotlib.pyplot as plt\n",
    "%matplotlib inline"
   ]
  },
  {
   "cell_type": "code",
   "execution_count": 54,
   "metadata": {},
   "outputs": [
    {
     "data": {
      "text/plain": [
       "[<matplotlib.lines.Line2D at 0x2c5e513ac50>]"
      ]
     },
     "execution_count": 54,
     "metadata": {},
     "output_type": "execute_result"
    },
    {
     "data": {
      "image/png": "[encoded data removed]",
      "text/plain": [
       "<Figure size 1152x432 with 1 Axes>"
      ]
     },
     "metadata": {
      "needs_background": "light"
     },
     "output_type": "display_data"
    }
   ],
   "source": [
    "plt.figure(figsize=(16,6))\n",
    "plt.plot(y_test,color='blue')\n",
    "plt.plot(y_pred,color='orange')"
   ]
  },
  {
   "cell_type": "code",
   "execution_count": null,
   "metadata": {},
   "outputs": [],
   "source": []
  }
 ],
 "metadata": {
  "kernelspec": {
   "display_name": "Python 3",
   "language": "python",
   "name": "python3"
  },
  "language_info": {
   "codemirror_mode": {
    "name": "ipython",
    "version": 3
   },
   "file_extension": ".py",
   "mimetype": "text/x-python",
   "name": "python",
   "nbconvert_exporter": "python",
   "pygments_lexer": "ipython3",
   "version": "3.7.1"
  }
 },
 "nbformat": 4,
 "nbformat_minor": 4
}
